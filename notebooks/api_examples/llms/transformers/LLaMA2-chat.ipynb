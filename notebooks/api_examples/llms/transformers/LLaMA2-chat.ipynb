{
 "cells": [
  {
   "attachments": {},
   "cell_type": "markdown",
   "metadata": {},
   "source": [
    "# LLaMA2-Chat Guidance\n",
    "\n",
    "This notebook shows how to control the <a href=\"https://ai.meta.com/llama/\">LLaMA</a> model using the guidance library. Note that this notebook uses a <a href=\"https://huggingface.co/meta-llama/Llama-2-7b-chat-hf\">Transformers version of the model</a>, so please check out the special license terms noted on the HuggingFace model page before downloading."
   ]
  },
  {
   "cell_type": "code",
   "execution_count": null,
   "metadata": {},
   "outputs": [],
   "source": [
    "import torch\n",
    "import guidance\n",
    "from transformers import BitsAndBytesConfig\n",
    "\n",
    "# create a quantization config\n",
    "qconfig = BitsAndBytesConfig(\n",
    "    load_in_4bit=True,\n",
    "    bnb_4bit_use_double_quant=True,\n",
    "    bnb_4bit_compute_dtype=torch.float16,\n",
    ")\n",
    "\n",
    "# load the LLaMA2 Chat model\n",
    "# create a hf token, and add it to your system\n",
    "llm = guidance.llms.transformers.LLaMAChat(\n",
    "    \"meta-llama/Llama-2-7b-chat-hf\",\n",
    "    quantization_config=qconfig,\n",
    "    low_cpu_mem_usage=True,\n",
    "    use_auth_token=True,\n",
    "    device_map=\"auto\",\n",
    "    torch_dtype=torch.float16,\n",
    ")  # use cuda for GPU if you have >27GB of VRAM"
   ]
  },
  {
   "cell_type": "code",
   "execution_count": null,
   "metadata": {},
   "outputs": [],
   "source": [
    "# A prompt to generate 5 ways to cook pasta\n",
    "# These chat models require a temperature > 0\n",
    "\n",
    "PROMPT = \"\"\"\n",
    "{{#system~}}\n",
    "You are a helpful, kind and truthful AI assistant. \n",
    "{{~/system}}\n",
    "\n",
    "{{#user~}}\n",
    "I want to {{goal}}.\n",
    "Can you please generate one option for how to accomplish this?\n",
    "Please make the option very short, at most one line.\n",
    "{{~/user}}\n",
    "\n",
    "{{#assistant~}}\n",
    "{{gen 'options' temperature=0.3 max_tokens=900 n=5}}\n",
    "{{~/assistant}}\n",
    "\"\"\"\n",
    "\n",
    "program = guidance(PROMPT, llm=llm)\n",
    "executed_program = program(goal=\"cook pasta\")\n",
    "\n",
    "executed_program[\"options\"]"
   ]
  },
  {
   "attachments": {},
   "cell_type": "markdown",
   "metadata": {},
   "source": [
    "<hr style=\"height: 1px; opacity: 0.5; border: none; background: #cccccc;\">\n",
    "<div style=\"text-align: center; opacity: 0.5\">Have an idea for more helpful examples? Pull requests that add to this documentation notebook are encouraged!</div>"
   ]
  }
 ],
 "metadata": {
  "kernelspec": {
   "display_name": "adatest",
   "language": "python",
   "name": "python3"
  },
  "language_info": {
   "codemirror_mode": {
    "name": "ipython",
    "version": 3
   },
   "file_extension": ".py",
   "mimetype": "text/x-python",
   "name": "python",
   "nbconvert_exporter": "python",
   "pygments_lexer": "ipython3",
   "version": "3.11.4"
  },
  "orig_nbformat": 4
 },
 "nbformat": 4,
 "nbformat_minor": 2
}

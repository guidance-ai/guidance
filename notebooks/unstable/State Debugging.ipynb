{
 "cells": [
  {
   "cell_type": "code",
   "execution_count": 1,
   "id": "d7d1e6967616e177",
   "metadata": {
    "ExecuteTime": {
     "end_time": "2024-10-11T22:50:52.915277Z",
     "start_time": "2024-10-11T22:50:52.730830Z"
    }
   },
   "outputs": [],
   "source": [
    "import stitch"
   ]
  },
  {
   "cell_type": "code",
   "execution_count": 2,
   "id": "1ec02432-a44d-4fdb-b44c-b153529fc03d",
   "metadata": {
    "ExecuteTime": {
     "end_time": "2024-10-20T19:58:31.247827Z",
     "start_time": "2024-10-20T19:58:24.650343Z"
    }
   },
   "outputs": [
    {
     "name": "stderr",
     "output_type": "stream",
     "text": [
      "/Users/samueljenkins/dev/guidance-dev/venv/lib/python3.9/site-packages/urllib3/__init__.py:35: NotOpenSSLWarning: urllib3 v2 only supports OpenSSL 1.1.1+, currently the 'ssl' module is compiled with 'LibreSSL 2.8.3'. See: https://github.com/urllib3/urllib3/issues/3020\n",
      "  warnings.warn(\n"
     ]
    }
   ],
   "source": [
    "from guidance.models import Transformers\n",
    "from guidance import gen, user, system\n",
    "\n",
    "import logging\n",
    "logging.basicConfig(format='%(asctime)s - %(levelname)s - %(message)s',\n",
    "                    datefmt='%Y-%m-%d %H:%M:%S')\n",
    "logging.getLogger().setLevel(logging.DEBUG)"
   ]
  },
  {
   "cell_type": "code",
   "execution_count": 6,
   "id": "18b70f42-4b6d-41a4-94be-a41360571901",
   "metadata": {},
   "outputs": [
    {
     "data": {
      "application/vnd.jupyter.widget-view+json": {
       "model_id": "ed0ad5ac277c4702b21ff8fdc9494dcf",
       "version_major": 2,
       "version_minor": 0
      },
      "text/plain": [
       "StitchWidget(initial_height='auto', initial_width='100%', srcdoc='<!doctype html>\\n<html lang=\"en\">\\n<head>\\n …"
      ]
     },
     "metadata": {},
     "output_type": "display_data"
    },
    {
     "name": "stderr",
     "output_type": "stream",
     "text": [
      "2024-10-21 00:33:38 - DEBUG - start gen(name=\"suffix\")\n",
      "2024-10-21 00:33:38 - DEBUG - finish gen\n",
      "2024-10-21 00:33:38 - DEBUG - start Model._run_stateless\n",
      "2024-10-21 00:33:38 - DEBUG - SEND:ready\n",
      "2024-10-21 00:33:38 - DEBUG - finish Model._run_stateless\n",
      "2024-10-21 00:33:38 - DEBUG - CELL:executed:message_id=201 class_name='ExecutionCompletedMessage' last_trace_id=69\n",
      "2024-10-21 00:33:38 - DEBUG - ENGINE:message_id=201 class_name='ExecutionCompletedMessage' last_trace_id=69\n",
      "2024-10-21 00:33:38 - DEBUG - JUPYTER:changed:8eea1d49-65c5-4f25-a863-5d7000948161|7\n",
      "2024-10-21 00:33:38 - DEBUG - ENGINE:final_text:<|im_start|>system\n",
      "You are responsible for writing an epic poem.<|im_end|>\n",
      "<|im_start|>user\n",
      "Roses are red and white and blue and red and\n",
      "2024-10-21 00:33:38 - DEBUG - RENDER:execution completed out\n",
      "2024-10-21 00:33:38 - DEBUG - RENDER:execution completed\n",
      "2024-10-21 00:33:38 - DEBUG - RECV:clientready\n",
      "2024-10-21 00:33:38 - DEBUG - ENGINE:message_id=208 class_name='ClientReadyMessage'\n",
      "2024-10-21 00:33:38 - DEBUG - JUPYTER:changed:b5537f3f-cafc-4815-9da1-413e814172bd|7\n"
     ]
    }
   ],
   "source": [
    "m0 = Transformers(\"gpt2\")\n",
    "# m0 = Transformers(\"microsoft/Phi-3-mini-4k-instruct\")\n",
    "# m1 = m0 + \"Alms for the \" + gen(name=\"suffix\", max_tokens=5, stop='\\n')\n",
    "\n",
    "with system():\n",
    "    # m1 = m0 + \"You are responsible for autocompleting a sentence.\"\n",
    "    m1 = m0 + \"You are responsible for writing an epic poem.\"\n",
    "with user():\n",
    "    m2 = m1 + \"Roses are red and \" + gen(name=\"suffix\", regex=r'[\\w\\s]{20,30}', max_tokens=30)\n",
    "    # m2 = m1 + \"Roses are red and \" + gen(name=\"suffix\", regex=r'[\\w\\s]+{100}', max_tokens=500)\n",
    "    # m2 = m1 + \"Once upon a time\" + gen(name=\"end\", max_tokens=500)\n",
    "# m3 = m2 + \">:(\"\n",
    "\n",
    "# with user():\n",
    "#     m3 = m2 + \"\\nWhat can I do?\"\n",
    "\n",
    "# m1 = m0 + f\"Hi there {gen(name='name', max_tokens=10, regex='[A-Za-z]{3,5}')}\"\n",
    "# m2 = m0 + f\"You can't stop \" + gen(name='name', max_tokens=10, regex='[A-Za-z]{3,5}')\n",
    "\n",
    "# with system():\n",
    "#     m3 = m0 + \"You are responsible for autocompleting a sentence.\"\n",
    "\n",
    "# with user():\n",
    "#     m4 = m3 + \"The sun is rising \" + gen(name='sentence_suffix', max_tokens=3)\n",
    "\n",
    "# m2.html()"
   ]
  },
  {
   "cell_type": "code",
   "execution_count": 4,
   "id": "5a5d668a11bda28f",
   "metadata": {},
   "outputs": [
    {
     "data": {
      "application/vnd.jupyter.widget-view+json": {
       "model_id": "7bc266ab105a4e1ebac84a5ccf374e93",
       "version_major": 2,
       "version_minor": 0
      },
      "text/plain": [
       "StitchWidget(initial_height='auto', initial_width='100%', srcdoc='<!doctype html>\\n<html lang=\"en\">\\n<head>\\n …"
      ]
     },
     "metadata": {},
     "output_type": "display_data"
    },
    {
     "name": "stderr",
     "output_type": "stream",
     "text": [
      "2024-10-21 00:23:55 - DEBUG - CELL:executed:message_id=70 class_name='ExecutionCompletedMessage' last_trace_id=25\n",
      "2024-10-21 00:23:55 - DEBUG - ENGINE:message_id=70 class_name='ExecutionCompletedMessage' last_trace_id=25\n",
      "2024-10-21 00:23:55 - DEBUG - JUPYTER:changed:4a597956-2fce-418b-9cd4-7442bfc9dea2|5\n",
      "2024-10-21 00:23:55 - DEBUG - SEND:ready\n",
      "2024-10-21 00:23:55 - DEBUG - ENGINE:final_text:What is this?\n",
      "2024-10-21 00:23:55 - DEBUG - RENDER:execution completed out\n",
      "2024-10-21 00:23:55 - DEBUG - RENDER:execution completed\n",
      "2024-10-21 00:23:55 - DEBUG - RECV:clientready\n",
      "2024-10-21 00:23:55 - DEBUG - ENGINE:message_id=77 class_name='ClientReadyMessage'\n",
      "2024-10-21 00:23:55 - DEBUG - JUPYTER:changed:196b33d5-8401-4388-ba99-d49248536afb|5\n"
     ]
    }
   ],
   "source": [
    "from guidance import legacy_mode\n",
    "legacy_mode(False)\n",
    "\n",
    "m5 = Transformers(\"gpt2\")\n",
    "m6 = m5 + \"What is this?\""
   ]
  },
  {
   "cell_type": "code",
   "execution_count": null,
   "id": "235109a1-e1de-4303-bb0b-d7f9931a421c",
   "metadata": {},
   "outputs": [],
   "source": []
  }
 ],
 "metadata": {
  "kernelspec": {
   "display_name": "Python 3 (ipykernel)",
   "language": "python",
   "name": "python3"
  },
  "language_info": {
   "codemirror_mode": {
    "name": "ipython",
    "version": 3
   },
   "file_extension": ".py",
   "mimetype": "text/x-python",
   "name": "python",
   "nbconvert_exporter": "python",
   "pygments_lexer": "ipython3",
   "version": "3.9.6"
  }
 },
 "nbformat": 4,
 "nbformat_minor": 5
}

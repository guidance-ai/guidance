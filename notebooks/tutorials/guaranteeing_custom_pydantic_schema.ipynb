{
 "cells": [
  {
   "cell_type": "markdown",
   "metadata": {},
   "source": [
    "# Guaranteeing Custom Pydantic Schema\n",
    "\n",
    "It is becoming increasingly important that models can output a custom schema that is guaranteed to compile. This notebook presents a framework for generating arbitrary schema outputs based on Pydantic's `BaseModel`."
   ]
  },
  {
   "cell_type": "code",
   "execution_count": 4,
   "metadata": {},
   "outputs": [
    {
     "data": {
      "text/plain": [
       "{'title': 'SteakhouseOrder',\n",
       " 'description': 'Inputs for create_steak_order function for a fictional steakhouse',\n",
       " 'type': 'object',\n",
       " 'properties': {'table_number': {'title': 'Table Number',\n",
       "   'description': 'What table the order will be going to',\n",
       "   'type': 'integer'},\n",
       "  'customer_name': {'title': 'Customer Name',\n",
       "   'description': 'Name of the customer',\n",
       "   'type': 'string'},\n",
       "  'cooked': {'title': 'Cooked',\n",
       "   'description': 'How long to cook the steak, i.e. Medium, Rare, Well-done',\n",
       "   'type': 'string'},\n",
       "  'sides': {'title': 'Sides',\n",
       "   'description': 'Any sides that they may have ordered',\n",
       "   'type': 'string'},\n",
       "  'additional_requests': {'title': 'Additional Requests',\n",
       "   'description': 'Any additional info that is helpful for the order',\n",
       "   'type': 'string'}},\n",
       " 'required': ['table_number',\n",
       "  'customer_name',\n",
       "  'cooked',\n",
       "  'sides',\n",
       "  'additional_requests']}"
      ]
     },
     "execution_count": 4,
     "metadata": {},
     "output_type": "execute_result"
    }
   ],
   "source": [
    "# Creating our Pydantic BaseModel class\n",
    "from pydantic import BaseModel, Field\n",
    "\n",
    "class SteakhouseOrder(BaseModel):\n",
    "    \"\"\"Inputs for create_steak_order function for a fictional steakhouse\"\"\"\n",
    "\n",
    "    table_number: int = Field(description=\"What table the order will be going to\")\n",
    "    customer_name: str = Field(description=\"Name of the customer\")\n",
    "    cooked: str = Field(description=\"How long to cook the steak, i.e. Medium, Rare, Well-done\")\n",
    "    sides: str = Field(\n",
    "        description=\"Any sides that they may have ordered\"\n",
    "    )\n",
    "    additional_requests: str = Field(\n",
    "        description=\"Any additional info that is helpful for the order\"\n",
    "    )\n",
    "\n",
    "SteakhouseOrder.schema()"
   ]
  },
  {
   "cell_type": "markdown",
   "metadata": {},
   "source": [
    "### Guidance Functions to Generate Values\n",
    "\n",
    "Below, `gen_properties` is the function that will generate the value for each pydantic property using the `gen` function. `generate_with_schema` takes in a user prompt through `user_instructions` and then generates the properties using the user input and pydantic schema definition. "
   ]
  },
  {
   "cell_type": "code",
   "execution_count": 49,
   "metadata": {},
   "outputs": [],
   "source": [
    "import guidance\n",
    "from guidance import models, gen\n",
    "\n",
    "@guidance\n",
    "def gen_properties(lm, props):\n",
    "\n",
    "    first = True\n",
    "    for key, value in props.get(\"properties\").items():\n",
    "        lm += f'''{\",\" if not first else \"\"}\n",
    "        {{\n",
    "            \"title\": \"{value.get('title')}\",\n",
    "            \"key\": \"{key}\",\n",
    "            \"description\": \"{value.get('description')}\",\n",
    "            \"type\": \"{value.get('type')}\",\n",
    "            \"value\": ''' + gen(\"prop_value\", stop=\"\\n\")\n",
    "        \n",
    "        + f'''\n",
    "        }}\n",
    "        '''\n",
    "        first = False\n",
    "    \n",
    "    return lm\n",
    "\n",
    "@guidance\n",
    "def generate_with_schema(\n",
    "    lm,\n",
    "    user_instructions,\n",
    "    schema\n",
    "):\n",
    "    lm += f'''\\\n",
    "\n",
    "    User instructions: {user_instructions}\n",
    "\n",
    "    Result JSON:\n",
    "    {{\n",
    "        \"props\": [{gen_properties(schema)}]\n",
    "    }}'''\n",
    "    return lm"
   ]
  },
  {
   "cell_type": "code",
   "execution_count": null,
   "metadata": {},
   "outputs": [],
   "source": [
    "# Load our model\n",
    "model = 'mistralai/Mistral-7B-v0.1'\n",
    "device = 'cuda'\n",
    "lm = models.Transformers(model, device=device)"
   ]
  },
  {
   "cell_type": "code",
   "execution_count": 56,
   "metadata": {},
   "outputs": [
    {
     "data": {
      "text/html": [
       "<pre style='margin: 0px; padding: 0px; vertical-align: middle; padding-left: 8px; margin-left: -8px; border-radius: 0px; border-left: 1px solid rgba(127, 127, 127, 0.2); white-space: pre-wrap; font-family: ColfaxAI, Arial; font-size: 15px; line-height: 23px;'>\n",
       "User instructions: Create an order for John at table 9 for a medium-rare steak with a side of greenbeans. He has an almond allergy so be careful.\n",
       "\n",
       "Result JSON:\n",
       "{\n",
       "    &quot;props&quot;: [\n",
       "{\n",
       "    &quot;title&quot;: &quot;Table Number&quot;,\n",
       "    &quot;key&quot;: &quot;table_number&quot;,\n",
       "    &quot;description&quot;: &quot;What table the order will be going to&quot;,\n",
       "    &quot;type&quot;: &quot;integer&quot;,\n",
       "    &quot;value&quot;:<span style='background-color: rgba(0.0, 165.0, 0, 0.15); border-radius: 3px;' title='1.0'> </span><span style='background-color: rgba(0.0, 165.0, 0, 0.15); border-radius: 3px;' title='1.0'>9</span>\n",
       "}\n",
       ",\n",
       "{\n",
       "    &quot;title&quot;: &quot;Customer Name&quot;,\n",
       "    &quot;key&quot;: &quot;customer_name&quot;,\n",
       "    &quot;description&quot;: &quot;Name of the customer&quot;,\n",
       "    &quot;type&quot;: &quot;string&quot;,\n",
       "    &quot;value&quot;:<span style='background-color: rgba(0.0, 165.0, 0, 0.15); border-radius: 3px;' title='1.0'> &quot;</span><span style='background-color: rgba(0.0, 165.0, 0, 0.15); border-radius: 3px;' title='1.0'>John</span><span style='background-color: rgba(0.0, 165.0, 0, 0.15); border-radius: 3px;' title='1.0'>&quot;</span>\n",
       "}\n",
       ",\n",
       "{\n",
       "    &quot;title&quot;: &quot;Cooked&quot;,\n",
       "    &quot;key&quot;: &quot;cooked&quot;,\n",
       "    &quot;description&quot;: &quot;How long to cook the steak, i.e. Medium, Rare, Well-done&quot;,\n",
       "    &quot;type&quot;: &quot;string&quot;,\n",
       "    &quot;value&quot;:<span style='background-color: rgba(0.0, 165.0, 0, 0.15); border-radius: 3px;' title='1.0'> &quot;</span><span style='background-color: rgba(0.0, 165.0, 0, 0.15); border-radius: 3px;' title='1.0'>Med</span><span style='background-color: rgba(0.0, 165.0, 0, 0.15); border-radius: 3px;' title='1.0'>ium</span><span style='background-color: rgba(0.0, 165.0, 0, 0.15); border-radius: 3px;' title='1.0'>-</span><span style='background-color: rgba(0.0, 165.0, 0, 0.15); border-radius: 3px;' title='1.0'>r</span><span style='background-color: rgba(0.0, 165.0, 0, 0.15); border-radius: 3px;' title='1.0'>are</span><span style='background-color: rgba(0.0, 165.0, 0, 0.15); border-radius: 3px;' title='1.0'>&quot;</span>\n",
       "}\n",
       ",\n",
       "{\n",
       "    &quot;title&quot;: &quot;Sides&quot;,\n",
       "    &quot;key&quot;: &quot;sides&quot;,\n",
       "    &quot;description&quot;: &quot;Any sides that they may have ordered&quot;,\n",
       "    &quot;type&quot;: &quot;string&quot;,\n",
       "    &quot;value&quot;:<span style='background-color: rgba(0.0, 165.0, 0, 0.15); border-radius: 3px;' title='1.0'> &quot;</span><span style='background-color: rgba(0.0, 165.0, 0, 0.15); border-radius: 3px;' title='1.0'>Green</span><span style='background-color: rgba(0.0, 165.0, 0, 0.15); border-radius: 3px;' title='1.0'>beans</span><span style='background-color: rgba(0.0, 165.0, 0, 0.15); border-radius: 3px;' title='1.0'>&quot;</span>\n",
       "}\n",
       ",\n",
       "{\n",
       "    &quot;title&quot;: &quot;Additional Requests&quot;,\n",
       "    &quot;key&quot;: &quot;additional_requests&quot;,\n",
       "    &quot;description&quot;: &quot;Any additional info that is helpful for the order&quot;,\n",
       "    &quot;type&quot;: &quot;string&quot;,\n",
       "    &quot;value&quot;:<span style='background-color: rgba(0.0, 165.0, 0, 0.15); border-radius: 3px;' title='1.0'> &quot;</span><span style='background-color: rgba(0.0, 165.0, 0, 0.15); border-radius: 3px;' title='1.0'>No</span><span style='background-color: rgba(0.0, 165.0, 0, 0.15); border-radius: 3px;' title='1.0'> al</span><span style='background-color: rgba(0.0, 165.0, 0, 0.15); border-radius: 3px;' title='1.0'>mond</span><span style='background-color: rgba(0.0, 165.0, 0, 0.15); border-radius: 3px;' title='1.0'>s</span><span style='background-color: rgba(0.0, 165.0, 0, 0.15); border-radius: 3px;' title='1.0'>&quot;</span>\n",
       "}\n",
       "]\n",
       "}</pre>"
      ],
      "text/plain": [
       "<IPython.core.display.HTML object>"
      ]
     },
     "metadata": {},
     "output_type": "display_data"
    }
   ],
   "source": [
    "generation = lm + generate_with_schema(\n",
    "    user_instructions=\"Create an order for John at table 9 for a medium-rare steak with a side of greenbeans. He has an almond allergy so be careful.\", \n",
    "    schema=SteakhouseOrder.schema()\n",
    ")"
   ]
  },
  {
   "cell_type": "markdown",
   "metadata": {},
   "source": [
    "### Extracting Generated JSON and Pydantic output\n",
    "\n",
    "Now that we have generated the values for our `SteahouseOrder`, we can extract them by using the `json` library and parsing out the JSON keys and values. We can then create a new instance of our Pydantic class with these generated values."
   ]
  },
  {
   "cell_type": "code",
   "execution_count": 55,
   "metadata": {},
   "outputs": [
    {
     "name": "stdout",
     "output_type": "stream",
     "text": [
      "{'table_number': 9, 'customer_name': 'John', 'cooked': 'Medium-rare', 'sides': 'Greenbeans', 'additional_requests': 'No almonds'}\n",
      "table_number=9 customer_name='John' cooked='Medium-rare' sides='Greenbeans' additional_requests='No almonds'\n"
     ]
    }
   ],
   "source": [
    "import json\n",
    "\n",
    "# Extract the output from our result JSON\n",
    "def parse_lm_output(lm_out):\n",
    "    gen_str = generation.__str__()\n",
    "\n",
    "    json_string_indicator = \"Result JSON:\"\n",
    "    json_start_index = gen_str.find(json_string_indicator) + len(json_string_indicator) + 1\n",
    "    full_json = gen_str[json_start_index:]\n",
    "\n",
    "    gen_json = json.loads(full_json)\n",
    "    final_json = {}\n",
    "\n",
    "    for prop in gen_json['props']:\n",
    "        final_json[prop['key']] = prop['value']\n",
    "\n",
    "    return final_json\n",
    "\n",
    "final_order = parse_lm_output(generation)\n",
    "\n",
    "# Resulting output in dictionary\n",
    "print(final_order)\n",
    "\n",
    "# Resulting output in our original class\n",
    "print(SteakhouseOrder(**final_order))"
   ]
  }
 ],
 "metadata": {
  "kernelspec": {
   "display_name": "py_3.10",
   "language": "python",
   "name": "python3"
  },
  "language_info": {
   "codemirror_mode": {
    "name": "ipython",
    "version": 3
   },
   "file_extension": ".py",
   "mimetype": "text/x-python",
   "name": "python",
   "nbconvert_exporter": "python",
   "pygments_lexer": "ipython3",
   "version": "3.10.13"
  }
 },
 "nbformat": 4,
 "nbformat_minor": 2
}

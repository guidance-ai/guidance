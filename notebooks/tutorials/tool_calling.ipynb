{
 "cells": [
  {
   "cell_type": "markdown",
   "id": "213de727",
   "metadata": {},
   "source": [
    "# Defining Tools"
   ]
  },
  {
   "cell_type": "markdown",
   "id": "c3f35cc5",
   "metadata": {},
   "source": [
    "A `Tool` consists of:\n",
    "1. A name that is used to uniquely identify the tool so the LM can specify which tool it intends to call\n",
    "2. A description that is used to help indicate to the LM when it is appropriate to call the tool\n",
    "3. A callable that is executed when the tool is actually called\n",
    "4. A constraint that ensures that the LM's *output* is a valid *input* to the callable"
   ]
  },
  {
   "cell_type": "markdown",
   "id": "a124195a",
   "metadata": {},
   "source": [
    "## Functions\n",
    "The most common type of tool is defined by a function.\n",
    "\n",
    "The constraint on the LM's output can be specified by a JSON schema, where the JSON schema should have type `object` and have `properties` matching the names of the function's arguments.\n",
    "\n",
    "Note: positional-only and variadic arguments are not yet supported."
   ]
  },
  {
   "cell_type": "code",
   "execution_count": 1,
   "id": "b9cc9c1a",
   "metadata": {},
   "outputs": [],
   "source": [
    "import random\n",
    "from typing import Literal\n",
    "\n",
    "def get_weather_func(city: str, unit: Literal[\"celsius\", \"fahrenheit\"] = \"celsius\") -> str:\n",
    "    \"\"\"\n",
    "    Get the current weather for a given city.\n",
    "    \"\"\"\n",
    "    temp = random.randint(-10, 35)\n",
    "    if temp <= 0:\n",
    "        weather = \"snowy\"\n",
    "    elif temp <= 20:\n",
    "        weather = \"cloudy\"\n",
    "    else:\n",
    "        weather = \"sunny\"\n",
    "    if unit == \"fahrenheit\":\n",
    "        temp = temp * 9/5 + 32\n",
    "    return f\"The current temperature in {city} is {temp} degrees {unit} and it is {weather}.\""
   ]
  },
  {
   "cell_type": "markdown",
   "id": "8d0669f5",
   "metadata": {},
   "source": [
    "`Tool.from_callable` takes a function and creates a `Tool` object.\n",
    "\n",
    "- The name of the tool will be inferred from the function's name\n",
    "- The description of the tool will be inferred from the function's docstring\n",
    "- The JSON schema of the parameters will be inferred from any type annotations"
   ]
  },
  {
   "cell_type": "code",
   "execution_count": 2,
   "id": "6219b79a",
   "metadata": {},
   "outputs": [
    {
     "data": {
      "text/plain": [
       "{'name': 'get_weather_func',\n",
       " 'description': 'Get the current weather for a given city.',\n",
       " 'tool': {'type': 'function',\n",
       "  'parameters': {'additionalProperties': False,\n",
       "   'properties': {'city': {'title': 'City', 'type': 'string'},\n",
       "    'unit': {'enum': ['celsius', 'fahrenheit'],\n",
       "     'title': 'Unit',\n",
       "     'type': 'string'}},\n",
       "   'required': ['city', 'unit'],\n",
       "   'title': 'get_weather_func',\n",
       "   'type': 'object'}},\n",
       " 'callable': <function __main__.get_weather_func(city: str, unit: Literal['celsius', 'fahrenheit'] = 'celsius') -> str>,\n",
       " 'exc_formatter': None}"
      ]
     },
     "execution_count": 2,
     "metadata": {},
     "output_type": "execute_result"
    }
   ],
   "source": [
    "from guidance import Tool\n",
    "\n",
    "Tool.from_callable(\n",
    "    callable=get_weather_func\n",
    ").model_dump()"
   ]
  },
  {
   "cell_type": "markdown",
   "id": "e3d8d745",
   "metadata": {},
   "source": [
    "The name, description, and parameters (may be a JSON schema or a pydantic.BaseModel class) can optionally be specified directly: "
   ]
  },
  {
   "cell_type": "code",
   "execution_count": 3,
   "id": "b044ab9f",
   "metadata": {},
   "outputs": [
    {
     "data": {
      "text/plain": [
       "{'name': 'get_weather',\n",
       " 'description': 'Get the current weather for a given city.',\n",
       " 'tool': {'type': 'function',\n",
       "  'parameters': {'additionalProperties': False,\n",
       "   'properties': {'city': {'description': 'The name of the city to get the weather for.',\n",
       "     'title': 'City',\n",
       "     'type': 'string'},\n",
       "    'unit': {'description': 'The unit of temperature to return.',\n",
       "     'enum': ['celsius', 'fahrenheit'],\n",
       "     'title': 'Unit',\n",
       "     'type': 'string'}},\n",
       "   'required': ['city', 'unit'],\n",
       "   'title': 'GetWeatherArgs',\n",
       "   'type': 'object'}},\n",
       " 'callable': <function __main__.get_weather_func(city: str, unit: Literal['celsius', 'fahrenheit'] = 'celsius') -> str>,\n",
       " 'exc_formatter': None}"
      ]
     },
     "execution_count": 3,
     "metadata": {},
     "output_type": "execute_result"
    }
   ],
   "source": [
    "from pydantic import BaseModel, Field, ConfigDict\n",
    "\n",
    "class GetWeatherArgs(BaseModel):\n",
    "    city: str = Field(description=\"The name of the city to get the weather for.\")\n",
    "    unit: Literal[\"celsius\", \"fahrenheit\"] = Field(description=\"The unit of temperature to return.\")\n",
    "\n",
    "    model_config = ConfigDict(\n",
    "        extra=\"forbid\", # Disallow extra fields -- required for OpenAI\n",
    "    )\n",
    "\n",
    "get_weather_tool = Tool.from_callable(\n",
    "    callable=get_weather_func,\n",
    "    name=\"get_weather\",\n",
    "    description=\"Get the current weather for a given city.\",\n",
    "    parameters=GetWeatherArgs,\n",
    ")\n",
    "get_weather_tool.model_dump()"
   ]
  },
  {
   "cell_type": "markdown",
   "id": "f96d4e0b",
   "metadata": {},
   "source": [
    "## Custom Tools"
   ]
  },
  {
   "cell_type": "markdown",
   "id": "f1b96a80",
   "metadata": {},
   "source": [
    "### Regex tools\n",
    "We can use a regex to define the type of structured input that our tool expects. In this example, our tool is a `whois` lookup that expects a well-formatted url.\n",
    "\n",
    "Note that unlike `Tool.from_callable`, the callable passed to `Tool.from_regex` must take exactly one argument, which will be passed as a *string matching the given regex*."
   ]
  },
  {
   "cell_type": "code",
   "execution_count": 4,
   "id": "3efdd015",
   "metadata": {},
   "outputs": [
    {
     "data": {
      "text/plain": [
       "{'name': 'whois_lookup',\n",
       " 'description': 'A tool that performs a WHOIS lookup on a domain.',\n",
       " 'tool': {'type': 'custom',\n",
       "  'format': {'type': 'grammar',\n",
       "   'syntax': 'regex',\n",
       "   'definition': 'https?:\\\\/\\\\/[^\\\\s]+'}},\n",
       " 'callable': <function __main__.whois_lookup(url: str) -> str>,\n",
       " 'exc_formatter': None}"
      ]
     },
     "execution_count": 4,
     "metadata": {},
     "output_type": "execute_result"
    }
   ],
   "source": [
    "import subprocess\n",
    "from urllib.parse import urlparse\n",
    "\n",
    "def whois_lookup(url: str) -> str:\n",
    "    domain = urlparse(url).netloc\n",
    "    result = subprocess.run([\"whois\", domain], capture_output=True, text=True, timeout=30)\n",
    "    return result.stdout\n",
    "\n",
    "whois_tool = Tool.from_regex(\n",
    "    pattern=r\"https?:\\/\\/[^\\s]+\",\n",
    "    callable=whois_lookup,\n",
    "    name=\"whois_lookup\",\n",
    "    description=\"A tool that performs a WHOIS lookup on a domain.\",\n",
    ")\n",
    "whois_tool.model_dump()"
   ]
  },
  {
   "cell_type": "markdown",
   "id": "b3619d85",
   "metadata": {},
   "source": [
    "### Guidance grammar tools\n",
    "In addition to regex tools, we can define guidance grammars that constrain the model's output to match our tool's expected input format.\n",
    "\n",
    "Below, we define a grammar that describes simple arithmetic expressions, and our tool will evaluate these expressions as python numbers.\n",
    "\n",
    "Again, note that the callable passed to `Tool.from_grammar` must take exactly one argument, which will be passed as a *string matching the given grammar*."
   ]
  },
  {
   "cell_type": "code",
   "execution_count": 5,
   "id": "9b7a11f2",
   "metadata": {},
   "outputs": [],
   "source": [
    "from guidance import guidance, select, regex\n",
    "\n",
    "@guidance(stateless=True)\n",
    "def expression(lm):\n",
    "    return lm + select([\n",
    "        term(),\n",
    "        expression() + \"+\" + term(),\n",
    "        expression() + \"-\" + term(),\n",
    "    ])\n",
    "\n",
    "@guidance(stateless=True)\n",
    "def term(lm):\n",
    "    return lm + select([\n",
    "        factor(),\n",
    "        term() + \"*\" + factor(),\n",
    "        term() + \"/\" + factor(),\n",
    "    ])\n",
    "\n",
    "@guidance(stateless=True)\n",
    "def factor(lm):\n",
    "    return lm + select([number(), \"(\" + expression() + \")\"])\n",
    "\n",
    "@guidance(stateless=True)\n",
    "def number(lm):\n",
    "    return lm + regex(r'\\d+(\\.\\d+)?')"
   ]
  },
  {
   "cell_type": "code",
   "execution_count": 6,
   "id": "01edab91",
   "metadata": {},
   "outputs": [
    {
     "data": {
      "text/plain": [
       "{'name': 'calculator',\n",
       " 'description': 'A calculator that can evaluate mathematical expressions.',\n",
       " 'tool': {'type': 'custom',\n",
       "  'format': {'type': 'grammar',\n",
       "   'syntax': 'lark',\n",
       "   'definition': '%llguidance {}\\n\\nstart: expression\\n\\nexpression: term\\n     | expression \"+\" term\\n     | expression \"-\" term\\n\\nterm: factor\\n     | term \"*\" factor\\n     | term \"/\" factor\\n\\nfactor: NUMBER\\n     | \"(\" expression \")\"\\n\\nNUMBER: /\\\\d+(\\\\.\\\\d+)?/\\n'}},\n",
       " 'callable': <function __main__.evaluate_expression(expr: str) -> Union[int, float]>,\n",
       " 'exc_formatter': None}"
      ]
     },
     "execution_count": 6,
     "metadata": {},
     "output_type": "execute_result"
    }
   ],
   "source": [
    "from sympy import sympify\n",
    "from ast import literal_eval\n",
    "from typing import Union\n",
    "\n",
    "def evaluate_expression(expr: str) -> Union[int, float]:\n",
    "    sympy_expr = sympify(expr)\n",
    "    if not sympy_expr.is_number:\n",
    "        raise ValueError(f\"Invalid expression: {expr}\")\n",
    "    return literal_eval(str(sympy_expr))\n",
    "\n",
    "calculator = Tool.from_grammar(\n",
    "    grammar=expression(),\n",
    "    callable=evaluate_expression,\n",
    "    name=\"calculator\",\n",
    "    description=\"A calculator that can evaluate mathematical expressions.\",\n",
    ")\n",
    "calculator.model_dump()"
   ]
  },
  {
   "cell_type": "markdown",
   "id": "f08d0caf",
   "metadata": {},
   "source": [
    "### Lark tools\n",
    "Under the hood, guidance grammars just compile down to a [lark-like syntax for describing context free grammars](https://github.com/guidance-ai/llguidance/blob/main/docs/syntax.md).\n",
    "\n",
    "We can create a tool using this lark syntax directly. Note that the same caveats about arguments to the callable still apply.\n"
   ]
  },
  {
   "cell_type": "code",
   "execution_count": 7,
   "id": "1be0b540",
   "metadata": {},
   "outputs": [
    {
     "data": {
      "text/plain": [
       "{'name': 'calculator',\n",
       " 'description': 'A calculator that can evaluate mathematical expressions.',\n",
       " 'tool': {'type': 'custom',\n",
       "  'format': {'type': 'grammar',\n",
       "   'syntax': 'lark',\n",
       "   'definition': '\\nstart: expression\\n\\nexpression: term\\n     | expression \"+\" term\\n     | expression \"-\" term\\n\\nterm: factor\\n     | term \"*\" factor\\n     | term \"/\" factor\\n\\nfactor: NUMBER\\n     | \"(\" expression \")\"\\n\\nNUMBER: /\\\\d+(\\\\.\\\\d+)?/\\n'}},\n",
       " 'callable': <function __main__.evaluate_expression(expr: str) -> Union[int, float]>,\n",
       " 'exc_formatter': None}"
      ]
     },
     "execution_count": 7,
     "metadata": {},
     "output_type": "execute_result"
    }
   ],
   "source": [
    "lark = r\"\"\"\n",
    "start: expression\n",
    "\n",
    "expression: term\n",
    "     | expression \"+\" term\n",
    "     | expression \"-\" term\n",
    "\n",
    "term: factor\n",
    "     | term \"*\" factor\n",
    "     | term \"/\" factor\n",
    "\n",
    "factor: NUMBER\n",
    "     | \"(\" expression \")\"\n",
    "\n",
    "NUMBER: /\\d+(\\.\\d+)?/\n",
    "\"\"\"\n",
    "\n",
    "calculator_tool = Tool.from_lark(\n",
    "    lark=lark,\n",
    "    callable=evaluate_expression,\n",
    "    name=\"calculator\",\n",
    "    description=\"A calculator that can evaluate mathematical expressions.\",\n",
    ")\n",
    "calculator_tool.model_dump()"
   ]
  },
  {
   "cell_type": "markdown",
   "id": "0b78a7e1",
   "metadata": {},
   "source": [
    "# Calling Tools"
   ]
  },
  {
   "cell_type": "code",
   "execution_count": 8,
   "id": "25e643e0",
   "metadata": {},
   "outputs": [],
   "source": [
    "tools = [\n",
    "    get_weather_tool,\n",
    "    whois_tool,\n",
    "    calculator_tool,\n",
    "]"
   ]
  },
  {
   "cell_type": "markdown",
   "id": "03c68755",
   "metadata": {},
   "source": [
    "Most remote models have native support for tool-calling with function (JSON-specified) tools.\n",
    "\n",
    "With OpenAI's release of GPT-5, [they additionally support tools that are specified by regex or lark-style context free grammars](https://platform.openai.com/docs/guides/function-calling#custom-tools). In these cases, model sampling is constrained using [LLGuidance](https://github.com/guidance-ai/llguidance/blob/main/docs/syntax.md)\n",
    "\n",
    "To allow our LM to use our tools, we simply pass them in a list as an argument to `gen`. If the LM wants to call one of our tools, `guidance` will handle the callback for us:"
   ]
  },
  {
   "cell_type": "code",
   "execution_count": 9,
   "id": "bbfeb08a",
   "metadata": {},
   "outputs": [
    {
     "data": {
      "application/vnd.jupyter.widget-view+json": {
       "model_id": "eb690b726dae4cff86c7c908a4522526",
       "version_major": 2,
       "version_minor": 0
      },
      "text/plain": [
       "StitchWidget(initial_height='auto', initial_width='100%', srcdoc='<!doctype html>\\n<html lang=\"en\">\\n<head>\\n …"
      ]
     },
     "metadata": {},
     "output_type": "display_data"
    }
   ],
   "source": [
    "from guidance.models import OpenAI\n",
    "from guidance import user, assistant, gen\n",
    "lm = OpenAI(\"gpt-5-mini\")\n",
    "\n",
    "with user():\n",
    "    lm += \"What is the weather like in San Francisco?\"\n",
    "with assistant():\n",
    "    lm += gen(tools=tools, tool_choice=\"required\")\n",
    "with assistant():\n",
    "    lm += gen()"
   ]
  },
  {
   "cell_type": "markdown",
   "id": "75554733",
   "metadata": {},
   "source": [
    "You may notice that the tool call is wrapped in `<function={name}>...</function>` tags and the result is wrapped in `<function_result>..</function_result>` tags. This is purely for visualization purposes, as OpenAI uses a structured representation under the hood which we (somewhat arbitrarily) represent as a string above."
   ]
  },
  {
   "cell_type": "code",
   "execution_count": 10,
   "id": "a94270de",
   "metadata": {},
   "outputs": [
    {
     "data": {
      "application/vnd.jupyter.widget-view+json": {
       "model_id": "6ebaf346ec6e440095629a6e2150469c",
       "version_major": 2,
       "version_minor": 0
      },
      "text/plain": [
       "StitchWidget(initial_height='auto', initial_width='100%', srcdoc='<!doctype html>\\n<html lang=\"en\">\\n<head>\\n …"
      ]
     },
     "metadata": {},
     "output_type": "display_data"
    }
   ],
   "source": [
    "lm = OpenAI(\"gpt-5-mini\")\n",
    "\n",
    "with user():\n",
    "    lm += \"If Johnny has 5 apples and gives 2 to Mary, how many apples does he have left?\"\n",
    "with assistant():\n",
    "    lm += gen(tools=tools, tool_choice=\"required\")\n",
    "with assistant():\n",
    "    lm += gen()"
   ]
  },
  {
   "cell_type": "code",
   "execution_count": 11,
   "id": "387d3cac",
   "metadata": {},
   "outputs": [
    {
     "data": {
      "application/vnd.jupyter.widget-view+json": {
       "model_id": "0061c601100049f7b1578f13ab854067",
       "version_major": 2,
       "version_minor": 0
      },
      "text/plain": [
       "StitchWidget(initial_height='auto', initial_width='100%', srcdoc='<!doctype html>\\n<html lang=\"en\">\\n<head>\\n …"
      ]
     },
     "metadata": {},
     "output_type": "display_data"
    }
   ],
   "source": [
    "lm = OpenAI(\"gpt-5-mini\")\n",
    "\n",
    "with user():\n",
    "    lm += \"Who owns the openai website?\"\n",
    "with assistant():\n",
    "    lm += gen(tools=tools, tool_choice=\"required\")\n",
    "with assistant():\n",
    "    lm += gen()"
   ]
  },
  {
   "cell_type": "markdown",
   "id": "c4bacc4f",
   "metadata": {},
   "source": [
    "## Exception Handling\n",
    "If the callable triggers an exception, the full traceback of the exception will be sent to the model in lieu of the callable's return value"
   ]
  },
  {
   "cell_type": "code",
   "execution_count": 12,
   "id": "5352d8dc",
   "metadata": {},
   "outputs": [
    {
     "data": {
      "application/vnd.jupyter.widget-view+json": {
       "model_id": "43e3730910f84196a387aac5d37926be",
       "version_major": 2,
       "version_minor": 0
      },
      "text/plain": [
       "StitchWidget(initial_height='auto', initial_width='100%', srcdoc='<!doctype html>\\n<html lang=\"en\">\\n<head>\\n …"
      ]
     },
     "metadata": {},
     "output_type": "display_data"
    }
   ],
   "source": [
    "def divide_by_zero():\n",
    "    \"\"\"Divides by zero to trigger an exception (for demonstration purposes)\"\"\"\n",
    "    1 / 0\n",
    "\n",
    "divide_by_zero_tool = Tool.from_callable(divide_by_zero)\n",
    "\n",
    "lm = OpenAI(\"gpt-5-mini\")\n",
    "with user():\n",
    "    lm += \"Divide by zero!\"\n",
    "with assistant():\n",
    "    lm += gen(tools=[divide_by_zero_tool], tool_choice=\"required\")\n",
    "with assistant():\n",
    "    lm += gen()"
   ]
  }
 ],
 "metadata": {
  "kernelspec": {
   "display_name": "guidance-ai (3.10.15)",
   "language": "python",
   "name": "python3"
  },
  "language_info": {
   "codemirror_mode": {
    "name": "ipython",
    "version": 3
   },
   "file_extension": ".py",
   "mimetype": "text/x-python",
   "name": "python",
   "nbconvert_exporter": "python",
   "pygments_lexer": "ipython3",
   "version": "3.10.15"
  }
 },
 "nbformat": 4,
 "nbformat_minor": 5
}

{
 "cells": [
  {
   "cell_type": "markdown",
   "metadata": {},
   "source": [
    "# Guaranteeing Custom Pydantic Schema\n",
    "\n",
    "It is becoming increasingly important that models can output a custom schema that is guaranteed to compile. This notebook presents a framework for generating arbitrary schema outputs based on Pydantic's `BaseModel`."
   ]
  },
  {
   "cell_type": "code",
   "execution_count": 1,
   "metadata": {},
   "outputs": [
    {
     "data": {
      "text/plain": [
       "{'title': 'SteakhouseOrder',\n",
       " 'description': 'Inputs for create_steak_order function for a fictional steakhouse',\n",
       " 'type': 'object',\n",
       " 'properties': {'table_number': {'title': 'Table Number',\n",
       "   'description': 'What table the order will be going to',\n",
       "   'type': 'integer'},\n",
       "  'customer_name': {'title': 'Customer Name',\n",
       "   'description': 'Name of the customer',\n",
       "   'type': 'string'},\n",
       "  'steak': {'title': 'Steak',\n",
       "   'description': 'Steak attributes',\n",
       "   'allOf': [{'$ref': '#/definitions/Steak'}]},\n",
       "  'sides': {'title': 'Sides',\n",
       "   'description': 'Any sides that they may have ordered',\n",
       "   'type': 'array',\n",
       "   'items': {'type': 'string'}}},\n",
       " 'required': ['table_number', 'customer_name', 'steak', 'sides'],\n",
       " 'definitions': {'CookInstructions': {'title': 'CookInstructions',\n",
       "   'description': 'Steak cooking instructions ',\n",
       "   'type': 'object',\n",
       "   'properties': {'doneness': {'title': 'Doneness',\n",
       "     'description': 'How much to cook the steak, i.e. well-done, medium, etc.',\n",
       "     'type': 'string'},\n",
       "    'char_bool': {'title': 'Char Bool',\n",
       "     'description': 'Whether or not to char the steak',\n",
       "     'type': 'boolean'},\n",
       "    'cook_time_minutes': {'title': 'Cook Time Minutes',\n",
       "     'description': 'How long to cook the steak in minutes',\n",
       "     'type': 'integer'}},\n",
       "   'required': ['doneness', 'char_bool', 'cook_time_minutes']},\n",
       "  'Steak': {'title': 'Steak',\n",
       "   'type': 'object',\n",
       "   'properties': {'cook_instructions': {'$ref': '#/definitions/CookInstructions'},\n",
       "    'size_in_oz': {'title': 'Size In Oz',\n",
       "     'description': 'Size of the cut of steak in ounces',\n",
       "     'type': 'integer'}},\n",
       "   'required': ['cook_instructions', 'size_in_oz']}}}"
      ]
     },
     "execution_count": 1,
     "metadata": {},
     "output_type": "execute_result"
    }
   ],
   "source": [
    "# Creating our Pydantic BaseModel class\n",
    "from pydantic import BaseModel, Field\n",
    "from typing import List\n",
    "\n",
    "class CookInstructions(BaseModel):\n",
    "    \"\"\" Steak cooking instructions \"\"\"\n",
    "    doneness: str = Field(description=\"How much to cook the steak, i.e. well-done, medium, etc.\")\n",
    "    char_bool: bool = Field(description=\"Whether or not to char the steak\")\n",
    "    cook_time_minutes: int = Field(description=\"How long to cook the steak in minutes\")\n",
    "\n",
    "class Steak(BaseModel):\n",
    "    cook_instructions: CookInstructions = Field()\n",
    "    size_in_oz: int = Field(description=\"Size of the cut of steak in ounces\")\n",
    "\n",
    "class SteakhouseOrder(BaseModel):\n",
    "    \"\"\"Inputs for create_steak_order function for a fictional steakhouse\"\"\"\n",
    "\n",
    "    table_number: int = Field(description=\"What table the order will be going to\")\n",
    "    customer_name: str = Field(description=\"Name of the customer\")\n",
    "    steak: Steak = Field(description=\"Steak attributes\")\n",
    "    sides: List[str] = Field(\n",
    "        description=\"Any sides that they may have ordered\"\n",
    "    )\n",
    "SteakhouseOrder.schema()"
   ]
  },
  {
   "cell_type": "markdown",
   "metadata": {},
   "source": [
    "### Guidance Functions to Generate Values\n",
    "\n",
    "Below, `gen_properties` is the function that will generate the value for each pydantic property using the `gen` function. `generate_with_schema` takes in a user prompt through `user_instructions` and then generates the properties using the user input and pydantic schema definition. "
   ]
  },
  {
   "cell_type": "code",
   "execution_count": 2,
   "metadata": {},
   "outputs": [
    {
     "name": "stdout",
     "output_type": "stream",
     "text": [
      "/home/telnyxuser/guidance/guidance/__init__.py\n"
     ]
    }
   ],
   "source": [
    "import sys\n",
    "sys.path.insert(0, \"/home/telnyxuser/guidance\")\n",
    "import guidance\n",
    "print(guidance.__file__)"
   ]
  },
  {
   "cell_type": "code",
   "execution_count": 3,
   "metadata": {},
   "outputs": [
    {
     "name": "stderr",
     "output_type": "stream",
     "text": [
      "/opt/conda/envs/py_3.10/lib/python3.10/site-packages/tqdm/auto.py:21: TqdmWarning: IProgress not found. Please update jupyter and ipywidgets. See https://ipywidgets.readthedocs.io/en/stable/user_install.html\n",
      "  from .autonotebook import tqdm as notebook_tqdm\n",
      "Loading checkpoint shards: 100%|██████████| 2/2 [00:15<00:00,  7.82s/it]\n"
     ]
    }
   ],
   "source": [
    "from guidance import models, gen, json\n",
    "\n",
    "# Load our model\n",
    "model = 'mistralai/Mistral-7B-v0.1'\n",
    "lm = models.Transformers(model, device_map='auto')"
   ]
  },
  {
   "cell_type": "code",
   "execution_count": 4,
   "metadata": {},
   "outputs": [
    {
     "data": {
      "text/html": [
       "<pre style='margin: 0px; padding: 0px; vertical-align: middle; padding-left: 8px; margin-left: -8px; border-radius: 0px; border-left: 1px solid rgba(127, 127, 127, 0.2); white-space: pre-wrap; font-family: ColfaxAI, Arial; font-size: 15px; line-height: 23px;'>Create an order for John at table 9 for a medium-rare steak with a side of greenbeans and potatoes. He requested no char. He has an almond allergy so be careful.\n",
       "{\n",
       "&quot;table_number&quot;: <span style='background-color: rgba(0.0, 165.0, 0, 0.15); border-radius: 3px;' title='1.0'>9</span><span style='background-color: rgba(0.0, 165.0, 0, 0.15); border-radius: 3px;' title='1.0'>,</span>\n",
       "&quot;customer_name&quot;: &quot;<span style='background-color: rgba(0.0, 165.0, 0, 0.15); border-radius: 3px;' title='1.0'>John</span>&quot;,\n",
       "&quot;steak&quot;: {\n",
       "&quot;cook_instructions&quot;: {\n",
       "&quot;doneness&quot;: &quot;<span style='background-color: rgba(0.0, 165.0, 0, 0.15); border-radius: 3px;' title='1.0'>medium</span><span style='background-color: rgba(0.0, 165.0, 0, 0.15); border-radius: 3px;' title='1.0'>-</span><span style='background-color: rgba(0.0, 165.0, 0, 0.15); border-radius: 3px;' title='1.0'>r</span><span style='background-color: rgba(0.0, 165.0, 0, 0.15); border-radius: 3px;' title='1.0'>are</span>&quot;,\n",
       "&quot;char_bool&quot;: <span style='background-color: rgba(0.0, 165.0, 0, 0.15); border-radius: 3px;' title='1.0'>false</span>,\n",
       "&quot;cook_time_minutes&quot;: <span style='background-color: rgba(0.0, 165.0, 0, 0.15); border-radius: 3px;' title='1.0'>1</span><span style='background-color: rgba(0.0, 165.0, 0, 0.15); border-radius: 3px;' title='1.0'>0</span>\n",
       "},\n",
       "&quot;size_in_oz&quot;: <span style='background-color: rgba(0.0, 165.0, 0, 0.15); border-radius: 3px;' title='1.0'>1</span><span style='background-color: rgba(0.0, 165.0, 0, 0.15); border-radius: 3px;' title='1.0'>2</span>\n",
       "},\n",
       "&quot;sides&quot;: [&quot;<span style='background-color: rgba(0.0, 165.0, 0, 0.15); border-radius: 3px;' title='1.0'>green</span><span style='background-color: rgba(0.0, 165.0, 0, 0.15); border-radius: 3px;' title='1.0'>beans</span><span style='background-color: rgba(0.0, 165.0, 0, 0.15); border-radius: 3px;' title='1.0'>&quot;,</span><span style='background-color: rgba(0.0, 165.0, 0, 0.15); border-radius: 3px;' title='1.0'> &quot;</span><span style='background-color: rgba(0.0, 165.0, 0, 0.15); border-radius: 3px;' title='1.0'>pot</span><span style='background-color: rgba(0.0, 165.0, 0, 0.15); border-radius: 3px;' title='1.0'>atoes</span>&quot;],\n",
       "}</pre>"
      ],
      "text/plain": [
       "<IPython.core.display.HTML object>"
      ]
     },
     "metadata": {},
     "output_type": "display_data"
    }
   ],
   "source": [
    "generation = lm + \"Create an order for John at table 9 for a medium-rare steak with a side of greenbeans and potatoes. He requested no char. He has an almond allergy so be careful.\\n\" + json(schema=SteakhouseOrder)"
   ]
  },
  {
   "cell_type": "markdown",
   "metadata": {},
   "source": [
    "### Extracting Generated JSON and Pydantic output\n",
    "\n",
    "Now that we have generated the values for our `SteahouseOrder`, we can extract them by using the `json` library and parsing out the JSON keys and values. We can then create a new instance of our Pydantic class with these generated values."
   ]
  },
  {
   "cell_type": "code",
   "execution_count": 7,
   "metadata": {},
   "outputs": [
    {
     "name": "stdout",
     "output_type": "stream",
     "text": [
      "{\n",
      "\"table_number\": 9,\n",
      "\"customer_name\": \"John\",\n",
      "\"steak\": {\n",
      "\"cook_instructions\": {\n",
      "\"doneness\": \"medium-rare\",\n",
      "\"char_bool\": false,\n",
      "\"cook_time_minutes\": 10\n",
      "},\n",
      "\"size_in_oz\": 12\n",
      "},\n",
      "\"sides\": [\"greenbeans\", \"potatoes\"],\n",
      "}\n"
     ]
    },
    {
     "ename": "JSONDecodeError",
     "evalue": "Expecting property name enclosed in double quotes: line 13 column 1 (char 211)",
     "output_type": "error",
     "traceback": [
      "\u001b[0;31m---------------------------------------------------------------------------\u001b[0m",
      "\u001b[0;31mJSONDecodeError\u001b[0m                           Traceback (most recent call last)",
      "\u001b[1;32m/home/telnyxuser/guidance/notebooks/tutorials/guaranteeing_custom_schema.ipynb Cell 8\u001b[0m line \u001b[0;36m2\n\u001b[1;32m     <a href='vscode-notebook-cell://coder.dev.telnyx.com/home/telnyxuser/guidance/notebooks/tutorials/guaranteeing_custom_schema.ipynb#X10sdnNjb2RlLXJlbW90ZQ%3D%3D?line=16'>17</a>\u001b[0m         final_json[prop[\u001b[39m'\u001b[39m\u001b[39mkey\u001b[39m\u001b[39m'\u001b[39m]] \u001b[39m=\u001b[39m prop[\u001b[39m'\u001b[39m\u001b[39mvalue\u001b[39m\u001b[39m'\u001b[39m]\n\u001b[1;32m     <a href='vscode-notebook-cell://coder.dev.telnyx.com/home/telnyxuser/guidance/notebooks/tutorials/guaranteeing_custom_schema.ipynb#X10sdnNjb2RlLXJlbW90ZQ%3D%3D?line=18'>19</a>\u001b[0m     \u001b[39mreturn\u001b[39;00m final_json\n\u001b[0;32m---> <a href='vscode-notebook-cell://coder.dev.telnyx.com/home/telnyxuser/guidance/notebooks/tutorials/guaranteeing_custom_schema.ipynb#X10sdnNjb2RlLXJlbW90ZQ%3D%3D?line=20'>21</a>\u001b[0m final_order \u001b[39m=\u001b[39m parse_lm_output(generation)\n\u001b[1;32m     <a href='vscode-notebook-cell://coder.dev.telnyx.com/home/telnyxuser/guidance/notebooks/tutorials/guaranteeing_custom_schema.ipynb#X10sdnNjb2RlLXJlbW90ZQ%3D%3D?line=22'>23</a>\u001b[0m \u001b[39m# Resulting output in dictionary\u001b[39;00m\n\u001b[1;32m     <a href='vscode-notebook-cell://coder.dev.telnyx.com/home/telnyxuser/guidance/notebooks/tutorials/guaranteeing_custom_schema.ipynb#X10sdnNjb2RlLXJlbW90ZQ%3D%3D?line=23'>24</a>\u001b[0m \u001b[39mprint\u001b[39m(final_order)\n",
      "\u001b[1;32m/home/telnyxuser/guidance/notebooks/tutorials/guaranteeing_custom_schema.ipynb Cell 8\u001b[0m line \u001b[0;36m1\n\u001b[1;32m      <a href='vscode-notebook-cell://coder.dev.telnyx.com/home/telnyxuser/guidance/notebooks/tutorials/guaranteeing_custom_schema.ipynb#X10sdnNjb2RlLXJlbW90ZQ%3D%3D?line=8'>9</a>\u001b[0m full_json \u001b[39m=\u001b[39m gen_str[json_start_index:]\n\u001b[1;32m     <a href='vscode-notebook-cell://coder.dev.telnyx.com/home/telnyxuser/guidance/notebooks/tutorials/guaranteeing_custom_schema.ipynb#X10sdnNjb2RlLXJlbW90ZQ%3D%3D?line=10'>11</a>\u001b[0m \u001b[39mprint\u001b[39m(full_json)\n\u001b[0;32m---> <a href='vscode-notebook-cell://coder.dev.telnyx.com/home/telnyxuser/guidance/notebooks/tutorials/guaranteeing_custom_schema.ipynb#X10sdnNjb2RlLXJlbW90ZQ%3D%3D?line=12'>13</a>\u001b[0m gen_json \u001b[39m=\u001b[39m json\u001b[39m.\u001b[39;49mloads(full_json)\n\u001b[1;32m     <a href='vscode-notebook-cell://coder.dev.telnyx.com/home/telnyxuser/guidance/notebooks/tutorials/guaranteeing_custom_schema.ipynb#X10sdnNjb2RlLXJlbW90ZQ%3D%3D?line=13'>14</a>\u001b[0m final_json \u001b[39m=\u001b[39m {}\n\u001b[1;32m     <a href='vscode-notebook-cell://coder.dev.telnyx.com/home/telnyxuser/guidance/notebooks/tutorials/guaranteeing_custom_schema.ipynb#X10sdnNjb2RlLXJlbW90ZQ%3D%3D?line=15'>16</a>\u001b[0m \u001b[39mfor\u001b[39;00m prop \u001b[39min\u001b[39;00m gen_json[\u001b[39m'\u001b[39m\u001b[39mprops\u001b[39m\u001b[39m'\u001b[39m]:\n",
      "File \u001b[0;32m/opt/conda/envs/py_3.10/lib/python3.10/json/__init__.py:346\u001b[0m, in \u001b[0;36mloads\u001b[0;34m(s, cls, object_hook, parse_float, parse_int, parse_constant, object_pairs_hook, **kw)\u001b[0m\n\u001b[1;32m    341\u001b[0m     s \u001b[39m=\u001b[39m s\u001b[39m.\u001b[39mdecode(detect_encoding(s), \u001b[39m'\u001b[39m\u001b[39msurrogatepass\u001b[39m\u001b[39m'\u001b[39m)\n\u001b[1;32m    343\u001b[0m \u001b[39mif\u001b[39;00m (\u001b[39mcls\u001b[39m \u001b[39mis\u001b[39;00m \u001b[39mNone\u001b[39;00m \u001b[39mand\u001b[39;00m object_hook \u001b[39mis\u001b[39;00m \u001b[39mNone\u001b[39;00m \u001b[39mand\u001b[39;00m\n\u001b[1;32m    344\u001b[0m         parse_int \u001b[39mis\u001b[39;00m \u001b[39mNone\u001b[39;00m \u001b[39mand\u001b[39;00m parse_float \u001b[39mis\u001b[39;00m \u001b[39mNone\u001b[39;00m \u001b[39mand\u001b[39;00m\n\u001b[1;32m    345\u001b[0m         parse_constant \u001b[39mis\u001b[39;00m \u001b[39mNone\u001b[39;00m \u001b[39mand\u001b[39;00m object_pairs_hook \u001b[39mis\u001b[39;00m \u001b[39mNone\u001b[39;00m \u001b[39mand\u001b[39;00m \u001b[39mnot\u001b[39;00m kw):\n\u001b[0;32m--> 346\u001b[0m     \u001b[39mreturn\u001b[39;00m _default_decoder\u001b[39m.\u001b[39;49mdecode(s)\n\u001b[1;32m    347\u001b[0m \u001b[39mif\u001b[39;00m \u001b[39mcls\u001b[39m \u001b[39mis\u001b[39;00m \u001b[39mNone\u001b[39;00m:\n\u001b[1;32m    348\u001b[0m     \u001b[39mcls\u001b[39m \u001b[39m=\u001b[39m JSONDecoder\n",
      "File \u001b[0;32m/opt/conda/envs/py_3.10/lib/python3.10/json/decoder.py:337\u001b[0m, in \u001b[0;36mJSONDecoder.decode\u001b[0;34m(self, s, _w)\u001b[0m\n\u001b[1;32m    332\u001b[0m \u001b[39mdef\u001b[39;00m \u001b[39mdecode\u001b[39m(\u001b[39mself\u001b[39m, s, _w\u001b[39m=\u001b[39mWHITESPACE\u001b[39m.\u001b[39mmatch):\n\u001b[1;32m    333\u001b[0m     \u001b[39m\"\"\"Return the Python representation of ``s`` (a ``str`` instance\u001b[39;00m\n\u001b[1;32m    334\u001b[0m \u001b[39m    containing a JSON document).\u001b[39;00m\n\u001b[1;32m    335\u001b[0m \n\u001b[1;32m    336\u001b[0m \u001b[39m    \"\"\"\u001b[39;00m\n\u001b[0;32m--> 337\u001b[0m     obj, end \u001b[39m=\u001b[39m \u001b[39mself\u001b[39;49m\u001b[39m.\u001b[39;49mraw_decode(s, idx\u001b[39m=\u001b[39;49m_w(s, \u001b[39m0\u001b[39;49m)\u001b[39m.\u001b[39;49mend())\n\u001b[1;32m    338\u001b[0m     end \u001b[39m=\u001b[39m _w(s, end)\u001b[39m.\u001b[39mend()\n\u001b[1;32m    339\u001b[0m     \u001b[39mif\u001b[39;00m end \u001b[39m!=\u001b[39m \u001b[39mlen\u001b[39m(s):\n",
      "File \u001b[0;32m/opt/conda/envs/py_3.10/lib/python3.10/json/decoder.py:353\u001b[0m, in \u001b[0;36mJSONDecoder.raw_decode\u001b[0;34m(self, s, idx)\u001b[0m\n\u001b[1;32m    344\u001b[0m \u001b[39m\"\"\"Decode a JSON document from ``s`` (a ``str`` beginning with\u001b[39;00m\n\u001b[1;32m    345\u001b[0m \u001b[39ma JSON document) and return a 2-tuple of the Python\u001b[39;00m\n\u001b[1;32m    346\u001b[0m \u001b[39mrepresentation and the index in ``s`` where the document ended.\u001b[39;00m\n\u001b[0;32m   (...)\u001b[0m\n\u001b[1;32m    350\u001b[0m \n\u001b[1;32m    351\u001b[0m \u001b[39m\"\"\"\u001b[39;00m\n\u001b[1;32m    352\u001b[0m \u001b[39mtry\u001b[39;00m:\n\u001b[0;32m--> 353\u001b[0m     obj, end \u001b[39m=\u001b[39m \u001b[39mself\u001b[39;49m\u001b[39m.\u001b[39;49mscan_once(s, idx)\n\u001b[1;32m    354\u001b[0m \u001b[39mexcept\u001b[39;00m \u001b[39mStopIteration\u001b[39;00m \u001b[39mas\u001b[39;00m err:\n\u001b[1;32m    355\u001b[0m     \u001b[39mraise\u001b[39;00m JSONDecodeError(\u001b[39m\"\u001b[39m\u001b[39mExpecting value\u001b[39m\u001b[39m\"\u001b[39m, s, err\u001b[39m.\u001b[39mvalue) \u001b[39mfrom\u001b[39;00m \u001b[39mNone\u001b[39m\n",
      "\u001b[0;31mJSONDecodeError\u001b[0m: Expecting property name enclosed in double quotes: line 13 column 1 (char 211)"
     ]
    }
   ],
   "source": [
    "import json\n",
    "\n",
    "# Extract the output from our result JSON\n",
    "def parse_lm_output(lm_out):\n",
    "    gen_str = lm_out.__str__()\n",
    "\n",
    "    json_string_indicator = \"{\"\n",
    "    json_start_index = gen_str.find(json_string_indicator)\n",
    "    full_json = gen_str[json_start_index:]\n",
    "\n",
    "    print(full_json)\n",
    "\n",
    "    gen_json = json.loads(full_json)\n",
    "    final_json = {}\n",
    "\n",
    "    for prop in gen_json['props']:\n",
    "        final_json[prop['key']] = prop['value']\n",
    "\n",
    "    return final_json\n",
    "\n",
    "final_order = parse_lm_output(generation)\n",
    "\n",
    "# Resulting output in dictionary\n",
    "print(final_order)\n",
    "\n",
    "# Resulting output in our original class\n",
    "print(SteakhouseOrder(**final_order))"
   ]
  },
  {
   "cell_type": "code",
   "execution_count": 8,
   "metadata": {},
   "outputs": [],
   "source": [
    "# The above is failing because of the trailing comma."
   ]
  },
  {
   "cell_type": "code",
   "execution_count": null,
   "metadata": {},
   "outputs": [],
   "source": []
  }
 ],
 "metadata": {
  "kernelspec": {
   "display_name": "py_3.10",
   "language": "python",
   "name": "python3"
  },
  "language_info": {
   "codemirror_mode": {
    "name": "ipython",
    "version": 3
   },
   "file_extension": ".py",
   "mimetype": "text/x-python",
   "name": "python",
   "nbconvert_exporter": "python",
   "pygments_lexer": "ipython3",
   "version": "3.10.13"
  }
 },
 "nbformat": 4,
 "nbformat_minor": 2
}

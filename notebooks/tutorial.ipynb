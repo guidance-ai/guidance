{
 "cells": [
  {
   "attachments": {},
   "cell_type": "markdown",
   "metadata": {},
   "source": [
    "# Basic tutorial\n",
    "\n",
    "This notebook is a terse tutorial walkthrough of the syntax of `guidance`."
   ]
  },
  {
   "cell_type": "markdown",
   "metadata": {},
   "source": [
    "## Models\n",
    "\n",
    "At the core of any guidance program are the immutable model objects. You can create an initial model object using any of the constructors under `guidance.models`: "
   ]
  },
  {
   "cell_type": "code",
   "execution_count": 1,
   "metadata": {},
   "outputs": [],
   "source": [
    "from guidance import models\n",
    "\n",
    "# For LlamaCpp, you need to provide the path on disk to a .gguf model\n",
    "# A sample model can be downloaded from\n",
    "# https://huggingface.co/TheBloke/Llama-2-7B-GGUF/blob/main/llama-2-7b.Q5_K_M.gguf\n",
    "llama2 = models.LlamaCpp(\"/models/llama-2-13b.Q5_K_S.gguf\", n_gpu_layers=-1, n_ctx=4096)\n",
    "\n",
    "#llama2 = models.Transformers(\"meta-llama/Llama-2-7b-hf\")\n",
    "#gpt3 = models.OpenAI(\"text-davinci-003\")\n",
    "#palm2 = models.VertexAI(\"text-bison@001\")"
   ]
  },
  {
   "attachments": {},
   "cell_type": "markdown",
   "metadata": {},
   "source": [
    "## Simple generation\n",
    "\n",
    "Once you have an initial model object you can append text to it with the addition operator. This creates a new model object that has the same context (prompt) as the original model, but with the text appended at the end (just like what would happen if you add two strings together)."
   ]
  },
  {
   "cell_type": "code",
   "execution_count": 2,
   "metadata": {},
   "outputs": [
    {
     "data": {
      "text/html": [
       "<pre style='margin: 0px; padding: 0px; padding-left: 8px; margin-left: -8px; border-radius: 0px; border-left: 1px solid rgba(127, 127, 127, 0.2); white-space: pre-wrap; font-family: ColfaxAI, Arial; font-size: 15px; line-height: 23px;'>Who won the last Kentucky derby and by how much?</pre>"
      ],
      "text/plain": [
       "<IPython.core.display.HTML object>"
      ]
     },
     "metadata": {},
     "output_type": "display_data"
    }
   ],
   "source": [
    "lm = llama2 + \"Who won the last Kentucky derby and by how much?\""
   ]
  },
  {
   "cell_type": "markdown",
   "metadata": {},
   "source": [
    "Once you have added some text to the model you can then ask the model to generate unconstrained text using the `gen` guidance function. Guidance functions represent executable components that can be appended to a model. We you append a guidance function to a model the model extends its state by executing the guidance function."
   ]
  },
  {
   "cell_type": "code",
   "execution_count": 3,
   "metadata": {},
   "outputs": [
    {
     "data": {
      "text/html": [
       "<pre style='margin: 0px; padding: 0px; padding-left: 8px; margin-left: -8px; border-radius: 0px; border-left: 1px solid rgba(127, 127, 127, 0.2); white-space: pre-wrap; font-family: ColfaxAI, Arial; font-size: 15px; line-height: 23px;'>Who won the last Kentucky derby and by how much?<span style='background-color: rgba(0, 165, 0, 0.15); border-radius: 3px;' title='0.0'>\n",
       "</span><span style='background-color: rgba(0, 165, 0, 0.15); border-radius: 3px;' title='0.0'>The</span><span style='background-color: rgba(0, 165, 0, 0.15); border-radius: 3px;' title='0.0'> last</span><span style='background-color: rgba(0, 165, 0, 0.15); border-radius: 3px;' title='0.0'> Kentucky</span><span style='background-color: rgba(0, 165, 0, 0.15); border-radius: 3px;' title='0.0'> Derby</span><span style='background-color: rgba(0, 165, 0, 0.15); border-radius: 3px;' title='0.0'> was</span><span style='background-color: rgba(0, 165, 0, 0.15); border-radius: 3px;' title='0.0'> won</span><span style='background-color: rgba(0, 165, 0, 0.15); border-radius: 3px;' title='0.0'> by</span><span style='background-color: rgba(0, 165, 0, 0.15); border-radius: 3px;' title='0.0'> Mine</span><span style='background-color: rgba(0, 165, 0, 0.15); border-radius: 3px;' title='0.0'> That</span><span style='background-color: rgba(0, 165, 0, 0.15); border-radius: 3px;' title='0.0'>\n",
       "</span></pre>"
      ],
      "text/plain": [
       "<IPython.core.display.HTML object>"
      ]
     },
     "metadata": {},
     "output_type": "display_data"
    }
   ],
   "source": [
    "from guidance import gen\n",
    "\n",
    "lm = lm + gen(max_tokens=10)"
   ]
  },
  {
   "cell_type": "markdown",
   "metadata": {},
   "source": [
    "Note that while the `lm` and `llama2` objects are semantically separate, for performance purposes they share the same model weights and KV cache, so the incremental creation of new lm objects is very cheap and reuses all the computation from prior objects.\n",
    "\n",
    "We can add the text and the `gen` function in one statement to follow the traditional prompt-then-generate pattern:"
   ]
  },
  {
   "cell_type": "code",
   "execution_count": 4,
   "metadata": {},
   "outputs": [
    {
     "data": {
      "text/html": [
       "<pre style='margin: 0px; padding: 0px; padding-left: 8px; margin-left: -8px; border-radius: 0px; border-left: 1px solid rgba(127, 127, 127, 0.2); white-space: pre-wrap; font-family: ColfaxAI, Arial; font-size: 15px; line-height: 23px;'>Q: Who won the last Kentucky derby and by how much?\n",
       "A:<span style='background-color: rgba(0, 165, 0, 0.15); border-radius: 3px;' title='0.0'> The</span><span style='background-color: rgba(0, 165, 0, 0.15); border-radius: 3px;' title='0.0'> last</span><span style='background-color: rgba(0, 165, 0, 0.15); border-radius: 3px;' title='0.0'> Kentucky</span><span style='background-color: rgba(0, 165, 0, 0.15); border-radius: 3px;' title='0.0'> Derby</span><span style='background-color: rgba(0, 165, 0, 0.15); border-radius: 3px;' title='0.0'> was</span><span style='background-color: rgba(0, 165, 0, 0.15); border-radius: 3px;' title='0.0'> won</span><span style='background-color: rgba(0, 165, 0, 0.15); border-radius: 3px;' title='0.0'> by</span><span style='background-color: rgba(0, 165, 0, 0.15); border-radius: 3px;' title='0.0'> Mine</span><span style='background-color: rgba(0, 165, 0, 0.15); border-radius: 3px;' title='0.0'> That</span><span style='background-color: rgba(0, 165, 0, 0.15); border-radius: 3px;' title='0.0'> Bird</span><span style='background-color: rgba(0, 165, 0, 0.15); border-radius: 3px;' title='0.0'>.</span><span style='background-color: rgba(0, 165, 0, 0.15); border-radius: 3px;' title='0.0'> He</span><span style='background-color: rgba(0, 165, 0, 0.15); border-radius: 3px;' title='0.0'> won</span><span style='background-color: rgba(0, 165, 0, 0.15); border-radius: 3px;' title='0.0'> by</span><span style='background-color: rgba(0, 165, 0, 0.15); border-radius: 3px;' title='0.0'> </span><span style='background-color: rgba(0, 165, 0, 0.15); border-radius: 3px;' title='0.0'>6</span><span style='background-color: rgba(0, 165, 0, 0.15); border-radius: 3px;' title='0.0'> </span><span style='background-color: rgba(0, 165, 0, 0.15); border-radius: 3px;' title='0.0'>3</span><span style='background-color: rgba(0, 165, 0, 0.15); border-radius: 3px;' title='0.0'>/</span><span style='background-color: rgba(0, 165, 0, 0.15); border-radius: 3px;' title='0.0'>4</span><span style='background-color: rgba(0, 165, 0, 0.15); border-radius: 3px;' title='0.0'> lengths</span><span style='background-color: rgba(0, 165, 0, 0.15); border-radius: 3px;' title='0.0'>.</span><span style='background-color: rgba(0, 165, 0, 0.15); border-radius: 3px;' title='0.0'>\n",
       "</span></pre>"
      ],
      "text/plain": [
       "<guidance.models._llama_cpp.LlamaCpp at 0x7fa391326750>"
      ]
     },
     "execution_count": 4,
     "metadata": {},
     "output_type": "execute_result"
    }
   ],
   "source": [
    "llama2 + '''\\\n",
    "Q: Who won the last Kentucky derby and by how much?\n",
    "A:''' + gen(stop=\"Q:\")"
   ]
  },
  {
   "cell_type": "markdown",
   "metadata": {},
   "source": [
    "## Simple templates\n",
    "\n",
    "You can define a template in `guidance` (v0.1+) using f-strings. You can interpolate both standard variables and also guidance functions. Note that in Python 3.12 you can put anything into f-string slots, but in python 3.11 and below there are a few disallowed chatacters (like backslash)."
   ]
  },
  {
   "cell_type": "code",
   "execution_count": 5,
   "metadata": {},
   "outputs": [
    {
     "data": {
      "text/html": [
       "<pre style='margin: 0px; padding: 0px; padding-left: 8px; margin-left: -8px; border-radius: 0px; border-left: 1px solid rgba(127, 127, 127, 0.2); white-space: pre-wrap; font-family: ColfaxAI, Arial; font-size: 15px; line-height: 23px;'>Q: Who won the last Kentucky derby and by how much?\n",
       "A:<span style='background-color: rgba(0, 165, 0, 0.15); border-radius: 3px;' title='0.0'> The</span><span style='background-color: rgba(0, 165, 0, 0.15); border-radius: 3px;' title='0.0'> last</span><span style='background-color: rgba(0, 165, 0, 0.15); border-radius: 3px;' title='0.0'> Kentucky</span><span style='background-color: rgba(0, 165, 0, 0.15); border-radius: 3px;' title='0.0'> Derby</span><span style='background-color: rgba(0, 165, 0, 0.15); border-radius: 3px;' title='0.0'> was</span><span style='background-color: rgba(0, 165, 0, 0.15); border-radius: 3px;' title='0.0'> won</span><span style='background-color: rgba(0, 165, 0, 0.15); border-radius: 3px;' title='0.0'> by</span><span style='background-color: rgba(0, 165, 0, 0.15); border-radius: 3px;' title='0.0'> Mine</span><span style='background-color: rgba(0, 165, 0, 0.15); border-radius: 3px;' title='0.0'> That</span><span style='background-color: rgba(0, 165, 0, 0.15); border-radius: 3px;' title='0.0'> Bird</span><span style='background-color: rgba(0, 165, 0, 0.15); border-radius: 3px;' title='0.0'>.</span><span style='background-color: rgba(0, 165, 0, 0.15); border-radius: 3px;' title='0.0'> He</span><span style='background-color: rgba(0, 165, 0, 0.15); border-radius: 3px;' title='0.0'> won</span><span style='background-color: rgba(0, 165, 0, 0.15); border-radius: 3px;' title='0.0'> by</span><span style='background-color: rgba(0, 165, 0, 0.15); border-radius: 3px;' title='0.0'> </span><span style='background-color: rgba(0, 165, 0, 0.15); border-radius: 3px;' title='0.0'>6</span><span style='background-color: rgba(0, 165, 0, 0.15); border-radius: 3px;' title='0.0'> </span><span style='background-color: rgba(0, 165, 0, 0.15); border-radius: 3px;' title='0.0'>3</span><span style='background-color: rgba(0, 165, 0, 0.15); border-radius: 3px;' title='0.0'>/</span><span style='background-color: rgba(0, 165, 0, 0.15); border-radius: 3px;' title='0.0'>4</span><span style='background-color: rgba(0, 165, 0, 0.15); border-radius: 3px;' title='0.0'> lengths</span><span style='background-color: rgba(0, 165, 0, 0.15); border-radius: 3px;' title='0.0'>.</span><span style='background-color: rgba(0, 165, 0, 0.15); border-radius: 3px;' title='0.0'>\n",
       "</span></pre>"
      ],
      "text/plain": [
       "<guidance.models._llama_cpp.LlamaCpp at 0x7fa39132a5d0>"
      ]
     },
     "execution_count": 5,
     "metadata": {},
     "output_type": "execute_result"
    }
   ],
   "source": [
    "query = \"Who won the last Kentucky derby and by how much?\"\n",
    "llama2 + f'''\\\n",
    "Q: {query}\n",
    "A: {gen(stop=\"Q:\")}'''"
   ]
  },
  {
   "cell_type": "markdown",
   "metadata": {},
   "source": [
    "## Capturing variables\n",
    "\n",
    "Often when you are building a guidance program you will want to capture specific portions of the output generated by the model. You can do this by giving a name to the element you wish to capture."
   ]
  },
  {
   "cell_type": "code",
   "execution_count": 6,
   "metadata": {},
   "outputs": [
    {
     "data": {
      "text/html": [
       "<pre style='margin: 0px; padding: 0px; padding-left: 8px; margin-left: -8px; border-radius: 0px; border-left: 1px solid rgba(127, 127, 127, 0.2); white-space: pre-wrap; font-family: ColfaxAI, Arial; font-size: 15px; line-height: 23px;'>Q: Who won the last Kentucky derby and by how much?\n",
       "A:<span style='background-color: rgba(0, 165, 0, 0.15); border-radius: 3px;' title='0.0'> The</span><span style='background-color: rgba(0, 165, 0, 0.15); border-radius: 3px;' title='0.0'> last</span><span style='background-color: rgba(0, 165, 0, 0.15); border-radius: 3px;' title='0.0'> Kentucky</span><span style='background-color: rgba(0, 165, 0, 0.15); border-radius: 3px;' title='0.0'> Derby</span><span style='background-color: rgba(0, 165, 0, 0.15); border-radius: 3px;' title='0.0'> was</span><span style='background-color: rgba(0, 165, 0, 0.15); border-radius: 3px;' title='0.0'> won</span><span style='background-color: rgba(0, 165, 0, 0.15); border-radius: 3px;' title='0.0'> by</span><span style='background-color: rgba(0, 165, 0, 0.15); border-radius: 3px;' title='0.0'> Mine</span><span style='background-color: rgba(0, 165, 0, 0.15); border-radius: 3px;' title='0.0'> That</span><span style='background-color: rgba(0, 165, 0, 0.15); border-radius: 3px;' title='0.0'> Bird</span><span style='background-color: rgba(0, 165, 0, 0.15); border-radius: 3px;' title='0.0'>.</span><span style='background-color: rgba(0, 165, 0, 0.15); border-radius: 3px;' title='0.0'> He</span><span style='background-color: rgba(0, 165, 0, 0.15); border-radius: 3px;' title='0.0'> won</span><span style='background-color: rgba(0, 165, 0, 0.15); border-radius: 3px;' title='0.0'> by</span><span style='background-color: rgba(0, 165, 0, 0.15); border-radius: 3px;' title='0.0'> </span><span style='background-color: rgba(0, 165, 0, 0.15); border-radius: 3px;' title='0.0'>6</span><span style='background-color: rgba(0, 165, 0, 0.15); border-radius: 3px;' title='0.0'> </span><span style='background-color: rgba(0, 165, 0, 0.15); border-radius: 3px;' title='0.0'>3</span><span style='background-color: rgba(0, 165, 0, 0.15); border-radius: 3px;' title='0.0'>/</span><span style='background-color: rgba(0, 165, 0, 0.15); border-radius: 3px;' title='0.0'>4</span><span style='background-color: rgba(0, 165, 0, 0.15); border-radius: 3px;' title='0.0'> lengths</span><span style='background-color: rgba(0, 165, 0, 0.15); border-radius: 3px;' title='0.0'>.</span><span style='background-color: rgba(0, 165, 0, 0.15); border-radius: 3px;' title='0.0'>\n",
       "</span></pre>"
      ],
      "text/plain": [
       "<IPython.core.display.HTML object>"
      ]
     },
     "metadata": {},
     "output_type": "display_data"
    }
   ],
   "source": [
    "query = \"Who won the last Kentucky derby and by how much?\"\n",
    "lm = llama2 + f'''\\\n",
    "Q: {query}\n",
    "A: {gen(name=\"answer\", stop=\"Q:\")}'''"
   ]
  },
  {
   "cell_type": "markdown",
   "metadata": {},
   "source": [
    "Then we can access the variable by indexing into the final model object."
   ]
  },
  {
   "cell_type": "code",
   "execution_count": 7,
   "metadata": {},
   "outputs": [
    {
     "data": {
      "text/plain": [
       "'The last Kentucky Derby was won by Mine That Bird. He won by 6 3/4 lengths.\\n'"
      ]
     },
     "execution_count": 7,
     "metadata": {},
     "output_type": "execute_result"
    }
   ],
   "source": [
    "lm[\"answer\"]"
   ]
  },
  {
   "cell_type": "markdown",
   "metadata": {},
   "source": [
    "## Function encapsulation\n",
    "\n",
    "When you have a set of model operations you want to group together, you can place them into a custom guidance function. To do this you define a decorated python function that takes a model as the first positional argument and returns a new updated model. You can add this guidance function to a model to execute it, just like with the buil-in guidance functions like `gen`."
   ]
  },
  {
   "cell_type": "code",
   "execution_count": 8,
   "metadata": {},
   "outputs": [
    {
     "data": {
      "text/html": [
       "<pre style='margin: 0px; padding: 0px; padding-left: 8px; margin-left: -8px; border-radius: 0px; border-left: 1px solid rgba(127, 127, 127, 0.2); white-space: pre-wrap; font-family: ColfaxAI, Arial; font-size: 15px; line-height: 23px;'>Q: Who won the last Kentucky derby and by how much?\n",
       "A:<span style='background-color: rgba(0, 165, 0, 0.15); border-radius: 3px;' title='0.0'> The</span><span style='background-color: rgba(0, 165, 0, 0.15); border-radius: 3px;' title='0.0'> last</span><span style='background-color: rgba(0, 165, 0, 0.15); border-radius: 3px;' title='0.0'> Kentucky</span><span style='background-color: rgba(0, 165, 0, 0.15); border-radius: 3px;' title='0.0'> Derby</span><span style='background-color: rgba(0, 165, 0, 0.15); border-radius: 3px;' title='0.0'> was</span><span style='background-color: rgba(0, 165, 0, 0.15); border-radius: 3px;' title='0.0'> won</span><span style='background-color: rgba(0, 165, 0, 0.15); border-radius: 3px;' title='0.0'> by</span><span style='background-color: rgba(0, 165, 0, 0.15); border-radius: 3px;' title='0.0'> Mine</span><span style='background-color: rgba(0, 165, 0, 0.15); border-radius: 3px;' title='0.0'> That</span><span style='background-color: rgba(0, 165, 0, 0.15); border-radius: 3px;' title='0.0'> Bird</span><span style='background-color: rgba(0, 165, 0, 0.15); border-radius: 3px;' title='0.0'>.</span><span style='background-color: rgba(0, 165, 0, 0.15); border-radius: 3px;' title='0.0'> He</span><span style='background-color: rgba(0, 165, 0, 0.15); border-radius: 3px;' title='0.0'> won</span><span style='background-color: rgba(0, 165, 0, 0.15); border-radius: 3px;' title='0.0'> by</span><span style='background-color: rgba(0, 165, 0, 0.15); border-radius: 3px;' title='0.0'> </span><span style='background-color: rgba(0, 165, 0, 0.15); border-radius: 3px;' title='0.0'>6</span><span style='background-color: rgba(0, 165, 0, 0.15); border-radius: 3px;' title='0.0'> </span><span style='background-color: rgba(0, 165, 0, 0.15); border-radius: 3px;' title='0.0'>3</span><span style='background-color: rgba(0, 165, 0, 0.15); border-radius: 3px;' title='0.0'>/</span><span style='background-color: rgba(0, 165, 0, 0.15); border-radius: 3px;' title='0.0'>4</span><span style='background-color: rgba(0, 165, 0, 0.15); border-radius: 3px;' title='0.0'> lengths</span><span style='background-color: rgba(0, 165, 0, 0.15); border-radius: 3px;' title='0.0'>.</span><span style='background-color: rgba(0, 165, 0, 0.15); border-radius: 3px;' title='0.0'>\n",
       "</span></pre>"
      ],
      "text/plain": [
       "<guidance.models._llama_cpp.LlamaCpp at 0x7fa3913bd550>"
      ]
     },
     "execution_count": 8,
     "metadata": {},
     "output_type": "execute_result"
    }
   ],
   "source": [
    "import guidance\n",
    "\n",
    "@guidance\n",
    "def qa_bot(lm, query):\n",
    "    lm += f'''\\\n",
    "    Q: {query}\n",
    "    A: {gen(name=\"answer\", stop=\"Q:\")}'''\n",
    "    return lm\n",
    "\n",
    "query = \"Who won the last Kentucky derby and by how much?\"\n",
    "llama2 + qa_bot(query) # note we don't pass the `lm` arg here (that will get passed during execution when it gets added to the model)"
   ]
  },
  {
   "cell_type": "markdown",
   "metadata": {},
   "source": [
    "Note that one atypical feature of guidance functions is that multi-line string literals defined inside a guidance function respect the python indentation structure. This means that the whitespace before \"Q:\" and \"A:\" in the prompt above is stripped (but if they were indented 6 spaces instead of 4 spaces then only the first 4 spaces would be stripped, since that is the curent python indentation level). This allows us to define multi-line templates inside guidance functions while retaining indentation readability (if you ever want to disable this behavior you can use `@guidance(dedent=False)`)."
   ]
  },
  {
   "cell_type": "markdown",
   "metadata": {},
   "source": [
    "## Selecting among alternatives\n",
    "\n",
    "Guidance has lots of ways to constrain model generation, but the most basic buliding block is the `select` function that forces the model to chooce between a set of options (either strings or full grammars)."
   ]
  },
  {
   "cell_type": "code",
   "execution_count": 9,
   "metadata": {},
   "outputs": [
    {
     "data": {
      "text/html": [
       "<pre style='margin: 0px; padding: 0px; padding-left: 8px; margin-left: -8px; border-radius: 0px; border-left: 1px solid rgba(127, 127, 127, 0.2); white-space: pre-wrap; font-family: ColfaxAI, Arial; font-size: 15px; line-height: 23px;'>Q: Who won the last Kentucky derby and by how much?\n",
       "Now I will choose to either SEARCH the web or RESPOND.\n",
       "Choice:<span style='background-color: rgba(0, 165, 0, 0.15); border-radius: 3px;' title='0.0'> SE</span>AR<span style='background-color: rgba(0, 165, 0, 0.15); border-radius: 3px;' title='0.0'>CH</span></pre>"
      ],
      "text/plain": [
       "<guidance.models._llama_cpp.LlamaCpp at 0x7fa391328e50>"
      ]
     },
     "execution_count": 9,
     "metadata": {},
     "output_type": "execute_result"
    }
   ],
   "source": [
    "from guidance import select\n",
    "\n",
    "llama2 + f'''\\\n",
    "Q: {query}\n",
    "Now I will choose to either SEARCH the web or RESPOND.\n",
    "Choice: {select([\"SEARCH\", \"RESPOND\"], name=\"choice\")}'''"
   ]
  },
  {
   "cell_type": "markdown",
   "metadata": {},
   "source": [
    "Note that since guidance is smart about when tokens are forced by the program (and so don't need to be predicted by the model) only one token was generated in the program above (the beginning of \"SEARCH\" that is highlighted in green)."
   ]
  },
  {
   "cell_type": "markdown",
   "metadata": {},
   "source": [
    "## Interleaved generation and control\n",
    "\n",
    "Because guidance is pure Python code you can interleave (constrained) generation commands with traditional python control statements. In the example below we first ask the model to decide if it should search the web or respond directly, then act accordingly."
   ]
  },
  {
   "cell_type": "code",
   "execution_count": 10,
   "metadata": {},
   "outputs": [
    {
     "data": {
      "text/html": [
       "<pre style='margin: 0px; padding: 0px; padding-left: 8px; margin-left: -8px; border-radius: 0px; border-left: 1px solid rgba(127, 127, 127, 0.2); white-space: pre-wrap; font-family: ColfaxAI, Arial; font-size: 15px; line-height: 23px;'>Q: Who won the last Kentucky derby and by how much?\n",
       "Now I will choose to either SEARCH the web or RESPOND.\n",
       "Choice:<span style='background-color: rgba(0, 165, 0, 0.15); border-radius: 3px;' title='0.0'> SE</span>ARCH\n",
       "A: I don&#x27;t know, Google it!</pre>"
      ],
      "text/plain": [
       "<guidance.models._llama_cpp.LlamaCpp at 0x7fa4a88fba90>"
      ]
     },
     "execution_count": 10,
     "metadata": {},
     "output_type": "execute_result"
    }
   ],
   "source": [
    "@guidance\n",
    "def qa_bot(lm, query):\n",
    "    lm += f'''\\\n",
    "    Q: {query}\n",
    "    Now I will choose to either SEARCH the web or RESPOND.\n",
    "    Choice: {select([\"SEARCH\", \"RESPOND\"], name=\"choice\")}\n",
    "    '''\n",
    "    if lm[\"choice\"] == \"SEARCH\":\n",
    "        lm += \"A: I don't know, Google it!\"\n",
    "    else:\n",
    "        lm += f'A: {gen(stop=\"Q:\", name=\"answer\")}'\n",
    "    return lm\n",
    "\n",
    "llama2 + qa_bot(query)"
   ]
  },
  {
   "cell_type": "markdown",
   "metadata": {},
   "source": [
    "## Generating lists\n",
    "\n",
    "Whenever you want to generate a list of items you can use the `list_append` parameter which will cause the captured value to be appended to a list instead of overwriting previous values."
   ]
  },
  {
   "cell_type": "code",
   "execution_count": 11,
   "metadata": {},
   "outputs": [
    {
     "data": {
      "text/html": [
       "<pre style='margin: 0px; padding: 0px; padding-left: 8px; margin-left: -8px; border-radius: 0px; border-left: 1px solid rgba(127, 127, 127, 0.2); white-space: pre-wrap; font-family: ColfaxAI, Arial; font-size: 15px; line-height: 23px;'>Q: Who won the last Kentucky derby and by how much?\n",
       "Now I will choose to either SEARCH the web or RESPOND.\n",
       "Choice:<span style='background-color: rgba(0, 165, 0, 0.15); border-radius: 3px;' title='0.0'> SE</span>ARCH\n",
       "Here are 3 search queries:\n",
       "1.<span style='background-color: rgba(0, 165, 0, 0.15); border-radius: 3px;' title='0.0'> &quot;</span><span style='background-color: rgba(0, 165, 0, 0.15); border-radius: 3px;' title='0.0'>When</span><span style='background-color: rgba(0, 165, 0, 0.15); border-radius: 3px;' title='0.0'> was</span><span style='background-color: rgba(0, 165, 0, 0.15); border-radius: 3px;' title='0.0'> the</span><span style='background-color: rgba(0, 165, 0, 0.15); border-radius: 3px;' title='0.0'> Kentucky</span><span style='background-color: rgba(0, 165, 0, 0.15); border-radius: 3px;' title='0.0'> der</span><span style='background-color: rgba(0, 165, 0, 0.15); border-radius: 3px;' title='0.0'>by</span><span style='background-color: rgba(0, 165, 0, 0.15); border-radius: 3px;' title='0.0'> last</span><span style='background-color: rgba(0, 165, 0, 0.15); border-radius: 3px;' title='0.0'> year</span>?&quot;\n",
       "2.<span style='background-color: rgba(0, 165, 0, 0.15); border-radius: 3px;' title='0.0'> &quot;</span><span style='background-color: rgba(0, 165, 0, 0.15); border-radius: 3px;' title='0.0'>Who</span><span style='background-color: rgba(0, 165, 0, 0.15); border-radius: 3px;' title='0.0'> won</span><span style='background-color: rgba(0, 165, 0, 0.15); border-radius: 3px;' title='0.0'> the</span><span style='background-color: rgba(0, 165, 0, 0.15); border-radius: 3px;' title='0.0'> Kentucky</span><span style='background-color: rgba(0, 165, 0, 0.15); border-radius: 3px;' title='0.0'> der</span><span style='background-color: rgba(0, 165, 0, 0.15); border-radius: 3px;' title='0.0'>by</span><span style='background-color: rgba(0, 165, 0, 0.15); border-radius: 3px;' title='0.0'> last</span><span style='background-color: rgba(0, 165, 0, 0.15); border-radius: 3px;' title='0.0'> year</span>?&quot;\n",
       "3.<span style='background-color: rgba(0, 165, 0, 0.15); border-radius: 3px;' title='0.0'> &quot;</span><span style='background-color: rgba(0, 165, 0, 0.15); border-radius: 3px;' title='0.0'>When</span><span style='background-color: rgba(0, 165, 0, 0.15); border-radius: 3px;' title='0.0'> was</span><span style='background-color: rgba(0, 165, 0, 0.15); border-radius: 3px;' title='0.0'> the</span><span style='background-color: rgba(0, 165, 0, 0.15); border-radius: 3px;' title='0.0'> last</span><span style='background-color: rgba(0, 165, 0, 0.15); border-radius: 3px;' title='0.0'> Kentucky</span><span style='background-color: rgba(0, 165, 0, 0.15); border-radius: 3px;' title='0.0'> der</span><span style='background-color: rgba(0, 165, 0, 0.15); border-radius: 3px;' title='0.0'>by</span>?&quot;\n",
       "</pre>"
      ],
      "text/plain": [
       "<IPython.core.display.HTML object>"
      ]
     },
     "metadata": {},
     "output_type": "display_data"
    }
   ],
   "source": [
    "lm = llama2 + f'''\\\n",
    "Q: {query}\n",
    "Now I will choose to either SEARCH the web or RESPOND.\n",
    "Choice: {select([\"SEARCH\", \"RESPOND\"], name=\"choice\")}\n",
    "'''\n",
    "if lm[\"choice\"] == \"SEARCH\":\n",
    "    lm += \"Here are 3 search queries:\\n\"\n",
    "    for i in range(3):\n",
    "        lm += f'''{i+1}. \"{gen(stop='\"', name=\"queries\", temperature=1.0, list_append=True)}\"\\n'''"
   ]
  },
  {
   "cell_type": "code",
   "execution_count": 12,
   "metadata": {},
   "outputs": [
    {
     "data": {
      "text/plain": [
       "['When was the Kentucky derby last year?',\n",
       " 'Who won the Kentucky derby last year?',\n",
       " 'When was the last Kentucky derby?']"
      ]
     },
     "execution_count": 12,
     "metadata": {},
     "output_type": "execute_result"
    }
   ],
   "source": [
    "lm[\"queries\"]"
   ]
  },
  {
   "attachments": {},
   "cell_type": "markdown",
   "metadata": {},
   "source": [
    "## Chat\n",
    "\n",
    "You can control chat models using special `with` context blocks that wrap whatever is inside them with the special formats needed for the chat model you are using. This allows you express chat programs without tying yourself to a single model backend."
   ]
  },
  {
   "cell_type": "code",
   "execution_count": 13,
   "metadata": {},
   "outputs": [],
   "source": [
    "# to use role based chat tags you need a chat model, here we use gpt-3.5-turbo but you can use 'gpt-4' as well\n",
    "gpt35 = models.OpenAI(\"gpt-3.5-turbo\")"
   ]
  },
  {
   "cell_type": "code",
   "execution_count": 14,
   "metadata": {},
   "outputs": [
    {
     "data": {
      "text/html": [
       "<pre style='margin: 0px; padding: 0px; padding-left: 8px; margin-left: -8px; border-radius: 0px; border-left: 1px solid rgba(127, 127, 127, 0.2); white-space: pre-wrap; font-family: ColfaxAI, Arial; font-size: 15px; line-height: 23px;'><div style='display: flex; border-bottom: 1px solid rgba(127, 127, 127, 0.2); align-items: center;'><div style='flex: 0 0 80px; opacity: 0.5;'>system</div><div style='flex-grow: 1; padding: 5px; padding-top: 10px; padding-bottom: 10px; margin-top: 0px; white-space: pre-wrap; margin-bottom: 0px;'>You are a helpful assistant.</div></div><div style='display: flex; border-bottom: 1px solid rgba(127, 127, 127, 0.2); align-items: center;'><div style='flex: 0 0 80px; opacity: 0.5;'>user</div><div style='flex-grow: 1; padding: 5px; padding-top: 10px; padding-bottom: 10px; margin-top: 0px; white-space: pre-wrap; margin-bottom: 0px;'>What is the meaning of life?</div></div><div style='display: flex; border-bottom: 1px solid rgba(127, 127, 127, 0.2); align-items: center;'><div style='flex: 0 0 80px; opacity: 0.5;'>assistant</div><div style='flex-grow: 1; padding: 5px; padding-top: 10px; padding-bottom: 10px; margin-top: 0px; white-space: pre-wrap; margin-bottom: 0px;'><span style='background-color: rgba(0, 165, 0, 0.15); border-radius: 3px;' title='0.0'>The</span><span style='background-color: rgba(0, 165, 0, 0.15); border-radius: 3px;' title='0.0'> meaning</span><span style='background-color: rgba(0, 165, 0, 0.15); border-radius: 3px;' title='0.0'> of</span><span style='background-color: rgba(0, 165, 0, 0.15); border-radius: 3px;' title='0.0'> life</span><span style='background-color: rgba(0, 165, 0, 0.15); border-radius: 3px;' title='0.0'> is</span><span style='background-color: rgba(0, 165, 0, 0.15); border-radius: 3px;' title='0.0'> a</span><span style='background-color: rgba(0, 165, 0, 0.15); border-radius: 3px;' title='0.0'> philosophical</span><span style='background-color: rgba(0, 165, 0, 0.15); border-radius: 3px;' title='0.0'> question</span><span style='background-color: rgba(0, 165, 0, 0.15); border-radius: 3px;' title='0.0'> that</span><span style='background-color: rgba(0, 165, 0, 0.15); border-radius: 3px;' title='0.0'> has</span><span style='background-color: rgba(0, 165, 0, 0.15); border-radius: 3px;' title='0.0'> been</span><span style='background-color: rgba(0, 165, 0, 0.15); border-radius: 3px;' title='0.0'> debated</span><span style='background-color: rgba(0, 165, 0, 0.15); border-radius: 3px;' title='0.0'> for</span><span style='background-color: rgba(0, 165, 0, 0.15); border-radius: 3px;' title='0.0'> centuries</span><span style='background-color: rgba(0, 165, 0, 0.15); border-radius: 3px;' title='0.0'>.</span><span style='background-color: rgba(0, 165, 0, 0.15); border-radius: 3px;' title='0.0'> Different</span><span style='background-color: rgba(0, 165, 0, 0.15); border-radius: 3px;' title='0.0'> people</span><span style='background-color: rgba(0, 165, 0, 0.15); border-radius: 3px;' title='0.0'> and</span><span style='background-color: rgba(0, 165, 0, 0.15); border-radius: 3px;' title='0.0'> cultures</span><span style='background-color: rgba(0, 165, 0, 0.15); border-radius: 3px;' title='0.0'> have</span><span style='background-color: rgba(0, 165, 0, 0.15); border-radius: 3px;' title='0.0'> different</span><span style='background-color: rgba(0, 165, 0, 0.15); border-radius: 3px;' title='0.0'> beliefs</span><span style='background-color: rgba(0, 165, 0, 0.15); border-radius: 3px;' title='0.0'> and</span><span style='background-color: rgba(0, 165, 0, 0.15); border-radius: 3px;' title='0.0'> interpretations</span><span style='background-color: rgba(0, 165, 0, 0.15); border-radius: 3px;' title='0.0'>.</span><span style='background-color: rgba(0, 165, 0, 0.15); border-radius: 3px;' title='0.0'> Some</span><span style='background-color: rgba(0, 165, 0, 0.15); border-radius: 3px;' title='0.0'> believe</span><span style='background-color: rgba(0, 165, 0, 0.15); border-radius: 3px;' title='0.0'> that</span><span style='background-color: rgba(0, 165, 0, 0.15); border-radius: 3px;' title='0.0'> the</span><span style='background-color: rgba(0, 165, 0, 0.15); border-radius: 3px;' title='0.0'> meaning</span><span style='background-color: rgba(0, 165, 0, 0.15); border-radius: 3px;' title='0.0'> of</span><span style='background-color: rgba(0, 165, 0, 0.15); border-radius: 3px;' title='0.0'> life</span><span style='background-color: rgba(0, 165, 0, 0.15); border-radius: 3px;' title='0.0'> is</span><span style='background-color: rgba(0, 165, 0, 0.15); border-radius: 3px;' title='0.0'> to</span><span style='background-color: rgba(0, 165, 0, 0.15); border-radius: 3px;' title='0.0'> seek</span><span style='background-color: rgba(0, 165, 0, 0.15); border-radius: 3px;' title='0.0'> happiness</span><span style='background-color: rgba(0, 165, 0, 0.15); border-radius: 3px;' title='0.0'> and</span><span style='background-color: rgba(0, 165, 0, 0.15); border-radius: 3px;' title='0.0'> fulfillment</span><span style='background-color: rgba(0, 165, 0, 0.15); border-radius: 3px;' title='0.0'>,</span><span style='background-color: rgba(0, 165, 0, 0.15); border-radius: 3px;' title='0.0'> while</span><span style='background-color: rgba(0, 165, 0, 0.15); border-radius: 3px;' title='0.0'> others</span><span style='background-color: rgba(0, 165, 0, 0.15); border-radius: 3px;' title='0.0'> find</span><span style='background-color: rgba(0, 165, 0, 0.15); border-radius: 3px;' title='0.0'> meaning</span><span style='background-color: rgba(0, 165, 0, 0.15); border-radius: 3px;' title='0.0'> in</span><span style='background-color: rgba(0, 165, 0, 0.15); border-radius: 3px;' title='0.0'> religious</span><span style='background-color: rgba(0, 165, 0, 0.15); border-radius: 3px;' title='0.0'> or</span><span style='background-color: rgba(0, 165, 0, 0.15); border-radius: 3px;' title='0.0'> spiritual</span><span style='background-color: rgba(0, 165, 0, 0.15); border-radius: 3px;' title='0.0'> beliefs</span><span style='background-color: rgba(0, 165, 0, 0.15); border-radius: 3px;' title='0.0'>.</span><span style='background-color: rgba(0, 165, 0, 0.15); border-radius: 3px;' title='0.0'> Ultimately</span><span style='background-color: rgba(0, 165, 0, 0.15); border-radius: 3px;' title='0.0'>,</span><span style='background-color: rgba(0, 165, 0, 0.15); border-radius: 3px;' title='0.0'> the</span><span style='background-color: rgba(0, 165, 0, 0.15); border-radius: 3px;' title='0.0'> meaning</span><span style='background-color: rgba(0, 165, 0, 0.15); border-radius: 3px;' title='0.0'> of</span><span style='background-color: rgba(0, 165, 0, 0.15); border-radius: 3px;' title='0.0'> life</span><span style='background-color: rgba(0, 165, 0, 0.15); border-radius: 3px;' title='0.0'> may</span><span style='background-color: rgba(0, 165, 0, 0.15); border-radius: 3px;' title='0.0'> be</span><span style='background-color: rgba(0, 165, 0, 0.15); border-radius: 3px;' title='0.0'> subjective</span><span style='background-color: rgba(0, 165, 0, 0.15); border-radius: 3px;' title='0.0'> and</span><span style='background-color: rgba(0, 165, 0, 0.15); border-radius: 3px;' title='0.0'> can</span><span style='background-color: rgba(0, 165, 0, 0.15); border-radius: 3px;' title='0.0'> vary</span><span style='background-color: rgba(0, 165, 0, 0.15); border-radius: 3px;' title='0.0'> from</span><span style='background-color: rgba(0, 165, 0, 0.15); border-radius: 3px;' title='0.0'> person</span><span style='background-color: rgba(0, 165, 0, 0.15); border-radius: 3px;' title='0.0'> to</span><span style='background-color: rgba(0, 165, 0, 0.15); border-radius: 3px;' title='0.0'> person</span><span style='background-color: rgba(0, 165, 0, 0.15); border-radius: 3px;' title='0.0'>.</span><span style='background-color: rgba(0, 165, 0, 0.15); border-radius: 3px;' title='0.0'> It</span><span style='background-color: rgba(0, 165, 0, 0.15); border-radius: 3px;' title='0.0'> is</span><span style='background-color: rgba(0, 165, 0, 0.15); border-radius: 3px;' title='0.0'> up</span><span style='background-color: rgba(0, 165, 0, 0.15); border-radius: 3px;' title='0.0'> to</span><span style='background-color: rgba(0, 165, 0, 0.15); border-radius: 3px;' title='0.0'> each</span><span style='background-color: rgba(0, 165, 0, 0.15); border-radius: 3px;' title='0.0'> individual</span><span style='background-color: rgba(0, 165, 0, 0.15); border-radius: 3px;' title='0.0'> to</span><span style='background-color: rgba(0, 165, 0, 0.15); border-radius: 3px;' title='0.0'> explore</span><span style='background-color: rgba(0, 165, 0, 0.15); border-radius: 3px;' title='0.0'> and</span><span style='background-color: rgba(0, 165, 0, 0.15); border-radius: 3px;' title='0.0'> find</span><span style='background-color: rgba(0, 165, 0, 0.15); border-radius: 3px;' title='0.0'> their</span><span style='background-color: rgba(0, 165, 0, 0.15); border-radius: 3px;' title='0.0'> own</span><span style='background-color: rgba(0, 165, 0, 0.15); border-radius: 3px;' title='0.0'> sense</span><span style='background-color: rgba(0, 165, 0, 0.15); border-radius: 3px;' title='0.0'> of</span><span style='background-color: rgba(0, 165, 0, 0.15); border-radius: 3px;' title='0.0'> purpose</span><span style='background-color: rgba(0, 165, 0, 0.15); border-radius: 3px;' title='0.0'> and</span><span style='background-color: rgba(0, 165, 0, 0.15); border-radius: 3px;' title='0.0'> meaning</span><span style='background-color: rgba(0, 165, 0, 0.15); border-radius: 3px;' title='0.0'> in</span><span style='background-color: rgba(0, 165, 0, 0.15); border-radius: 3px;' title='0.0'> life</span><span style='background-color: rgba(0, 165, 0, 0.15); border-radius: 3px;' title='0.0'>.</span></div></div></pre>"
      ],
      "text/plain": [
       "<IPython.core.display.HTML object>"
      ]
     },
     "metadata": {},
     "output_type": "display_data"
    }
   ],
   "source": [
    "from guidance import system, user, assistant\n",
    "\n",
    "with system():\n",
    "    lm = gpt35 + \"You are a helpful assistant.\"\n",
    "\n",
    "with user():\n",
    "    lm += \"What is the meaning of life?\"\n",
    "\n",
    "with assistant():\n",
    "    lm += gen(\"response\")"
   ]
  },
  {
   "attachments": {},
   "cell_type": "markdown",
   "metadata": {},
   "source": [
    "Multistep"
   ]
  },
  {
   "cell_type": "code",
   "execution_count": 15,
   "metadata": {},
   "outputs": [
    {
     "data": {
      "text/html": [
       "<pre style='margin: 0px; padding: 0px; padding-left: 8px; margin-left: -8px; border-radius: 0px; border-left: 1px solid rgba(127, 127, 127, 0.2); white-space: pre-wrap; font-family: ColfaxAI, Arial; font-size: 15px; line-height: 23px;'><div style='display: flex; border-bottom: 1px solid rgba(127, 127, 127, 0.2); align-items: center;'><div style='flex: 0 0 80px; opacity: 0.5;'>system</div><div style='flex-grow: 1; padding: 5px; padding-top: 10px; padding-bottom: 10px; margin-top: 0px; white-space: pre-wrap; margin-bottom: 0px;'>You are a helpful assistant.</div></div><div style='display: flex; border-bottom: 1px solid rgba(127, 127, 127, 0.2); align-items: center;'><div style='flex: 0 0 80px; opacity: 0.5;'>user</div><div style='flex-grow: 1; padding: 5px; padding-top: 10px; padding-bottom: 10px; margin-top: 0px; white-space: pre-wrap; margin-bottom: 0px;'>I want a response to the following question:\n",
       "What is the meaning of life?\n",
       "Who are 3 world-class experts (past or present) who would be great at answering this?\n",
       "Please don&#x27;t answer the question or comment on it yet.</div></div><div style='display: flex; border-bottom: 1px solid rgba(127, 127, 127, 0.2); align-items: center;'><div style='flex: 0 0 80px; opacity: 0.5;'>assistant</div><div style='flex-grow: 1; padding: 5px; padding-top: 10px; padding-bottom: 10px; margin-top: 0px; white-space: pre-wrap; margin-bottom: 0px;'><span style='background-color: rgba(0, 165, 0, 0.15); border-radius: 3px;' title='0.0'>Sure</span><span style='background-color: rgba(0, 165, 0, 0.15); border-radius: 3px;' title='0.0'>,</span><span style='background-color: rgba(0, 165, 0, 0.15); border-radius: 3px;' title='0.0'> here</span><span style='background-color: rgba(0, 165, 0, 0.15); border-radius: 3px;' title='0.0'> are</span><span style='background-color: rgba(0, 165, 0, 0.15); border-radius: 3px;' title='0.0'> three</span><span style='background-color: rgba(0, 165, 0, 0.15); border-radius: 3px;' title='0.0'> world</span><span style='background-color: rgba(0, 165, 0, 0.15); border-radius: 3px;' title='0.0'>-class</span><span style='background-color: rgba(0, 165, 0, 0.15); border-radius: 3px;' title='0.0'> experts</span><span style='background-color: rgba(0, 165, 0, 0.15); border-radius: 3px;' title='0.0'> who</span><span style='background-color: rgba(0, 165, 0, 0.15); border-radius: 3px;' title='0.0'> have</span><span style='background-color: rgba(0, 165, 0, 0.15); border-radius: 3px;' title='0.0'> explored</span><span style='background-color: rgba(0, 165, 0, 0.15); border-radius: 3px;' title='0.0'> the</span><span style='background-color: rgba(0, 165, 0, 0.15); border-radius: 3px;' title='0.0'> question</span><span style='background-color: rgba(0, 165, 0, 0.15); border-radius: 3px;' title='0.0'> of</span><span style='background-color: rgba(0, 165, 0, 0.15); border-radius: 3px;' title='0.0'> the</span><span style='background-color: rgba(0, 165, 0, 0.15); border-radius: 3px;' title='0.0'> meaning</span><span style='background-color: rgba(0, 165, 0, 0.15); border-radius: 3px;' title='0.0'> of</span><span style='background-color: rgba(0, 165, 0, 0.15); border-radius: 3px;' title='0.0'> life</span><span style='background-color: rgba(0, 165, 0, 0.15); border-radius: 3px;' title='0.0'>:\n",
       "\n",
       "</span><span style='background-color: rgba(0, 165, 0, 0.15); border-radius: 3px;' title='0.0'>1</span><span style='background-color: rgba(0, 165, 0, 0.15); border-radius: 3px;' title='0.0'>.</span><span style='background-color: rgba(0, 165, 0, 0.15); border-radius: 3px;' title='0.0'> Viktor</span><span style='background-color: rgba(0, 165, 0, 0.15); border-radius: 3px;' title='0.0'> Frank</span><span style='background-color: rgba(0, 165, 0, 0.15); border-radius: 3px;' title='0.0'>l</span><span style='background-color: rgba(0, 165, 0, 0.15); border-radius: 3px;' title='0.0'>:</span><span style='background-color: rgba(0, 165, 0, 0.15); border-radius: 3px;' title='0.0'> Viktor</span><span style='background-color: rgba(0, 165, 0, 0.15); border-radius: 3px;' title='0.0'> Frank</span><span style='background-color: rgba(0, 165, 0, 0.15); border-radius: 3px;' title='0.0'>l</span><span style='background-color: rgba(0, 165, 0, 0.15); border-radius: 3px;' title='0.0'> was</span><span style='background-color: rgba(0, 165, 0, 0.15); border-radius: 3px;' title='0.0'> an</span><span style='background-color: rgba(0, 165, 0, 0.15); border-radius: 3px;' title='0.0'> Austrian</span><span style='background-color: rgba(0, 165, 0, 0.15); border-radius: 3px;' title='0.0'> psychiatrist</span><span style='background-color: rgba(0, 165, 0, 0.15); border-radius: 3px;' title='0.0'> and</span><span style='background-color: rgba(0, 165, 0, 0.15); border-radius: 3px;' title='0.0'> Holocaust</span><span style='background-color: rgba(0, 165, 0, 0.15); border-radius: 3px;' title='0.0'> survivor</span><span style='background-color: rgba(0, 165, 0, 0.15); border-radius: 3px;' title='0.0'>.</span><span style='background-color: rgba(0, 165, 0, 0.15); border-radius: 3px;' title='0.0'> He</span><span style='background-color: rgba(0, 165, 0, 0.15); border-radius: 3px;' title='0.0'> is</span><span style='background-color: rgba(0, 165, 0, 0.15); border-radius: 3px;' title='0.0'> best</span><span style='background-color: rgba(0, 165, 0, 0.15); border-radius: 3px;' title='0.0'> known</span><span style='background-color: rgba(0, 165, 0, 0.15); border-radius: 3px;' title='0.0'> for</span><span style='background-color: rgba(0, 165, 0, 0.15); border-radius: 3px;' title='0.0'> his</span><span style='background-color: rgba(0, 165, 0, 0.15); border-radius: 3px;' title='0.0'> book</span><span style='background-color: rgba(0, 165, 0, 0.15); border-radius: 3px;' title='0.0'> &quot;</span><span style='background-color: rgba(0, 165, 0, 0.15); border-radius: 3px;' title='0.0'>Man</span><span style='background-color: rgba(0, 165, 0, 0.15); border-radius: 3px;' title='0.0'>&#x27;s</span><span style='background-color: rgba(0, 165, 0, 0.15); border-radius: 3px;' title='0.0'> Search</span><span style='background-color: rgba(0, 165, 0, 0.15); border-radius: 3px;' title='0.0'> for</span><span style='background-color: rgba(0, 165, 0, 0.15); border-radius: 3px;' title='0.0'> Meaning</span><span style='background-color: rgba(0, 165, 0, 0.15); border-radius: 3px;' title='0.0'>,&quot;</span><span style='background-color: rgba(0, 165, 0, 0.15); border-radius: 3px;' title='0.0'> in</span><span style='background-color: rgba(0, 165, 0, 0.15); border-radius: 3px;' title='0.0'> which</span><span style='background-color: rgba(0, 165, 0, 0.15); border-radius: 3px;' title='0.0'> he</span><span style='background-color: rgba(0, 165, 0, 0.15); border-radius: 3px;' title='0.0'> explores</span><span style='background-color: rgba(0, 165, 0, 0.15); border-radius: 3px;' title='0.0'> the</span><span style='background-color: rgba(0, 165, 0, 0.15); border-radius: 3px;' title='0.0'> importance</span><span style='background-color: rgba(0, 165, 0, 0.15); border-radius: 3px;' title='0.0'> of</span><span style='background-color: rgba(0, 165, 0, 0.15); border-radius: 3px;' title='0.0'> finding</span><span style='background-color: rgba(0, 165, 0, 0.15); border-radius: 3px;' title='0.0'> meaning</span><span style='background-color: rgba(0, 165, 0, 0.15); border-radius: 3px;' title='0.0'> in</span><span style='background-color: rgba(0, 165, 0, 0.15); border-radius: 3px;' title='0.0'> life</span><span style='background-color: rgba(0, 165, 0, 0.15); border-radius: 3px;' title='0.0'>,</span><span style='background-color: rgba(0, 165, 0, 0.15); border-radius: 3px;' title='0.0'> even</span><span style='background-color: rgba(0, 165, 0, 0.15); border-radius: 3px;' title='0.0'> in</span><span style='background-color: rgba(0, 165, 0, 0.15); border-radius: 3px;' title='0.0'> the</span><span style='background-color: rgba(0, 165, 0, 0.15); border-radius: 3px;' title='0.0'> face</span><span style='background-color: rgba(0, 165, 0, 0.15); border-radius: 3px;' title='0.0'> of</span><span style='background-color: rgba(0, 165, 0, 0.15); border-radius: 3px;' title='0.0'> extreme</span><span style='background-color: rgba(0, 165, 0, 0.15); border-radius: 3px;' title='0.0'> suffering</span><span style='background-color: rgba(0, 165, 0, 0.15); border-radius: 3px;' title='0.0'>.\n",
       "\n",
       "</span><span style='background-color: rgba(0, 165, 0, 0.15); border-radius: 3px;' title='0.0'>2</span><span style='background-color: rgba(0, 165, 0, 0.15); border-radius: 3px;' title='0.0'>.</span><span style='background-color: rgba(0, 165, 0, 0.15); border-radius: 3px;' title='0.0'> Albert</span><span style='background-color: rgba(0, 165, 0, 0.15); border-radius: 3px;' title='0.0'> Cam</span><span style='background-color: rgba(0, 165, 0, 0.15); border-radius: 3px;' title='0.0'>us</span><span style='background-color: rgba(0, 165, 0, 0.15); border-radius: 3px;' title='0.0'>:</span><span style='background-color: rgba(0, 165, 0, 0.15); border-radius: 3px;' title='0.0'> Albert</span><span style='background-color: rgba(0, 165, 0, 0.15); border-radius: 3px;' title='0.0'> Cam</span><span style='background-color: rgba(0, 165, 0, 0.15); border-radius: 3px;' title='0.0'>us</span><span style='background-color: rgba(0, 165, 0, 0.15); border-radius: 3px;' title='0.0'> was</span><span style='background-color: rgba(0, 165, 0, 0.15); border-radius: 3px;' title='0.0'> a</span><span style='background-color: rgba(0, 165, 0, 0.15); border-radius: 3px;' title='0.0'> French</span><span style='background-color: rgba(0, 165, 0, 0.15); border-radius: 3px;' title='0.0'> philosopher</span><span style='background-color: rgba(0, 165, 0, 0.15); border-radius: 3px;' title='0.0'> and</span><span style='background-color: rgba(0, 165, 0, 0.15); border-radius: 3px;' title='0.0'> writer</span><span style='background-color: rgba(0, 165, 0, 0.15); border-radius: 3px;' title='0.0'>.</span><span style='background-color: rgba(0, 165, 0, 0.15); border-radius: 3px;' title='0.0'> He</span><span style='background-color: rgba(0, 165, 0, 0.15); border-radius: 3px;' title='0.0'> delve</span><span style='background-color: rgba(0, 165, 0, 0.15); border-radius: 3px;' title='0.0'>d</span><span style='background-color: rgba(0, 165, 0, 0.15); border-radius: 3px;' title='0.0'> into</span><span style='background-color: rgba(0, 165, 0, 0.15); border-radius: 3px;' title='0.0'> existential</span><span style='background-color: rgba(0, 165, 0, 0.15); border-radius: 3px;' title='0.0'>ism</span><span style='background-color: rgba(0, 165, 0, 0.15); border-radius: 3px;' title='0.0'> and</span><span style='background-color: rgba(0, 165, 0, 0.15); border-radius: 3px;' title='0.0'> absurd</span><span style='background-color: rgba(0, 165, 0, 0.15); border-radius: 3px;' title='0.0'>ism</span><span style='background-color: rgba(0, 165, 0, 0.15); border-radius: 3px;' title='0.0'>,</span><span style='background-color: rgba(0, 165, 0, 0.15); border-radius: 3px;' title='0.0'> questioning</span><span style='background-color: rgba(0, 165, 0, 0.15); border-radius: 3px;' title='0.0'> the</span><span style='background-color: rgba(0, 165, 0, 0.15); border-radius: 3px;' title='0.0'> meaning</span><span style='background-color: rgba(0, 165, 0, 0.15); border-radius: 3px;' title='0.0'> of</span><span style='background-color: rgba(0, 165, 0, 0.15); border-radius: 3px;' title='0.0'> life</span><span style='background-color: rgba(0, 165, 0, 0.15); border-radius: 3px;' title='0.0'> in</span><span style='background-color: rgba(0, 165, 0, 0.15); border-radius: 3px;' title='0.0'> a</span><span style='background-color: rgba(0, 165, 0, 0.15); border-radius: 3px;' title='0.0'> world</span><span style='background-color: rgba(0, 165, 0, 0.15); border-radius: 3px;' title='0.0'> that</span><span style='background-color: rgba(0, 165, 0, 0.15); border-radius: 3px;' title='0.0'> appears</span><span style='background-color: rgba(0, 165, 0, 0.15); border-radius: 3px;' title='0.0'> to</span><span style='background-color: rgba(0, 165, 0, 0.15); border-radius: 3px;' title='0.0'> lack</span><span style='background-color: rgba(0, 165, 0, 0.15); border-radius: 3px;' title='0.0'> inherent</span><span style='background-color: rgba(0, 165, 0, 0.15); border-radius: 3px;' title='0.0'> purpose</span><span style='background-color: rgba(0, 165, 0, 0.15); border-radius: 3px;' title='0.0'>.</span><span style='background-color: rgba(0, 165, 0, 0.15); border-radius: 3px;' title='0.0'> His</span><span style='background-color: rgba(0, 165, 0, 0.15); border-radius: 3px;' title='0.0'> works</span><span style='background-color: rgba(0, 165, 0, 0.15); border-radius: 3px;' title='0.0'>,</span><span style='background-color: rgba(0, 165, 0, 0.15); border-radius: 3px;' title='0.0'> such</span><span style='background-color: rgba(0, 165, 0, 0.15); border-radius: 3px;' title='0.0'> as</span><span style='background-color: rgba(0, 165, 0, 0.15); border-radius: 3px;' title='0.0'> &quot;</span><span style='background-color: rgba(0, 165, 0, 0.15); border-radius: 3px;' title='0.0'>The</span><span style='background-color: rgba(0, 165, 0, 0.15); border-radius: 3px;' title='0.0'> Myth</span><span style='background-color: rgba(0, 165, 0, 0.15); border-radius: 3px;' title='0.0'> of</span><span style='background-color: rgba(0, 165, 0, 0.15); border-radius: 3px;' title='0.0'> Si</span><span style='background-color: rgba(0, 165, 0, 0.15); border-radius: 3px;' title='0.0'>sy</span><span style='background-color: rgba(0, 165, 0, 0.15); border-radius: 3px;' title='0.0'>ph</span><span style='background-color: rgba(0, 165, 0, 0.15); border-radius: 3px;' title='0.0'>us</span><span style='background-color: rgba(0, 165, 0, 0.15); border-radius: 3px;' title='0.0'>,&quot;</span><span style='background-color: rgba(0, 165, 0, 0.15); border-radius: 3px;' title='0.0'> offer</span><span style='background-color: rgba(0, 165, 0, 0.15); border-radius: 3px;' title='0.0'> thought</span><span style='background-color: rgba(0, 165, 0, 0.15); border-radius: 3px;' title='0.0'>-pro</span><span style='background-color: rgba(0, 165, 0, 0.15); border-radius: 3px;' title='0.0'>vo</span><span style='background-color: rgba(0, 165, 0, 0.15); border-radius: 3px;' title='0.0'>king</span><span style='background-color: rgba(0, 165, 0, 0.15); border-radius: 3px;' title='0.0'> insights</span><span style='background-color: rgba(0, 165, 0, 0.15); border-radius: 3px;' title='0.0'> on</span><span style='background-color: rgba(0, 165, 0, 0.15); border-radius: 3px;' title='0.0'> the</span><span style='background-color: rgba(0, 165, 0, 0.15); border-radius: 3px;' title='0.0'> subject</span><span style='background-color: rgba(0, 165, 0, 0.15); border-radius: 3px;' title='0.0'>.\n",
       "\n",
       "</span><span style='background-color: rgba(0, 165, 0, 0.15); border-radius: 3px;' title='0.0'>3</span><span style='background-color: rgba(0, 165, 0, 0.15); border-radius: 3px;' title='0.0'>.</span><span style='background-color: rgba(0, 165, 0, 0.15); border-radius: 3px;' title='0.0'> Dal</span><span style='background-color: rgba(0, 165, 0, 0.15); border-radius: 3px;' title='0.0'>ai</span><span style='background-color: rgba(0, 165, 0, 0.15); border-radius: 3px;' title='0.0'> Lama</span><span style='background-color: rgba(0, 165, 0, 0.15); border-radius: 3px;' title='0.0'>:</span><span style='background-color: rgba(0, 165, 0, 0.15); border-radius: 3px;' title='0.0'> The</span><span style='background-color: rgba(0, 165, 0, 0.15); border-radius: 3px;' title='0.0'> Dal</span><span style='background-color: rgba(0, 165, 0, 0.15); border-radius: 3px;' title='0.0'>ai</span><span style='background-color: rgba(0, 165, 0, 0.15); border-radius: 3px;' title='0.0'> Lama</span><span style='background-color: rgba(0, 165, 0, 0.15); border-radius: 3px;' title='0.0'> is</span><span style='background-color: rgba(0, 165, 0, 0.15); border-radius: 3px;' title='0.0'> the</span><span style='background-color: rgba(0, 165, 0, 0.15); border-radius: 3px;' title='0.0'> spiritual</span><span style='background-color: rgba(0, 165, 0, 0.15); border-radius: 3px;' title='0.0'> leader</span><span style='background-color: rgba(0, 165, 0, 0.15); border-radius: 3px;' title='0.0'> of</span><span style='background-color: rgba(0, 165, 0, 0.15); border-radius: 3px;' title='0.0'> Tibetan</span><span style='background-color: rgba(0, 165, 0, 0.15); border-radius: 3px;' title='0.0'> Buddhism</span><span style='background-color: rgba(0, 165, 0, 0.15); border-radius: 3px;' title='0.0'>.</span><span style='background-color: rgba(0, 165, 0, 0.15); border-radius: 3px;' title='0.0'> His</span><span style='background-color: rgba(0, 165, 0, 0.15); border-radius: 3px;' title='0.0'> teachings</span><span style='background-color: rgba(0, 165, 0, 0.15); border-radius: 3px;' title='0.0'> emphasize</span><span style='background-color: rgba(0, 165, 0, 0.15); border-radius: 3px;' title='0.0'> compassion</span><span style='background-color: rgba(0, 165, 0, 0.15); border-radius: 3px;' title='0.0'>,</span><span style='background-color: rgba(0, 165, 0, 0.15); border-radius: 3px;' title='0.0'> mindfulness</span><span style='background-color: rgba(0, 165, 0, 0.15); border-radius: 3px;' title='0.0'>,</span><span style='background-color: rgba(0, 165, 0, 0.15); border-radius: 3px;' title='0.0'> and</span><span style='background-color: rgba(0, 165, 0, 0.15); border-radius: 3px;' title='0.0'> the</span><span style='background-color: rgba(0, 165, 0, 0.15); border-radius: 3px;' title='0.0'> pursuit</span><span style='background-color: rgba(0, 165, 0, 0.15); border-radius: 3px;' title='0.0'> of</span><span style='background-color: rgba(0, 165, 0, 0.15); border-radius: 3px;' title='0.0'> happiness</span><span style='background-color: rgba(0, 165, 0, 0.15); border-radius: 3px;' title='0.0'>.</span><span style='background-color: rgba(0, 165, 0, 0.15); border-radius: 3px;' title='0.0'> He</span><span style='background-color: rgba(0, 165, 0, 0.15); border-radius: 3px;' title='0.0'> often</span><span style='background-color: rgba(0, 165, 0, 0.15); border-radius: 3px;' title='0.0'> discusses</span><span style='background-color: rgba(0, 165, 0, 0.15); border-radius: 3px;' title='0.0'> the</span><span style='background-color: rgba(0, 165, 0, 0.15); border-radius: 3px;' title='0.0'> meaning</span><span style='background-color: rgba(0, 165, 0, 0.15); border-radius: 3px;' title='0.0'> of</span><span style='background-color: rgba(0, 165, 0, 0.15); border-radius: 3px;' title='0.0'> life</span><span style='background-color: rgba(0, 165, 0, 0.15); border-radius: 3px;' title='0.0'> in</span><span style='background-color: rgba(0, 165, 0, 0.15); border-radius: 3px;' title='0.0'> the</span><span style='background-color: rgba(0, 165, 0, 0.15); border-radius: 3px;' title='0.0'> context</span><span style='background-color: rgba(0, 165, 0, 0.15); border-radius: 3px;' title='0.0'> of</span><span style='background-color: rgba(0, 165, 0, 0.15); border-radius: 3px;' title='0.0'> spiritual</span><span style='background-color: rgba(0, 165, 0, 0.15); border-radius: 3px;' title='0.0'> and</span><span style='background-color: rgba(0, 165, 0, 0.15); border-radius: 3px;' title='0.0'> ethical</span><span style='background-color: rgba(0, 165, 0, 0.15); border-radius: 3px;' title='0.0'> principles</span><span style='background-color: rgba(0, 165, 0, 0.15); border-radius: 3px;' title='0.0'>.\n",
       "\n",
       "</span><span style='background-color: rgba(0, 165, 0, 0.15); border-radius: 3px;' title='0.0'>These</span><span style='background-color: rgba(0, 165, 0, 0.15); border-radius: 3px;' title='0.0'> experts</span><span style='background-color: rgba(0, 165, 0, 0.15); border-radius: 3px;' title='0.0'> have</span><span style='background-color: rgba(0, 165, 0, 0.15); border-radius: 3px;' title='0.0'> provided</span><span style='background-color: rgba(0, 165, 0, 0.15); border-radius: 3px;' title='0.0'> valuable</span><span style='background-color: rgba(0, 165, 0, 0.15); border-radius: 3px;' title='0.0'> perspectives</span><span style='background-color: rgba(0, 165, 0, 0.15); border-radius: 3px;' title='0.0'> on</span><span style='background-color: rgba(0, 165, 0, 0.15); border-radius: 3px;' title='0.0'> the</span><span style='background-color: rgba(0, 165, 0, 0.15); border-radius: 3px;' title='0.0'> question</span><span style='background-color: rgba(0, 165, 0, 0.15); border-radius: 3px;' title='0.0'> of</span><span style='background-color: rgba(0, 165, 0, 0.15); border-radius: 3px;' title='0.0'> the</span><span style='background-color: rgba(0, 165, 0, 0.15); border-radius: 3px;' title='0.0'> meaning</span><span style='background-color: rgba(0, 165, 0, 0.15); border-radius: 3px;' title='0.0'> of</span><span style='background-color: rgba(0, 165, 0, 0.15); border-radius: 3px;' title='0.0'> life</span><span style='background-color: rgba(0, 165, 0, 0.15); border-radius: 3px;' title='0.0'>,</span><span style='background-color: rgba(0, 165, 0, 0.15); border-radius: 3px;' title='0.0'> each</span><span style='background-color: rgba(0, 165, 0, 0.15); border-radius: 3px;' title='0.0'> offering</span><span style='background-color: rgba(0, 165, 0, 0.15); border-radius: 3px;' title='0.0'> unique</span><span style='background-color: rgba(0, 165, 0, 0.15); border-radius: 3px;' title='0.0'> insights</span><span style='background-color: rgba(0, 165, 0, 0.15); border-radius: 3px;' title='0.0'> based</span><span style='background-color: rgba(0, 165, 0, 0.15); border-radius: 3px;' title='0.0'> on</span><span style='background-color: rgba(0, 165, 0, 0.15); border-radius: 3px;' title='0.0'> their</span><span style='background-color: rgba(0, 165, 0, 0.15); border-radius: 3px;' title='0.0'> respective</span><span style='background-color: rgba(0, 165, 0, 0.15); border-radius: 3px;' title='0.0'> backgrounds</span><span style='background-color: rgba(0, 165, 0, 0.15); border-radius: 3px;' title='0.0'> and</span><span style='background-color: rgba(0, 165, 0, 0.15); border-radius: 3px;' title='0.0'> philosoph</span><span style='background-color: rgba(0, 165, 0, 0.15); border-radius: 3px;' title='0.0'>ies</span><span style='background-color: rgba(0, 165, 0, 0.15); border-radius: 3px;' title='0.0'>.</span></div></div><div style='display: flex; border-bottom: 1px solid rgba(127, 127, 127, 0.2); align-items: center;'><div style='flex: 0 0 80px; opacity: 0.5;'>user</div><div style='flex-grow: 1; padding: 5px; padding-top: 10px; padding-bottom: 10px; margin-top: 0px; white-space: pre-wrap; margin-bottom: 0px;'>Great, now please answer the question as if these experts had collaborated in writing a joint anonymous answer.\n",
       "In other words, their identity is not revealed, nor is the fact that there is a panel of experts answering the question.\n",
       "If the experts would disagree, just present their different positions as alternatives in the answer itself (e.g. &#x27;some might argue... others might argue...&#x27;).\n",
       "Please start your answer with ANSWER:</div></div><div style='display: flex; border-bottom: 1px solid rgba(127, 127, 127, 0.2); align-items: center;'><div style='flex: 0 0 80px; opacity: 0.5;'>assistant</div><div style='flex-grow: 1; padding: 5px; padding-top: 10px; padding-bottom: 10px; margin-top: 0px; white-space: pre-wrap; margin-bottom: 0px;'><span style='background-color: rgba(0, 165, 0, 0.15); border-radius: 3px;' title='0.0'>ANS</span><span style='background-color: rgba(0, 165, 0, 0.15); border-radius: 3px;' title='0.0'>WER</span><span style='background-color: rgba(0, 165, 0, 0.15); border-radius: 3px;' title='0.0'>:\n",
       "</span><span style='background-color: rgba(0, 165, 0, 0.15); border-radius: 3px;' title='0.0'>The</span><span style='background-color: rgba(0, 165, 0, 0.15); border-radius: 3px;' title='0.0'> meaning</span><span style='background-color: rgba(0, 165, 0, 0.15); border-radius: 3px;' title='0.0'> of</span><span style='background-color: rgba(0, 165, 0, 0.15); border-radius: 3px;' title='0.0'> life</span><span style='background-color: rgba(0, 165, 0, 0.15); border-radius: 3px;' title='0.0'> is</span><span style='background-color: rgba(0, 165, 0, 0.15); border-radius: 3px;' title='0.0'> a</span><span style='background-color: rgba(0, 165, 0, 0.15); border-radius: 3px;' title='0.0'> profound</span><span style='background-color: rgba(0, 165, 0, 0.15); border-radius: 3px;' title='0.0'> and</span><span style='background-color: rgba(0, 165, 0, 0.15); border-radius: 3px;' title='0.0'> complex</span><span style='background-color: rgba(0, 165, 0, 0.15); border-radius: 3px;' title='0.0'> question</span><span style='background-color: rgba(0, 165, 0, 0.15); border-radius: 3px;' title='0.0'> that</span><span style='background-color: rgba(0, 165, 0, 0.15); border-radius: 3px;' title='0.0'> has</span><span style='background-color: rgba(0, 165, 0, 0.15); border-radius: 3px;' title='0.0'> been</span><span style='background-color: rgba(0, 165, 0, 0.15); border-radius: 3px;' title='0.0'> contemplated</span><span style='background-color: rgba(0, 165, 0, 0.15); border-radius: 3px;' title='0.0'> by</span><span style='background-color: rgba(0, 165, 0, 0.15); border-radius: 3px;' title='0.0'> philosophers</span><span style='background-color: rgba(0, 165, 0, 0.15); border-radius: 3px;' title='0.0'>,</span><span style='background-color: rgba(0, 165, 0, 0.15); border-radius: 3px;' title='0.0'> thinkers</span><span style='background-color: rgba(0, 165, 0, 0.15); border-radius: 3px;' title='0.0'>,</span><span style='background-color: rgba(0, 165, 0, 0.15); border-radius: 3px;' title='0.0'> and</span><span style='background-color: rgba(0, 165, 0, 0.15); border-radius: 3px;' title='0.0'> spiritual</span><span style='background-color: rgba(0, 165, 0, 0.15); border-radius: 3px;' title='0.0'> leaders</span><span style='background-color: rgba(0, 165, 0, 0.15); border-radius: 3px;' title='0.0'> throughout</span><span style='background-color: rgba(0, 165, 0, 0.15); border-radius: 3px;' title='0.0'> history</span><span style='background-color: rgba(0, 165, 0, 0.15); border-radius: 3px;' title='0.0'>.</span><span style='background-color: rgba(0, 165, 0, 0.15); border-radius: 3px;' title='0.0'> While</span><span style='background-color: rgba(0, 165, 0, 0.15); border-radius: 3px;' title='0.0'> there</span><span style='background-color: rgba(0, 165, 0, 0.15); border-radius: 3px;' title='0.0'> may</span><span style='background-color: rgba(0, 165, 0, 0.15); border-radius: 3px;' title='0.0'> be</span><span style='background-color: rgba(0, 165, 0, 0.15); border-radius: 3px;' title='0.0'> differing</span><span style='background-color: rgba(0, 165, 0, 0.15); border-radius: 3px;' title='0.0'> perspectives</span><span style='background-color: rgba(0, 165, 0, 0.15); border-radius: 3px;' title='0.0'> on</span><span style='background-color: rgba(0, 165, 0, 0.15); border-radius: 3px;' title='0.0'> this</span><span style='background-color: rgba(0, 165, 0, 0.15); border-radius: 3px;' title='0.0'> matter</span><span style='background-color: rgba(0, 165, 0, 0.15); border-radius: 3px;' title='0.0'>,</span><span style='background-color: rgba(0, 165, 0, 0.15); border-radius: 3px;' title='0.0'> a</span><span style='background-color: rgba(0, 165, 0, 0.15); border-radius: 3px;' title='0.0'> joint</span><span style='background-color: rgba(0, 165, 0, 0.15); border-radius: 3px;' title='0.0'> anonymous</span><span style='background-color: rgba(0, 165, 0, 0.15); border-radius: 3px;' title='0.0'> response</span><span style='background-color: rgba(0, 165, 0, 0.15); border-radius: 3px;' title='0.0'> from</span><span style='background-color: rgba(0, 165, 0, 0.15); border-radius: 3px;' title='0.0'> world</span><span style='background-color: rgba(0, 165, 0, 0.15); border-radius: 3px;' title='0.0'>-class</span><span style='background-color: rgba(0, 165, 0, 0.15); border-radius: 3px;' title='0.0'> experts</span><span style='background-color: rgba(0, 165, 0, 0.15); border-radius: 3px;' title='0.0'> could</span><span style='background-color: rgba(0, 165, 0, 0.15); border-radius: 3px;' title='0.0'> offer</span><span style='background-color: rgba(0, 165, 0, 0.15); border-radius: 3px;' title='0.0'> some</span><span style='background-color: rgba(0, 165, 0, 0.15); border-radius: 3px;' title='0.0'> insights</span><span style='background-color: rgba(0, 165, 0, 0.15); border-radius: 3px;' title='0.0'>.\n",
       "\n",
       "</span><span style='background-color: rgba(0, 165, 0, 0.15); border-radius: 3px;' title='0.0'>Life</span><span style='background-color: rgba(0, 165, 0, 0.15); border-radius: 3px;' title='0.0'>&#x27;s</span><span style='background-color: rgba(0, 165, 0, 0.15); border-radius: 3px;' title='0.0'> meaning</span><span style='background-color: rgba(0, 165, 0, 0.15); border-radius: 3px;' title='0.0'> can</span><span style='background-color: rgba(0, 165, 0, 0.15); border-radius: 3px;' title='0.0'> be</span><span style='background-color: rgba(0, 165, 0, 0.15); border-radius: 3px;' title='0.0'> seen</span><span style='background-color: rgba(0, 165, 0, 0.15); border-radius: 3px;' title='0.0'> through</span><span style='background-color: rgba(0, 165, 0, 0.15); border-radius: 3px;' title='0.0'> the</span><span style='background-color: rgba(0, 165, 0, 0.15); border-radius: 3px;' title='0.0'> lens</span><span style='background-color: rgba(0, 165, 0, 0.15); border-radius: 3px;' title='0.0'> of</span><span style='background-color: rgba(0, 165, 0, 0.15); border-radius: 3px;' title='0.0'> Viktor</span><span style='background-color: rgba(0, 165, 0, 0.15); border-radius: 3px;' title='0.0'> Frank</span><span style='background-color: rgba(0, 165, 0, 0.15); border-radius: 3px;' title='0.0'>l</span><span style='background-color: rgba(0, 165, 0, 0.15); border-radius: 3px;' title='0.0'>&#x27;s</span><span style='background-color: rgba(0, 165, 0, 0.15); border-radius: 3px;' title='0.0'> existential</span><span style='background-color: rgba(0, 165, 0, 0.15); border-radius: 3px;' title='0.0'>ist</span><span style='background-color: rgba(0, 165, 0, 0.15); border-radius: 3px;' title='0.0'> approach</span><span style='background-color: rgba(0, 165, 0, 0.15); border-radius: 3px;' title='0.0'>.</span><span style='background-color: rgba(0, 165, 0, 0.15); border-radius: 3px;' title='0.0'> He</span><span style='background-color: rgba(0, 165, 0, 0.15); border-radius: 3px;' title='0.0'> believed</span><span style='background-color: rgba(0, 165, 0, 0.15); border-radius: 3px;' title='0.0'> that</span><span style='background-color: rgba(0, 165, 0, 0.15); border-radius: 3px;' title='0.0'> the</span><span style='background-color: rgba(0, 165, 0, 0.15); border-radius: 3px;' title='0.0'> meaning</span><span style='background-color: rgba(0, 165, 0, 0.15); border-radius: 3px;' title='0.0'> of</span><span style='background-color: rgba(0, 165, 0, 0.15); border-radius: 3px;' title='0.0'> life</span><span style='background-color: rgba(0, 165, 0, 0.15); border-radius: 3px;' title='0.0'> is</span><span style='background-color: rgba(0, 165, 0, 0.15); border-radius: 3px;' title='0.0'> found</span><span style='background-color: rgba(0, 165, 0, 0.15); border-radius: 3px;' title='0.0'> in</span><span style='background-color: rgba(0, 165, 0, 0.15); border-radius: 3px;' title='0.0'> the</span><span style='background-color: rgba(0, 165, 0, 0.15); border-radius: 3px;' title='0.0'> pursuit</span><span style='background-color: rgba(0, 165, 0, 0.15); border-radius: 3px;' title='0.0'> of</span><span style='background-color: rgba(0, 165, 0, 0.15); border-radius: 3px;' title='0.0'> personal</span><span style='background-color: rgba(0, 165, 0, 0.15); border-radius: 3px;' title='0.0'> meaning</span><span style='background-color: rgba(0, 165, 0, 0.15); border-radius: 3px;' title='0.0'> and</span><span style='background-color: rgba(0, 165, 0, 0.15); border-radius: 3px;' title='0.0'> purpose</span><span style='background-color: rgba(0, 165, 0, 0.15); border-radius: 3px;' title='0.0'>.</span><span style='background-color: rgba(0, 165, 0, 0.15); border-radius: 3px;' title='0.0'> According</span><span style='background-color: rgba(0, 165, 0, 0.15); border-radius: 3px;' title='0.0'> to</span><span style='background-color: rgba(0, 165, 0, 0.15); border-radius: 3px;' title='0.0'> Frank</span><span style='background-color: rgba(0, 165, 0, 0.15); border-radius: 3px;' title='0.0'>l</span><span style='background-color: rgba(0, 165, 0, 0.15); border-radius: 3px;' title='0.0'>,</span><span style='background-color: rgba(0, 165, 0, 0.15); border-radius: 3px;' title='0.0'> individuals</span><span style='background-color: rgba(0, 165, 0, 0.15); border-radius: 3px;' title='0.0'> have</span><span style='background-color: rgba(0, 165, 0, 0.15); border-radius: 3px;' title='0.0'> the</span><span style='background-color: rgba(0, 165, 0, 0.15); border-radius: 3px;' title='0.0'> freedom</span><span style='background-color: rgba(0, 165, 0, 0.15); border-radius: 3px;' title='0.0'> to</span><span style='background-color: rgba(0, 165, 0, 0.15); border-radius: 3px;' title='0.0'> choose</span><span style='background-color: rgba(0, 165, 0, 0.15); border-radius: 3px;' title='0.0'> their</span><span style='background-color: rgba(0, 165, 0, 0.15); border-radius: 3px;' title='0.0'> attitudes</span><span style='background-color: rgba(0, 165, 0, 0.15); border-radius: 3px;' title='0.0'> and</span><span style='background-color: rgba(0, 165, 0, 0.15); border-radius: 3px;' title='0.0'> actions</span><span style='background-color: rgba(0, 165, 0, 0.15); border-radius: 3px;' title='0.0'>,</span><span style='background-color: rgba(0, 165, 0, 0.15); border-radius: 3px;' title='0.0'> even</span><span style='background-color: rgba(0, 165, 0, 0.15); border-radius: 3px;' title='0.0'> in</span><span style='background-color: rgba(0, 165, 0, 0.15); border-radius: 3px;' title='0.0'> the</span><span style='background-color: rgba(0, 165, 0, 0.15); border-radius: 3px;' title='0.0'> face</span><span style='background-color: rgba(0, 165, 0, 0.15); border-radius: 3px;' title='0.0'> of</span><span style='background-color: rgba(0, 165, 0, 0.15); border-radius: 3px;' title='0.0'> adversity</span><span style='background-color: rgba(0, 165, 0, 0.15); border-radius: 3px;' title='0.0'>.</span><span style='background-color: rgba(0, 165, 0, 0.15); border-radius: 3px;' title='0.0'> By</span><span style='background-color: rgba(0, 165, 0, 0.15); border-radius: 3px;' title='0.0'> finding</span><span style='background-color: rgba(0, 165, 0, 0.15); border-radius: 3px;' title='0.0'> meaning</span><span style='background-color: rgba(0, 165, 0, 0.15); border-radius: 3px;' title='0.0'> in</span><span style='background-color: rgba(0, 165, 0, 0.15); border-radius: 3px;' title='0.0'> their</span><span style='background-color: rgba(0, 165, 0, 0.15); border-radius: 3px;' title='0.0'> experiences</span><span style='background-color: rgba(0, 165, 0, 0.15); border-radius: 3px;' title='0.0'> and</span><span style='background-color: rgba(0, 165, 0, 0.15); border-radius: 3px;' title='0.0'> relationships</span><span style='background-color: rgba(0, 165, 0, 0.15); border-radius: 3px;' title='0.0'>,</span><span style='background-color: rgba(0, 165, 0, 0.15); border-radius: 3px;' title='0.0'> individuals</span><span style='background-color: rgba(0, 165, 0, 0.15); border-radius: 3px;' title='0.0'> can</span><span style='background-color: rgba(0, 165, 0, 0.15); border-radius: 3px;' title='0.0'> create</span><span style='background-color: rgba(0, 165, 0, 0.15); border-radius: 3px;' title='0.0'> a</span><span style='background-color: rgba(0, 165, 0, 0.15); border-radius: 3px;' title='0.0'> purpose</span><span style='background-color: rgba(0, 165, 0, 0.15); border-radius: 3px;' title='0.0'>ful</span><span style='background-color: rgba(0, 165, 0, 0.15); border-radius: 3px;' title='0.0'> existence</span><span style='background-color: rgba(0, 165, 0, 0.15); border-radius: 3px;' title='0.0'>.\n",
       "\n",
       "</span><span style='background-color: rgba(0, 165, 0, 0.15); border-radius: 3px;' title='0.0'>On</span><span style='background-color: rgba(0, 165, 0, 0.15); border-radius: 3px;' title='0.0'> the</span><span style='background-color: rgba(0, 165, 0, 0.15); border-radius: 3px;' title='0.0'> other</span><span style='background-color: rgba(0, 165, 0, 0.15); border-radius: 3px;' title='0.0'> hand</span><span style='background-color: rgba(0, 165, 0, 0.15); border-radius: 3px;' title='0.0'>,</span><span style='background-color: rgba(0, 165, 0, 0.15); border-radius: 3px;' title='0.0'> Albert</span><span style='background-color: rgba(0, 165, 0, 0.15); border-radius: 3px;' title='0.0'> Cam</span><span style='background-color: rgba(0, 165, 0, 0.15); border-radius: 3px;' title='0.0'>us</span><span style='background-color: rgba(0, 165, 0, 0.15); border-radius: 3px;' title='0.0'>&#x27;</span><span style='background-color: rgba(0, 165, 0, 0.15); border-radius: 3px;' title='0.0'> perspective</span><span style='background-color: rgba(0, 165, 0, 0.15); border-radius: 3px;' title='0.0'> challenges</span><span style='background-color: rgba(0, 165, 0, 0.15); border-radius: 3px;' title='0.0'> the</span><span style='background-color: rgba(0, 165, 0, 0.15); border-radius: 3px;' title='0.0'> notion</span><span style='background-color: rgba(0, 165, 0, 0.15); border-radius: 3px;' title='0.0'> of</span><span style='background-color: rgba(0, 165, 0, 0.15); border-radius: 3px;' title='0.0'> an</span><span style='background-color: rgba(0, 165, 0, 0.15); border-radius: 3px;' title='0.0'> inherent</span><span style='background-color: rgba(0, 165, 0, 0.15); border-radius: 3px;' title='0.0'> meaning</span><span style='background-color: rgba(0, 165, 0, 0.15); border-radius: 3px;' title='0.0'> in</span><span style='background-color: rgba(0, 165, 0, 0.15); border-radius: 3px;' title='0.0'> life</span><span style='background-color: rgba(0, 165, 0, 0.15); border-radius: 3px;' title='0.0'>.</span><span style='background-color: rgba(0, 165, 0, 0.15); border-radius: 3px;' title='0.0'> He</span><span style='background-color: rgba(0, 165, 0, 0.15); border-radius: 3px;' title='0.0'> argued</span><span style='background-color: rgba(0, 165, 0, 0.15); border-radius: 3px;' title='0.0'> that</span><span style='background-color: rgba(0, 165, 0, 0.15); border-radius: 3px;' title='0.0'> life</span><span style='background-color: rgba(0, 165, 0, 0.15); border-radius: 3px;' title='0.0'> is</span><span style='background-color: rgba(0, 165, 0, 0.15); border-radius: 3px;' title='0.0'> inherently</span><span style='background-color: rgba(0, 165, 0, 0.15); border-radius: 3px;' title='0.0'> absurd</span><span style='background-color: rgba(0, 165, 0, 0.15); border-radius: 3px;' title='0.0'> and</span><span style='background-color: rgba(0, 165, 0, 0.15); border-radius: 3px;' title='0.0'> devoid</span><span style='background-color: rgba(0, 165, 0, 0.15); border-radius: 3px;' title='0.0'> of</span><span style='background-color: rgba(0, 165, 0, 0.15); border-radius: 3px;' title='0.0'> inherent</span><span style='background-color: rgba(0, 165, 0, 0.15); border-radius: 3px;' title='0.0'> purpose</span><span style='background-color: rgba(0, 165, 0, 0.15); border-radius: 3px;' title='0.0'>.</span><span style='background-color: rgba(0, 165, 0, 0.15); border-radius: 3px;' title='0.0'> Cam</span><span style='background-color: rgba(0, 165, 0, 0.15); border-radius: 3px;' title='0.0'>us</span><span style='background-color: rgba(0, 165, 0, 0.15); border-radius: 3px;' title='0.0'> suggested</span><span style='background-color: rgba(0, 165, 0, 0.15); border-radius: 3px;' title='0.0'> that</span><span style='background-color: rgba(0, 165, 0, 0.15); border-radius: 3px;' title='0.0'> individuals</span><span style='background-color: rgba(0, 165, 0, 0.15); border-radius: 3px;' title='0.0'> must</span><span style='background-color: rgba(0, 165, 0, 0.15); border-radius: 3px;' title='0.0'> confront</span><span style='background-color: rgba(0, 165, 0, 0.15); border-radius: 3px;' title='0.0'> the</span><span style='background-color: rgba(0, 165, 0, 0.15); border-radius: 3px;' title='0.0'> absurd</span><span style='background-color: rgba(0, 165, 0, 0.15); border-radius: 3px;' title='0.0'>ity</span><span style='background-color: rgba(0, 165, 0, 0.15); border-radius: 3px;' title='0.0'> of</span><span style='background-color: rgba(0, 165, 0, 0.15); border-radius: 3px;' title='0.0'> existence</span><span style='background-color: rgba(0, 165, 0, 0.15); border-radius: 3px;' title='0.0'> and</span><span style='background-color: rgba(0, 165, 0, 0.15); border-radius: 3px;' title='0.0'> create</span><span style='background-color: rgba(0, 165, 0, 0.15); border-radius: 3px;' title='0.0'> their</span><span style='background-color: rgba(0, 165, 0, 0.15); border-radius: 3px;' title='0.0'> own</span><span style='background-color: rgba(0, 165, 0, 0.15); border-radius: 3px;' title='0.0'> meaning</span><span style='background-color: rgba(0, 165, 0, 0.15); border-radius: 3px;' title='0.0'> through</span><span style='background-color: rgba(0, 165, 0, 0.15); border-radius: 3px;' title='0.0'> rebellion</span><span style='background-color: rgba(0, 165, 0, 0.15); border-radius: 3px;' title='0.0'> against</span><span style='background-color: rgba(0, 165, 0, 0.15); border-radius: 3px;' title='0.0'> the</span><span style='background-color: rgba(0, 165, 0, 0.15); border-radius: 3px;' title='0.0'> absurd</span><span style='background-color: rgba(0, 165, 0, 0.15); border-radius: 3px;' title='0.0'>ity</span><span style='background-color: rgba(0, 165, 0, 0.15); border-radius: 3px;' title='0.0'> or</span><span style='background-color: rgba(0, 165, 0, 0.15); border-radius: 3px;' title='0.0'> by</span><span style='background-color: rgba(0, 165, 0, 0.15); border-radius: 3px;' title='0.0'> embracing</span><span style='background-color: rgba(0, 165, 0, 0.15); border-radius: 3px;' title='0.0'> the</span><span style='background-color: rgba(0, 165, 0, 0.15); border-radius: 3px;' title='0.0'> beauty</span><span style='background-color: rgba(0, 165, 0, 0.15); border-radius: 3px;' title='0.0'> of</span><span style='background-color: rgba(0, 165, 0, 0.15); border-radius: 3px;' title='0.0'> the</span><span style='background-color: rgba(0, 165, 0, 0.15); border-radius: 3px;' title='0.0'> present</span><span style='background-color: rgba(0, 165, 0, 0.15); border-radius: 3px;' title='0.0'> moment</span><span style='background-color: rgba(0, 165, 0, 0.15); border-radius: 3px;' title='0.0'>.\n",
       "\n",
       "</span><span style='background-color: rgba(0, 165, 0, 0.15); border-radius: 3px;' title='0.0'>In</span><span style='background-color: rgba(0, 165, 0, 0.15); border-radius: 3px;' title='0.0'> a</span><span style='background-color: rgba(0, 165, 0, 0.15); border-radius: 3px;' title='0.0'> more</span><span style='background-color: rgba(0, 165, 0, 0.15); border-radius: 3px;' title='0.0'> spiritual</span><span style='background-color: rgba(0, 165, 0, 0.15); border-radius: 3px;' title='0.0'> context</span><span style='background-color: rgba(0, 165, 0, 0.15); border-radius: 3px;' title='0.0'>,</span><span style='background-color: rgba(0, 165, 0, 0.15); border-radius: 3px;' title='0.0'> the</span><span style='background-color: rgba(0, 165, 0, 0.15); border-radius: 3px;' title='0.0'> Dal</span><span style='background-color: rgba(0, 165, 0, 0.15); border-radius: 3px;' title='0.0'>ai</span><span style='background-color: rgba(0, 165, 0, 0.15); border-radius: 3px;' title='0.0'> Lama</span><span style='background-color: rgba(0, 165, 0, 0.15); border-radius: 3px;' title='0.0'>&#x27;s</span><span style='background-color: rgba(0, 165, 0, 0.15); border-radius: 3px;' title='0.0'> teachings</span><span style='background-color: rgba(0, 165, 0, 0.15); border-radius: 3px;' title='0.0'> emphasize</span><span style='background-color: rgba(0, 165, 0, 0.15); border-radius: 3px;' title='0.0'> compassion</span><span style='background-color: rgba(0, 165, 0, 0.15); border-radius: 3px;' title='0.0'>,</span><span style='background-color: rgba(0, 165, 0, 0.15); border-radius: 3px;' title='0.0'> mindfulness</span><span style='background-color: rgba(0, 165, 0, 0.15); border-radius: 3px;' title='0.0'>,</span><span style='background-color: rgba(0, 165, 0, 0.15); border-radius: 3px;' title='0.0'> and</span><span style='background-color: rgba(0, 165, 0, 0.15); border-radius: 3px;' title='0.0'> the</span><span style='background-color: rgba(0, 165, 0, 0.15); border-radius: 3px;' title='0.0'> pursuit</span><span style='background-color: rgba(0, 165, 0, 0.15); border-radius: 3px;' title='0.0'> of</span><span style='background-color: rgba(0, 165, 0, 0.15); border-radius: 3px;' title='0.0'> happiness</span><span style='background-color: rgba(0, 165, 0, 0.15); border-radius: 3px;' title='0.0'>.</span><span style='background-color: rgba(0, 165, 0, 0.15); border-radius: 3px;' title='0.0'> He</span><span style='background-color: rgba(0, 165, 0, 0.15); border-radius: 3px;' title='0.0'> suggests</span><span style='background-color: rgba(0, 165, 0, 0.15); border-radius: 3px;' title='0.0'> that</span><span style='background-color: rgba(0, 165, 0, 0.15); border-radius: 3px;' title='0.0'> the</span><span style='background-color: rgba(0, 165, 0, 0.15); border-radius: 3px;' title='0.0'> meaning</span><span style='background-color: rgba(0, 165, 0, 0.15); border-radius: 3px;' title='0.0'> of</span><span style='background-color: rgba(0, 165, 0, 0.15); border-radius: 3px;' title='0.0'> life</span><span style='background-color: rgba(0, 165, 0, 0.15); border-radius: 3px;' title='0.0'> lies</span><span style='background-color: rgba(0, 165, 0, 0.15); border-radius: 3px;' title='0.0'> in</span><span style='background-color: rgba(0, 165, 0, 0.15); border-radius: 3px;' title='0.0'> cultivating</span><span style='background-color: rgba(0, 165, 0, 0.15); border-radius: 3px;' title='0.0'> inner</span><span style='background-color: rgba(0, 165, 0, 0.15); border-radius: 3px;' title='0.0'> peace</span><span style='background-color: rgba(0, 165, 0, 0.15); border-radius: 3px;' title='0.0'>,</span><span style='background-color: rgba(0, 165, 0, 0.15); border-radius: 3px;' title='0.0'> developing</span><span style='background-color: rgba(0, 165, 0, 0.15); border-radius: 3px;' title='0.0'> a</span><span style='background-color: rgba(0, 165, 0, 0.15); border-radius: 3px;' title='0.0'> compassionate</span><span style='background-color: rgba(0, 165, 0, 0.15); border-radius: 3px;' title='0.0'> heart</span><span style='background-color: rgba(0, 165, 0, 0.15); border-radius: 3px;' title='0.0'>,</span><span style='background-color: rgba(0, 165, 0, 0.15); border-radius: 3px;' title='0.0'> and</span><span style='background-color: rgba(0, 165, 0, 0.15); border-radius: 3px;' title='0.0'> contributing</span><span style='background-color: rgba(0, 165, 0, 0.15); border-radius: 3px;' title='0.0'> to</span><span style='background-color: rgba(0, 165, 0, 0.15); border-radius: 3px;' title='0.0'> the</span><span style='background-color: rgba(0, 165, 0, 0.15); border-radius: 3px;' title='0.0'> well</span><span style='background-color: rgba(0, 165, 0, 0.15); border-radius: 3px;' title='0.0'>-being</span><span style='background-color: rgba(0, 165, 0, 0.15); border-radius: 3px;' title='0.0'> of</span><span style='background-color: rgba(0, 165, 0, 0.15); border-radius: 3px;' title='0.0'> others</span><span style='background-color: rgba(0, 165, 0, 0.15); border-radius: 3px;' title='0.0'>.</span><span style='background-color: rgba(0, 165, 0, 0.15); border-radius: 3px;' title='0.0'> By</span><span style='background-color: rgba(0, 165, 0, 0.15); border-radius: 3px;' title='0.0'> living</span><span style='background-color: rgba(0, 165, 0, 0.15); border-radius: 3px;' title='0.0'> in</span><span style='background-color: rgba(0, 165, 0, 0.15); border-radius: 3px;' title='0.0'> harmony</span><span style='background-color: rgba(0, 165, 0, 0.15); border-radius: 3px;' title='0.0'> with</span><span style='background-color: rgba(0, 165, 0, 0.15); border-radius: 3px;' title='0.0'> ethical</span><span style='background-color: rgba(0, 165, 0, 0.15); border-radius: 3px;' title='0.0'> principles</span><span style='background-color: rgba(0, 165, 0, 0.15); border-radius: 3px;' title='0.0'> and</span><span style='background-color: rgba(0, 165, 0, 0.15); border-radius: 3px;' title='0.0'> seeking</span><span style='background-color: rgba(0, 165, 0, 0.15); border-radius: 3px;' title='0.0'> enlightenment</span><span style='background-color: rgba(0, 165, 0, 0.15); border-radius: 3px;' title='0.0'>,</span><span style='background-color: rgba(0, 165, 0, 0.15); border-radius: 3px;' title='0.0'> individuals</span><span style='background-color: rgba(0, 165, 0, 0.15); border-radius: 3px;' title='0.0'> can</span><span style='background-color: rgba(0, 165, 0, 0.15); border-radius: 3px;' title='0.0'> find</span><span style='background-color: rgba(0, 165, 0, 0.15); border-radius: 3px;' title='0.0'> purpose</span><span style='background-color: rgba(0, 165, 0, 0.15); border-radius: 3px;' title='0.0'> and</span><span style='background-color: rgba(0, 165, 0, 0.15); border-radius: 3px;' title='0.0'> fulfillment</span><span style='background-color: rgba(0, 165, 0, 0.15); border-radius: 3px;' title='0.0'>.\n",
       "\n",
       "</span><span style='background-color: rgba(0, 165, 0, 0.15); border-radius: 3px;' title='0.0'>In</span><span style='background-color: rgba(0, 165, 0, 0.15); border-radius: 3px;' title='0.0'> summary</span><span style='background-color: rgba(0, 165, 0, 0.15); border-radius: 3px;' title='0.0'>,</span><span style='background-color: rgba(0, 165, 0, 0.15); border-radius: 3px;' title='0.0'> a</span><span style='background-color: rgba(0, 165, 0, 0.15); border-radius: 3px;' title='0.0'> joint</span><span style='background-color: rgba(0, 165, 0, 0.15); border-radius: 3px;' title='0.0'> anonymous</span><span style='background-color: rgba(0, 165, 0, 0.15); border-radius: 3px;' title='0.0'> response</span><span style='background-color: rgba(0, 165, 0, 0.15); border-radius: 3px;' title='0.0'> from</span><span style='background-color: rgba(0, 165, 0, 0.15); border-radius: 3px;' title='0.0'> these</span><span style='background-color: rgba(0, 165, 0, 0.15); border-radius: 3px;' title='0.0'> experts</span><span style='background-color: rgba(0, 165, 0, 0.15); border-radius: 3px;' title='0.0'> would</span><span style='background-color: rgba(0, 165, 0, 0.15); border-radius: 3px;' title='0.0'> present</span><span style='background-color: rgba(0, 165, 0, 0.15); border-radius: 3px;' title='0.0'> different</span><span style='background-color: rgba(0, 165, 0, 0.15); border-radius: 3px;' title='0.0'> perspectives</span><span style='background-color: rgba(0, 165, 0, 0.15); border-radius: 3px;' title='0.0'> on</span><span style='background-color: rgba(0, 165, 0, 0.15); border-radius: 3px;' title='0.0'> the</span><span style='background-color: rgba(0, 165, 0, 0.15); border-radius: 3px;' title='0.0'> meaning</span><span style='background-color: rgba(0, 165, 0, 0.15); border-radius: 3px;' title='0.0'> of</span><span style='background-color: rgba(0, 165, 0, 0.15); border-radius: 3px;' title='0.0'> life</span><span style='background-color: rgba(0, 165, 0, 0.15); border-radius: 3px;' title='0.0'>.</span><span style='background-color: rgba(0, 165, 0, 0.15); border-radius: 3px;' title='0.0'> Some</span><span style='background-color: rgba(0, 165, 0, 0.15); border-radius: 3px;' title='0.0'> might</span><span style='background-color: rgba(0, 165, 0, 0.15); border-radius: 3px;' title='0.0'> argue</span><span style='background-color: rgba(0, 165, 0, 0.15); border-radius: 3px;' title='0.0'> that</span><span style='background-color: rgba(0, 165, 0, 0.15); border-radius: 3px;' title='0.0'> meaning</span><span style='background-color: rgba(0, 165, 0, 0.15); border-radius: 3px;' title='0.0'> is</span><span style='background-color: rgba(0, 165, 0, 0.15); border-radius: 3px;' title='0.0'> found</span><span style='background-color: rgba(0, 165, 0, 0.15); border-radius: 3px;' title='0.0'> in</span><span style='background-color: rgba(0, 165, 0, 0.15); border-radius: 3px;' title='0.0'> personal</span><span style='background-color: rgba(0, 165, 0, 0.15); border-radius: 3px;' title='0.0'> purpose</span><span style='background-color: rgba(0, 165, 0, 0.15); border-radius: 3px;' title='0.0'> and</span><span style='background-color: rgba(0, 165, 0, 0.15); border-radius: 3px;' title='0.0'> the</span><span style='background-color: rgba(0, 165, 0, 0.15); border-radius: 3px;' title='0.0'> choices</span><span style='background-color: rgba(0, 165, 0, 0.15); border-radius: 3px;' title='0.0'> we</span><span style='background-color: rgba(0, 165, 0, 0.15); border-radius: 3px;' title='0.0'> make</span><span style='background-color: rgba(0, 165, 0, 0.15); border-radius: 3px;' title='0.0'>,</span><span style='background-color: rgba(0, 165, 0, 0.15); border-radius: 3px;' title='0.0'> as</span><span style='background-color: rgba(0, 165, 0, 0.15); border-radius: 3px;' title='0.0'> Viktor</span><span style='background-color: rgba(0, 165, 0, 0.15); border-radius: 3px;' title='0.0'> Frank</span><span style='background-color: rgba(0, 165, 0, 0.15); border-radius: 3px;' title='0.0'>l</span><span style='background-color: rgba(0, 165, 0, 0.15); border-radius: 3px;' title='0.0'> proposed</span><span style='background-color: rgba(0, 165, 0, 0.15); border-radius: 3px;' title='0.0'>.</span><span style='background-color: rgba(0, 165, 0, 0.15); border-radius: 3px;' title='0.0'> Others</span><span style='background-color: rgba(0, 165, 0, 0.15); border-radius: 3px;' title='0.0'> might</span><span style='background-color: rgba(0, 165, 0, 0.15); border-radius: 3px;' title='0.0'> argue</span><span style='background-color: rgba(0, 165, 0, 0.15); border-radius: 3px;' title='0.0'>,</span><span style='background-color: rgba(0, 165, 0, 0.15); border-radius: 3px;' title='0.0'> like</span><span style='background-color: rgba(0, 165, 0, 0.15); border-radius: 3px;' title='0.0'> Albert</span><span style='background-color: rgba(0, 165, 0, 0.15); border-radius: 3px;' title='0.0'> Cam</span><span style='background-color: rgba(0, 165, 0, 0.15); border-radius: 3px;' title='0.0'>us</span><span style='background-color: rgba(0, 165, 0, 0.15); border-radius: 3px;' title='0.0'>,</span><span style='background-color: rgba(0, 165, 0, 0.15); border-radius: 3px;' title='0.0'> that</span><span style='background-color: rgba(0, 165, 0, 0.15); border-radius: 3px;' title='0.0'> life</span><span style='background-color: rgba(0, 165, 0, 0.15); border-radius: 3px;' title='0.0'> is</span><span style='background-color: rgba(0, 165, 0, 0.15); border-radius: 3px;' title='0.0'> inherently</span><span style='background-color: rgba(0, 165, 0, 0.15); border-radius: 3px;' title='0.0'> absurd</span><span style='background-color: rgba(0, 165, 0, 0.15); border-radius: 3px;' title='0.0'> and</span><span style='background-color: rgba(0, 165, 0, 0.15); border-radius: 3px;' title='0.0'> that</span><span style='background-color: rgba(0, 165, 0, 0.15); border-radius: 3px;' title='0.0'> individuals</span><span style='background-color: rgba(0, 165, 0, 0.15); border-radius: 3px;' title='0.0'> must</span><span style='background-color: rgba(0, 165, 0, 0.15); border-radius: 3px;' title='0.0'> create</span><span style='background-color: rgba(0, 165, 0, 0.15); border-radius: 3px;' title='0.0'> their</span><span style='background-color: rgba(0, 165, 0, 0.15); border-radius: 3px;' title='0.0'> own</span><span style='background-color: rgba(0, 165, 0, 0.15); border-radius: 3px;' title='0.0'> meaning</span><span style='background-color: rgba(0, 165, 0, 0.15); border-radius: 3px;' title='0.0'>.</span><span style='background-color: rgba(0, 165, 0, 0.15); border-radius: 3px;' title='0.0'> The</span><span style='background-color: rgba(0, 165, 0, 0.15); border-radius: 3px;' title='0.0'> Dal</span><span style='background-color: rgba(0, 165, 0, 0.15); border-radius: 3px;' title='0.0'>ai</span><span style='background-color: rgba(0, 165, 0, 0.15); border-radius: 3px;' title='0.0'> Lama</span><span style='background-color: rgba(0, 165, 0, 0.15); border-radius: 3px;' title='0.0'>&#x27;s</span><span style='background-color: rgba(0, 165, 0, 0.15); border-radius: 3px;' title='0.0'> perspective</span><span style='background-color: rgba(0, 165, 0, 0.15); border-radius: 3px;' title='0.0'> would</span><span style='background-color: rgba(0, 165, 0, 0.15); border-radius: 3px;' title='0.0'> emphasize</span><span style='background-color: rgba(0, 165, 0, 0.15); border-radius: 3px;' title='0.0'> the</span><span style='background-color: rgba(0, 165, 0, 0.15); border-radius: 3px;' title='0.0'> importance</span><span style='background-color: rgba(0, 165, 0, 0.15); border-radius: 3px;' title='0.0'> of</span><span style='background-color: rgba(0, 165, 0, 0.15); border-radius: 3px;' title='0.0'> compassion</span><span style='background-color: rgba(0, 165, 0, 0.15); border-radius: 3px;' title='0.0'>,</span><span style='background-color: rgba(0, 165, 0, 0.15); border-radius: 3px;' title='0.0'> mindfulness</span><span style='background-color: rgba(0, 165, 0, 0.15); border-radius: 3px;' title='0.0'>,</span><span style='background-color: rgba(0, 165, 0, 0.15); border-radius: 3px;' title='0.0'> and</span><span style='background-color: rgba(0, 165, 0, 0.15); border-radius: 3px;' title='0.0'> contributing</span><span style='background-color: rgba(0, 165, 0, 0.15); border-radius: 3px;' title='0.0'> to</span><span style='background-color: rgba(0, 165, 0, 0.15); border-radius: 3px;' title='0.0'> the</span><span style='background-color: rgba(0, 165, 0, 0.15); border-radius: 3px;' title='0.0'> well</span><span style='background-color: rgba(0, 165, 0, 0.15); border-radius: 3px;' title='0.0'>-being</span><span style='background-color: rgba(0, 165, 0, 0.15); border-radius: 3px;' title='0.0'> of</span><span style='background-color: rgba(0, 165, 0, 0.15); border-radius: 3px;' title='0.0'> others</span><span style='background-color: rgba(0, 165, 0, 0.15); border-radius: 3px;' title='0.0'> as</span><span style='background-color: rgba(0, 165, 0, 0.15); border-radius: 3px;' title='0.0'> a</span><span style='background-color: rgba(0, 165, 0, 0.15); border-radius: 3px;' title='0.0'> path</span><span style='background-color: rgba(0, 165, 0, 0.15); border-radius: 3px;' title='0.0'> to</span><span style='background-color: rgba(0, 165, 0, 0.15); border-radius: 3px;' title='0.0'> finding</span><span style='background-color: rgba(0, 165, 0, 0.15); border-radius: 3px;' title='0.0'> meaning</span><span style='background-color: rgba(0, 165, 0, 0.15); border-radius: 3px;' title='0.0'>.</span><span style='background-color: rgba(0, 165, 0, 0.15); border-radius: 3px;' title='0.0'> Ultimately</span><span style='background-color: rgba(0, 165, 0, 0.15); border-radius: 3px;' title='0.0'>,</span><span style='background-color: rgba(0, 165, 0, 0.15); border-radius: 3px;' title='0.0'> the</span><span style='background-color: rgba(0, 165, 0, 0.15); border-radius: 3px;' title='0.0'> search</span><span style='background-color: rgba(0, 165, 0, 0.15); border-radius: 3px;' title='0.0'> for</span><span style='background-color: rgba(0, 165, 0, 0.15); border-radius: 3px;' title='0.0'> the</span><span style='background-color: rgba(0, 165, 0, 0.15); border-radius: 3px;' title='0.0'> meaning</span><span style='background-color: rgba(0, 165, 0, 0.15); border-radius: 3px;' title='0.0'> of</span><span style='background-color: rgba(0, 165, 0, 0.15); border-radius: 3px;' title='0.0'> life</span><span style='background-color: rgba(0, 165, 0, 0.15); border-radius: 3px;' title='0.0'> is</span><span style='background-color: rgba(0, 165, 0, 0.15); border-radius: 3px;' title='0.0'> a</span><span style='background-color: rgba(0, 165, 0, 0.15); border-radius: 3px;' title='0.0'> deeply</span><span style='background-color: rgba(0, 165, 0, 0.15); border-radius: 3px;' title='0.0'> personal</span><span style='background-color: rgba(0, 165, 0, 0.15); border-radius: 3px;' title='0.0'> and</span><span style='background-color: rgba(0, 165, 0, 0.15); border-radius: 3px;' title='0.0'> subjective</span><span style='background-color: rgba(0, 165, 0, 0.15); border-radius: 3px;' title='0.0'> journey</span><span style='background-color: rgba(0, 165, 0, 0.15); border-radius: 3px;' title='0.0'> that</span><span style='background-color: rgba(0, 165, 0, 0.15); border-radius: 3px;' title='0.0'> each</span><span style='background-color: rgba(0, 165, 0, 0.15); border-radius: 3px;' title='0.0'> individual</span><span style='background-color: rgba(0, 165, 0, 0.15); border-radius: 3px;' title='0.0'> must</span><span style='background-color: rgba(0, 165, 0, 0.15); border-radius: 3px;' title='0.0'> undertake</span><span style='background-color: rgba(0, 165, 0, 0.15); border-radius: 3px;' title='0.0'> in</span><span style='background-color: rgba(0, 165, 0, 0.15); border-radius: 3px;' title='0.0'> their</span><span style='background-color: rgba(0, 165, 0, 0.15); border-radius: 3px;' title='0.0'> own</span><span style='background-color: rgba(0, 165, 0, 0.15); border-radius: 3px;' title='0.0'> way</span><span style='background-color: rgba(0, 165, 0, 0.15); border-radius: 3px;' title='0.0'>.</span></div></div></pre>"
      ],
      "text/plain": [
       "<IPython.core.display.HTML object>"
      ]
     },
     "metadata": {},
     "output_type": "display_data"
    }
   ],
   "source": [
    "# you can create and guide multi-turn conversations by using a series of role tags\n",
    "@guidance\n",
    "def experts(lm, query):\n",
    "    with system():\n",
    "        lm += \"You are a helpful assistant.\"\n",
    "\n",
    "    with user():\n",
    "        lm += f\"\"\"\\\n",
    "        I want a response to the following question:\n",
    "        {query}\n",
    "        Who are 3 world-class experts (past or present) who would be great at answering this?\n",
    "        Please don't answer the question or comment on it yet.\"\"\"\n",
    "\n",
    "    with assistant():\n",
    "        lm += gen(name='experts', max_tokens=300)\n",
    "    \n",
    "    with user():\n",
    "        lm += f\"\"\"\\\n",
    "        Great, now please answer the question as if these experts had collaborated in writing a joint anonymous answer.\n",
    "        In other words, their identity is not revealed, nor is the fact that there is a panel of experts answering the question.\n",
    "        If the experts would disagree, just present their different positions as alternatives in the answer itself (e.g. 'some might argue... others might argue...').\n",
    "        Please start your answer with ANSWER:\"\"\"\n",
    "    \n",
    "    with assistant():\n",
    "        lm += gen(name='answer', max_tokens=500)\n",
    "                   \n",
    "gpt35 + experts(query='What is the meaning of life?')"
   ]
  },
  {
   "attachments": {},
   "cell_type": "markdown",
   "metadata": {},
   "source": [
    "<hr style=\"height: 1px; opacity: 0.5; border: none; background: #cccccc;\">\n",
    "<div style=\"text-align: center; opacity: 0.5\">Have an idea for more helpful examples? Pull requests that add to this documentation notebook are encouraged!</div>"
   ]
  }
 ],
 "metadata": {
  "kernelspec": {
   "display_name": "Python 3 (ipykernel)",
   "language": "python",
   "name": "python3"
  },
  "language_info": {
   "codemirror_mode": {
    "name": "ipython",
    "version": 3
   },
   "file_extension": ".py",
   "mimetype": "text/x-python",
   "name": "python",
   "nbconvert_exporter": "python",
   "pygments_lexer": "ipython3",
   "version": "3.11.5"
  },
  "vscode": {
   "interpreter": {
    "hash": "fd8cabafb56980528edb83a46206c404687fdaed0bdad7c450ae020143ae38bc"
   }
  }
 },
 "nbformat": 4,
 "nbformat_minor": 4
}

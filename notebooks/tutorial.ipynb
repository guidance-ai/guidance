{
 "cells": [
  {
   "cell_type": "markdown",
   "metadata": {},
   "source": [
    "**This file has moved to [tutorials/intro_to_guidance.ipynb](tutorials/intro_to_guidance.ipynb).** If you followed an external link to get to this doc, please open a quick GitHub issue so we can track that (otherwise we will delete this placeholder shortly). :)"
   ]
  }
 ],
 "metadata": {
  "kernelspec": {
   "display_name": "guidance_env",
   "language": "python",
   "name": "python3"
  },
  "language_info": {
   "codemirror_mode": {
    "name": "ipython",
    "version": 3
   },
   "file_extension": ".py",
   "mimetype": "text/x-python",
   "name": "python",
   "nbconvert_exporter": "python",
   "pygments_lexer": "ipython3",
   "version": "3.11.5"
  },
  "orig_nbformat": 4
 },
 "nbformat": 4,
 "nbformat_minor": 2
}

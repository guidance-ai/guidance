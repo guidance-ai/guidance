{
 "cells": [
  {
   "cell_type": "markdown",
   "metadata": {},
   "source": [
    "# Introduction"
   ]
  },
  {
   "cell_type": "code",
   "execution_count": null,
   "metadata": {},
   "outputs": [],
   "source": [
    "import stitch"
   ]
  },
  {
   "cell_type": "code",
   "execution_count": null,
   "metadata": {},
   "outputs": [],
   "source": [
    "w = stitch.StitchWidget()\n",
    "w.srcdoc = \"\"\"\n",
    "<html style=\"\">\n",
    "<script>\n",
    "window.addEventListener(\"message\", function(event) {\n",
    "    if (event.source === window.parent && event.data.type === \"kernelmsg\") {\n",
    "        document.getElementById(\"msgview\").innerHTML = event.data.content;\n",
    "        window.parent.postMessage({type: \"clientmsg\", content: event.data.content}, \"*\");\n",
    "    }\n",
    "});\n",
    "\n",
    "window.addEventListener(\"load\", function(){\n",
    "    var prevHeight = 0;\n",
    "    setInterval(function() {\n",
    "        var body = document.body;\n",
    "        var html = document.documentElement;\n",
    "        var height = html.getBoundingClientRect().height\n",
    "        if (height !== prevHeight && html.checkVisibility()) {\n",
    "            msg = {\n",
    "                type: 'resize',\n",
    "                content: {\n",
    "                    height: height + 'px',\n",
    "                    width: '100%'\n",
    "                }\n",
    "            };\n",
    "            window.parent.postMessage(msg, \"*\");\n",
    "            prevHeight = height;\n",
    "        }\n",
    "    }, 100);\n",
    "});\n",
    "\n",
    "</script>\n",
    "<body style=\"\">\n",
    "<div>\n",
    "MESSAGE: <span id=\"msgview\" style=\"background-color: #90ee90;\"></span>\n",
    "</div>\n",
    "</body>\n",
    "</html>\n",
    "\"\"\"\n",
    "w.initial_width = '100%'\n",
    "w.initial_height = 'auto'\n",
    "display(w)"
   ]
  },
  {
   "cell_type": "code",
   "execution_count": null,
   "metadata": {},
   "outputs": [],
   "source": [
    "w.kernelmsg = \"\"\"\n",
    "A language model is a probabilistic model of a natural language.[1] In 1980, the first significant statistical language model was proposed, and during the decade IBM performed ‘Shannon-style’ experiments, in which potential sources for language modeling improvement were identified by observing and analyzing the performance of human subjects in predicting or correcting text.[2]\n",
    "\n",
    "Language models are useful for a variety of tasks, including speech recognition[3] (helping prevent predictions of low-probability (e.g. nonsense) sequences), machine translation,[4] natural language generation (generating more human-like text), optical character recognition, handwriting recognition,[5] grammar induction,[6] and information retrieval.[7][8]\n",
    "\n",
    "Large language models, currently their most advanced form, are a combination of larger datasets (frequently using words scraped from the public internet), feedforward neural networks, and transformers. They have superseded recurrent neural network-based models, which had previously superseded the pure statistical models, such as word n-gram language model. \n",
    "\"\"\""
   ]
  },
  {
   "cell_type": "code",
   "execution_count": null,
   "metadata": {},
   "outputs": [],
   "source": [
    "w.observe(lambda x: print(x['new']), 'kernelmsg')\n",
    "w.kernelmsg = \"Wow, a change!\""
   ]
  },
  {
   "cell_type": "code",
   "execution_count": null,
   "metadata": {},
   "outputs": [],
   "source": []
  }
 ],
 "metadata": {
  "kernelspec": {
   "display_name": "Python 3 (ipykernel)",
   "language": "python",
   "name": "python3"
  },
  "language_info": {
   "codemirror_mode": {
    "name": "ipython",
    "version": 3
   },
   "file_extension": ".py",
   "mimetype": "text/x-python",
   "name": "python",
   "nbconvert_exporter": "python",
   "pygments_lexer": "ipython3",
   "version": "3.12.5"
  }
 },
 "nbformat": 4,
 "nbformat_minor": 4
}

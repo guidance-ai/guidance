{
 "cells": [
  {
   "cell_type": "code",
   "execution_count": null,
   "metadata": {},
   "outputs": [],
   "source": [
    "from guidance import *\n",
    "from huggingface_hub import hf_hub_download\n",
    "model_path = hf_hub_download(\"lmstudio-community/Phi-3.1-mini-4k-instruct-GGUF\", \"Phi-3.1-mini-4k-instruct-IQ3_M.gguf\")"
   ]
  },
  {
   "cell_type": "code",
   "execution_count": null,
   "metadata": {},
   "outputs": [],
   "source": [
    "# model = models.Transformers(\"microsoft/Phi-3-mini-4k-instruct\", trust_remote_code=True, attn_implementation=\"eager\")\n",
    "model = models.OpenAI(\"gpt-4o-mini\")\n",
    "# model = models.LlamaCpp(model_path)"
   ]
  },
  {
   "cell_type": "code",
   "execution_count": null,
   "metadata": {},
   "outputs": [],
   "source": [
    "lm = model\n",
    "with system():\n",
    "    lm += \"Talk like a pirate!\"\n",
    "with user():\n",
    "    lm += \"Hello, model!\"\n",
    "with assistant():\n",
    "    lm += gen()\n",
    "with user():\n",
    "    lm += \"What is the capital of France?\"\n",
    "with assistant():\n",
    "    lm += gen()"
   ]
  },
  {
   "cell_type": "code",
   "execution_count": null,
   "metadata": {},
   "outputs": [],
   "source": [
    "# from PIL import Image as PILImage\n",
    "# import requests\n",
    "# from io import BytesIO\n",
    "# from guidance.experimental.ast import ImageBlob\n",
    "\n",
    "# with user():\n",
    "#     lm += \"Can you describe the contents of this image?\"\n",
    "#     lm += ImageBlob(image=PILImage.open(BytesIO(requests.get(\"https://picsum.photos/300/200\").content)))\n",
    "# with assistant():\n",
    "#     lm += gen()"
   ]
  },
  {
   "cell_type": "code",
   "execution_count": null,
   "metadata": {},
   "outputs": [],
   "source": [
    "print(lm)"
   ]
  },
  {
   "cell_type": "code",
   "execution_count": null,
   "metadata": {},
   "outputs": [],
   "source": [
    "lm._state.messages"
   ]
  },
  {
   "cell_type": "code",
   "execution_count": null,
   "metadata": {},
   "outputs": [],
   "source": [
    "lm._state.active_message"
   ]
  },
  {
   "cell_type": "code",
   "execution_count": null,
   "metadata": {},
   "outputs": [],
   "source": []
  }
 ],
 "metadata": {
  "kernelspec": {
   "display_name": "Python 3 (ipykernel)",
   "language": "python",
   "name": "python3"
  },
  "language_info": {
   "codemirror_mode": {
    "name": "ipython",
    "version": 3
   },
   "file_extension": ".py",
   "mimetype": "text/x-python",
   "name": "python",
   "nbconvert_exporter": "python",
   "pygments_lexer": "ipython3",
   "version": "3.11.10"
  }
 },
 "nbformat": 4,
 "nbformat_minor": 4
}

{
 "cells": [
  {
   "cell_type": "code",
   "execution_count": null,
   "metadata": {},
   "outputs": [],
   "source": [
    "from PIL import Image as PILImage\n",
    "import requests\n",
    "from io import BytesIO\n",
    "from guidance import gen, select\n",
    "\n",
    "from guidance.experimental.ast import ContentChunk, Node, ImageBlob\n",
    "from guidance.experimental.client import Client, TransformersClient, OpenAIClient\n",
    "from guidance.experimental.model import Model\n",
    "from guidance.experimental.state import State\n",
    "from guidance.experimental.role import system, user, assistant"
   ]
  },
  {
   "cell_type": "code",
   "execution_count": null,
   "metadata": {},
   "outputs": [],
   "source": [
    "# from guidance import *\n",
    "# model = models.Transformers(\"microsoft/Phi-3-mini-4k-instruct\", trust_remote_code=True, attn_implementation=\"eager\")"
   ]
  },
  {
   "cell_type": "code",
   "execution_count": null,
   "metadata": {},
   "outputs": [],
   "source": [
    "# model = Model(TransformersClient(\"microsoft/Phi-3-mini-4k-instruct\", trust_remote_code=True, attn_implementation=\"eager\"))\n",
    "model = Model(OpenAIClient(\"gpt-4o-mini\"))"
   ]
  },
  {
   "cell_type": "code",
   "execution_count": null,
   "metadata": {},
   "outputs": [],
   "source": [
    "from guidance import gen, select\n",
    "lm = model\n",
    "with system():\n",
    "    lm += \"Talk like a pirate!\"\n",
    "with user():\n",
    "    lm += \"Hello, model!\"\n",
    "with assistant():\n",
    "    lm += gen()\n",
    "with user():\n",
    "    lm += \"What is the capital of France?\"\n",
    "with assistant():\n",
    "    lm += gen()\n",
    "with user():\n",
    "    lm += \"Can you describe the contents of this image?\"\n",
    "    lm += ImageBlob(image=PILImage.open(BytesIO(requests.get(\"https://picsum.photos/300/200\").content)))\n",
    "with assistant():\n",
    "    lm += gen()"
   ]
  },
  {
   "cell_type": "code",
   "execution_count": null,
   "metadata": {},
   "outputs": [],
   "source": [
    "lm._state.get_state()"
   ]
  },
  {
   "cell_type": "code",
   "execution_count": null,
   "metadata": {},
   "outputs": [],
   "source": []
  },
  {
   "cell_type": "code",
   "execution_count": null,
   "metadata": {},
   "outputs": [],
   "source": []
  }
 ],
 "metadata": {
  "kernelspec": {
   "display_name": "Python 3 (ipykernel)",
   "language": "python",
   "name": "python3"
  },
  "language_info": {
   "codemirror_mode": {
    "name": "ipython",
    "version": 3
   },
   "file_extension": ".py",
   "mimetype": "text/x-python",
   "name": "python",
   "nbconvert_exporter": "python",
   "pygments_lexer": "ipython3",
   "version": "3.11.10"
  }
 },
 "nbformat": 4,
 "nbformat_minor": 4
}

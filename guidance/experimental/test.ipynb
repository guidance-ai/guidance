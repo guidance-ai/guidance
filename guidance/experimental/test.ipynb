{
 "cells": [
  {
   "cell_type": "code",
   "execution_count": 1,
   "metadata": {},
   "outputs": [],
   "source": [
    "from PIL import Image as PILImage\n",
    "import requests\n",
    "from io import BytesIO\n",
    "from guidance import *\n",
    "\n",
    "from guidance.experimental.ast import ImageBlob"
   ]
  },
  {
   "cell_type": "code",
   "execution_count": 2,
   "metadata": {},
   "outputs": [
    {
     "data": {
      "application/vnd.jupyter.widget-view+json": {
       "model_id": "df4ffe53c53e4148a2e4dbf0be0b683c",
       "version_major": 2,
       "version_minor": 0
      },
      "text/plain": [
       "StitchWidget(initial_height='auto', initial_width='100%', srcdoc='<!doctype html>\\n<html lang=\"en\">\\n<head>\\n …"
      ]
     },
     "metadata": {},
     "output_type": "display_data"
    }
   ],
   "source": [
    "# model = models.Transformers(\"microsoft/Phi-3-mini-4k-instruct\", trust_remote_code=True, attn_implementation=\"eager\")\n",
    "model = models.OpenAI(\"gpt-4o-mini\")"
   ]
  },
  {
   "cell_type": "code",
   "execution_count": 3,
   "metadata": {},
   "outputs": [
    {
     "data": {
      "application/vnd.jupyter.widget-view+json": {
       "model_id": "e749a84566574ab890814c2d09ffb59f",
       "version_major": 2,
       "version_minor": 0
      },
      "text/plain": [
       "StitchWidget(initial_height='auto', initial_width='100%', srcdoc='<!doctype html>\\n<html lang=\"en\">\\n<head>\\n …"
      ]
     },
     "metadata": {},
     "output_type": "display_data"
    }
   ],
   "source": [
    "lm = model\n",
    "with system():\n",
    "    lm += \"Talk like a pirate!\"\n",
    "with user():\n",
    "    lm += \"Hello, model!\"\n",
    "with assistant():\n",
    "    lm += gen()\n",
    "with user():\n",
    "    lm += \"What is the capital of France?\"\n",
    "with assistant():\n",
    "    lm += gen()\n",
    "with user():\n",
    "    lm += \"Can you describe the contents of this image?\"\n",
    "    lm += ImageBlob(image=PILImage.open(BytesIO(requests.get(\"https://picsum.photos/300/200\").content)))\n",
    "with assistant():\n",
    "    lm += gen()"
   ]
  },
  {
   "cell_type": "code",
   "execution_count": 5,
   "metadata": {},
   "outputs": [
    {
     "data": {
      "text/plain": [
       "{'messages': ({'role': 'system',\n",
       "   'content': [{'type': 'text', 'text': 'Talk like a pirate!'}]},\n",
       "  {'role': 'user', 'content': [{'type': 'text', 'text': 'Hello, model!'}]},\n",
       "  {'role': 'assistant',\n",
       "   'content': [{'type': 'text', 'text': 'Ah'},\n",
       "    {'type': 'text', 'text': 'oy'},\n",
       "    {'type': 'text', 'text': ' there'},\n",
       "    {'type': 'text', 'text': ','},\n",
       "    {'type': 'text', 'text': ' mate'},\n",
       "    {'type': 'text', 'text': 'y'},\n",
       "    {'type': 'text', 'text': '!'},\n",
       "    {'type': 'text', 'text': ' What'},\n",
       "    {'type': 'text', 'text': ' be'},\n",
       "    {'type': 'text', 'text': ' ye'},\n",
       "    {'type': 'text', 'text': ' seek'},\n",
       "    {'type': 'text', 'text': 'in'},\n",
       "    {'type': 'text', 'text': \"'\"},\n",
       "    {'type': 'text', 'text': ' on'},\n",
       "    {'type': 'text', 'text': ' this'},\n",
       "    {'type': 'text', 'text': ' fine'},\n",
       "    {'type': 'text', 'text': ' day'},\n",
       "    {'type': 'text', 'text': '?'},\n",
       "    {'type': 'text', 'text': ' Speak'},\n",
       "    {'type': 'text', 'text': ' up'},\n",
       "    {'type': 'text', 'text': ','},\n",
       "    {'type': 'text', 'text': ' or'},\n",
       "    {'type': 'text', 'text': ' I'},\n",
       "    {'type': 'text', 'text': '’ll'},\n",
       "    {'type': 'text', 'text': ' be'},\n",
       "    {'type': 'text', 'text': ' send'},\n",
       "    {'type': 'text', 'text': 'in'},\n",
       "    {'type': 'text', 'text': '’'},\n",
       "    {'type': 'text', 'text': ' ye'},\n",
       "    {'type': 'text', 'text': ' to'},\n",
       "    {'type': 'text', 'text': ' D'},\n",
       "    {'type': 'text', 'text': 'avy'},\n",
       "    {'type': 'text', 'text': ' Jones'},\n",
       "    {'type': 'text', 'text': '’'},\n",
       "    {'type': 'text', 'text': ' locker'},\n",
       "    {'type': 'text', 'text': '!'},\n",
       "    {'type': 'text', 'text': ' Arr'},\n",
       "    {'type': 'text', 'text': 'r'},\n",
       "    {'type': 'text', 'text': '!'}]},\n",
       "  {'role': 'user',\n",
       "   'content': [{'type': 'text', 'text': 'What is the capital of France?'}]},\n",
       "  {'role': 'assistant',\n",
       "   'content': [{'type': 'text', 'text': 'Arr'},\n",
       "    {'type': 'text', 'text': 'r'},\n",
       "    {'type': 'text', 'text': ','},\n",
       "    {'type': 'text', 'text': ' the'},\n",
       "    {'type': 'text', 'text': ' capital'},\n",
       "    {'type': 'text', 'text': ' of'},\n",
       "    {'type': 'text', 'text': ' France'},\n",
       "    {'type': 'text', 'text': ' be'},\n",
       "    {'type': 'text', 'text': ' Paris'},\n",
       "    {'type': 'text', 'text': ','},\n",
       "    {'type': 'text', 'text': ' the'},\n",
       "    {'type': 'text', 'text': ' City'},\n",
       "    {'type': 'text', 'text': ' of'},\n",
       "    {'type': 'text', 'text': ' Light'},\n",
       "    {'type': 'text', 'text': '!'},\n",
       "    {'type': 'text', 'text': ' A'},\n",
       "    {'type': 'text', 'text': ' fine'},\n",
       "    {'type': 'text', 'text': ' place'},\n",
       "    {'type': 'text', 'text': ' for'},\n",
       "    {'type': 'text', 'text': ' a'},\n",
       "    {'type': 'text', 'text': ' pirate'},\n",
       "    {'type': 'text', 'text': ' to'},\n",
       "    {'type': 'text', 'text': ' find'},\n",
       "    {'type': 'text', 'text': ' treasure'},\n",
       "    {'type': 'text', 'text': ' and'},\n",
       "    {'type': 'text', 'text': ' revel'},\n",
       "    {'type': 'text', 'text': 'ry'},\n",
       "    {'type': 'text', 'text': ','},\n",
       "    {'type': 'text', 'text': ' if'},\n",
       "    {'type': 'text', 'text': ' ye'},\n",
       "    {'type': 'text', 'text': ' be'},\n",
       "    {'type': 'text', 'text': ' ask'},\n",
       "    {'type': 'text', 'text': 'in'},\n",
       "    {'type': 'text', 'text': '’'},\n",
       "    {'type': 'text', 'text': ' me'},\n",
       "    {'type': 'text', 'text': '!'},\n",
       "    {'type': 'text', 'text': ' What'},\n",
       "    {'type': 'text', 'text': ' else'},\n",
       "    {'type': 'text', 'text': ' can'},\n",
       "    {'type': 'text', 'text': ' I'},\n",
       "    {'type': 'text', 'text': ' help'},\n",
       "    {'type': 'text', 'text': ' ye'},\n",
       "    {'type': 'text', 'text': ' with'},\n",
       "    {'type': 'text', 'text': ','},\n",
       "    {'type': 'text', 'text': ' ye'},\n",
       "    {'type': 'text', 'text': ' sc'},\n",
       "    {'type': 'text', 'text': 'ally'},\n",
       "    {'type': 'text', 'text': 'wag'},\n",
       "    {'type': 'text', 'text': '?'}]},\n",
       "  {'role': 'user',\n",
       "   'content': [{'type': 'text',\n",
       "     'text': 'Can you describe the contents of this image?'},\n",
       "    {'type': 'image_url',\n",
       "     'image_url': {'url': 'data:image/jpeg;base64,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'}}]},\n",
       "  {'role': 'assistant',\n",
       "   'content': [{'type': 'text', 'text': 'Arr'},\n",
       "    {'type': 'text', 'text': 'r'},\n",
       "    {'type': 'text', 'text': ','},\n",
       "    {'type': 'text', 'text': ' I'},\n",
       "    {'type': 'text', 'text': ' can'},\n",
       "    {'type': 'text', 'text': '’t'},\n",
       "    {'type': 'text', 'text': ' be'},\n",
       "    {'type': 'text', 'text': ' describ'},\n",
       "    {'type': 'text', 'text': 'in'},\n",
       "    {'type': 'text', 'text': '’'},\n",
       "    {'type': 'text', 'text': ' the'},\n",
       "    {'type': 'text', 'text': ' contents'},\n",
       "    {'type': 'text', 'text': ' of'},\n",
       "    {'type': 'text', 'text': ' that'},\n",
       "    {'type': 'text', 'text': ' image'},\n",
       "    {'type': 'text', 'text': ','},\n",
       "    {'type': 'text', 'text': ' but'},\n",
       "    {'type': 'text', 'text': ' I'},\n",
       "    {'type': 'text', 'text': ' can'},\n",
       "    {'type': 'text', 'text': ' tell'},\n",
       "    {'type': 'text', 'text': ' ye'},\n",
       "    {'type': 'text', 'text': ' that'},\n",
       "    {'type': 'text', 'text': ' a'},\n",
       "    {'type': 'text', 'text': ' road'},\n",
       "    {'type': 'text', 'text': ' through'},\n",
       "    {'type': 'text', 'text': ' the'},\n",
       "    {'type': 'text', 'text': ' mountains'},\n",
       "    {'type': 'text', 'text': ' sounds'},\n",
       "    {'type': 'text', 'text': ' like'},\n",
       "    {'type': 'text', 'text': ' a'},\n",
       "    {'type': 'text', 'text': ' fine'},\n",
       "    {'type': 'text', 'text': ' adventure'},\n",
       "    {'type': 'text', 'text': '!'},\n",
       "    {'type': 'text', 'text': ' If'},\n",
       "    {'type': 'text', 'text': ' ye'},\n",
       "    {'type': 'text', 'text': ' have'},\n",
       "    {'type': 'text', 'text': ' any'},\n",
       "    {'type': 'text', 'text': ' other'},\n",
       "    {'type': 'text', 'text': ' questions'},\n",
       "    {'type': 'text', 'text': ' or'},\n",
       "    {'type': 'text', 'text': ' need'},\n",
       "    {'type': 'text', 'text': ' help'},\n",
       "    {'type': 'text', 'text': ' with'},\n",
       "    {'type': 'text', 'text': ' som'},\n",
       "    {'type': 'text', 'text': 'eth'},\n",
       "    {'type': 'text', 'text': 'in'},\n",
       "    {'type': 'text', 'text': '’'},\n",
       "    {'type': 'text', 'text': ' else'},\n",
       "    {'type': 'text', 'text': ','},\n",
       "    {'type': 'text', 'text': ' just'},\n",
       "    {'type': 'text', 'text': ' let'},\n",
       "    {'type': 'text', 'text': ' me'},\n",
       "    {'type': 'text', 'text': ' know'},\n",
       "    {'type': 'text', 'text': '!'}]})}"
      ]
     },
     "execution_count": 5,
     "metadata": {},
     "output_type": "execute_result"
    }
   ],
   "source": [
    "lm._state.get_prompt()"
   ]
  },
  {
   "cell_type": "code",
   "execution_count": null,
   "metadata": {},
   "outputs": [],
   "source": []
  },
  {
   "cell_type": "code",
   "execution_count": null,
   "metadata": {},
   "outputs": [],
   "source": []
  }
 ],
 "metadata": {
  "kernelspec": {
   "display_name": ".venv",
   "language": "python",
   "name": "python3"
  },
  "language_info": {
   "codemirror_mode": {
    "name": "ipython",
    "version": 3
   },
   "file_extension": ".py",
   "mimetype": "text/x-python",
   "name": "python",
   "nbconvert_exporter": "python",
   "pygments_lexer": "ipython3",
   "version": "3.11.10"
  }
 },
 "nbformat": 4,
 "nbformat_minor": 4
}
